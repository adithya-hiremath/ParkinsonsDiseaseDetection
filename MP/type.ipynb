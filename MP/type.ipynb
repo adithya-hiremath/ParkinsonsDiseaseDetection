{
 "cells": [
  {
   "cell_type": "code",
   "execution_count": 1,
   "metadata": {},
   "outputs": [],
   "source": [
    "%matplotlib inline"
   ]
  },
  {
   "cell_type": "code",
   "execution_count": 6,
   "metadata": {},
   "outputs": [
    {
     "name": "stdout",
     "output_type": "stream",
     "text": [
      "Checking path: c:\\Users\\Akash R H\\OneDrive\\Desktop\\MINI PROJECT\\MP\\DATA\\input\\parkinsons-detection-python-files-for-notebook\n"
     ]
    }
   ],
   "source": [
    "import os\n",
    "from shutil import copyfile\n",
    "\n",
    "# Define the relative path to the source directory\n",
    "relative_path = r\"DATA\\TYPEDATA\\../input/parkinsons-detection-python-files-for-notebook\"\n",
    "\n",
    "# Get the absolute path based on the current working directory\n",
    "python_files_path = os.path.abspath(relative_path)\n",
    "\n",
    "# Print the absolute path for debugging\n",
    "print(f\"Checking path: {python_files_path}\")\n",
    "\n",
    "# Check if the directory exists\n",
    "if os.path.exists(python_files_path):\n",
    "    # List files in the directory\n",
    "    files = os.listdir(python_files_path)\n",
    "    \n",
    "    # Define the destination directory\n",
    "    destination_dir = os.path.join(os.getcwd(), \"working\")\n",
    "    \n",
    "    # Create the destination directory if it doesn't exist\n",
    "    os.makedirs(destination_dir, exist_ok=True)\n",
    "    \n",
    "    # Copy files from source to destination\n",
    "    for file in files:\n",
    "        src = os.path.join(python_files_path, file)\n",
    "        dst = os.path.join(destination_dir, file)\n",
    "        print(f\"Copying {src} to {dst}\")  # Debugging statement\n",
    "        copyfile(src, dst)\n",
    "\n"
   ]
  },
  {
   "cell_type": "code",
   "execution_count": 8,
   "metadata": {},
   "outputs": [
    {
     "ename": "ModuleNotFoundError",
     "evalue": "No module named 'constants'",
     "output_type": "error",
     "traceback": [
      "\u001b[1;31m---------------------------------------------------------------------------\u001b[0m",
      "\u001b[1;31mModuleNotFoundError\u001b[0m                       Traceback (most recent call last)",
      "Cell \u001b[1;32mIn[8], line 6\u001b[0m\n\u001b[0;32m      4\u001b[0m \u001b[38;5;28;01mfrom\u001b[39;00m \u001b[38;5;21;01msklearn\u001b[39;00m\u001b[38;5;21;01m.\u001b[39;00m\u001b[38;5;21;01msvm\u001b[39;00m \u001b[38;5;28;01mimport\u001b[39;00m SVC, NuSVC, SVR\n\u001b[0;32m      5\u001b[0m \u001b[38;5;28;01mfrom\u001b[39;00m \u001b[38;5;21;01mscipy\u001b[39;00m \u001b[38;5;28;01mimport\u001b[39;00m stats\n\u001b[1;32m----> 6\u001b[0m \u001b[38;5;28;01mfrom\u001b[39;00m \u001b[38;5;21;01mconstants\u001b[39;00m \u001b[38;5;28;01mimport\u001b[39;00m \u001b[38;5;241m*\u001b[39m\n\u001b[0;32m      7\u001b[0m \u001b[38;5;28;01mfrom\u001b[39;00m \u001b[38;5;21;01mauxiliary_functions\u001b[39;00m \u001b[38;5;28;01mimport\u001b[39;00m \u001b[38;5;241m*\u001b[39m\n\u001b[0;32m      8\u001b[0m \u001b[38;5;28;01mfrom\u001b[39;00m \u001b[38;5;21;01mmatplotlib\u001b[39;00m \u001b[38;5;28;01mimport\u001b[39;00m pyplot \u001b[38;5;28;01mas\u001b[39;00m plt\n",
      "\u001b[1;31mModuleNotFoundError\u001b[0m: No module named 'constants'"
     ]
    }
   ],
   "source": [
    "import pandas as pd\n",
    "import numpy as np\n",
    "import warnings\n",
    "from sklearn.svm import SVC, NuSVC, SVR\n",
    "from scipy import stats\n",
    "from constants import *\n",
    "from auxiliary_functions import *\n",
    "from matplotlib import pyplot as plt\n",
    "from sklearn.model_selection import cross_validate, cross_val_score, train_test_split, KFold, StratifiedKFold, GridSearchCV\n",
    "from sklearn.preprocessing import StandardScaler, MinMaxScaler\n",
    "from sklearn.ensemble import RandomForestClassifier, GradientBoostingClassifier, GradientBoostingRegressor, VotingClassifier, AdaBoostClassifier, BaggingRegressor\n",
    "from sklearn.linear_model import LogisticRegression, SGDClassifier\n",
    "from sklearn.neighbors import KNeighborsClassifier\n",
    "from sklearn.neural_network import MLPClassifier\n",
    "from sklearn.discriminant_analysis import LinearDiscriminantAnalysis, QuadraticDiscriminantAnalysis\n",
    "from collections import namedtuple\n",
    "from sklearn.decomposition import PCA\n",
    "from os import cpu_count\n",
    "from TwoGroupsWeightedModel import TwoGroupsWeightedModel\n",
    "from sklearn.neural_network import MLPClassifier\n",
    "from sklearn.tree import DecisionTreeClassifier\n",
    "from scipy.stats import iqr, kurtosis, skew\n",
    "from create_nqi_features_with_hand_direction_partition import create_nqi_features_from_raw_data_with_sides_partitions\n",
    "from method1_feature_extraction import *\n",
    "from plots import *\n",
    "import random"
   ]
  }
 ],
 "metadata": {
  "kernelspec": {
   "display_name": "Python 3",
   "language": "python",
   "name": "python3"
  },
  "language_info": {
   "codemirror_mode": {
    "name": "ipython",
    "version": 3
   },
   "file_extension": ".py",
   "mimetype": "text/x-python",
   "name": "python",
   "nbconvert_exporter": "python",
   "pygments_lexer": "ipython3",
   "version": "3.12.5"
  }
 },
 "nbformat": 4,
 "nbformat_minor": 2
}
