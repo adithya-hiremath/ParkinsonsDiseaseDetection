{
 "cells": [
  {
   "cell_type": "code",
   "execution_count": 1,
   "id": "62fb015f",
   "metadata": {
    "_cell_guid": "b1076dfc-b9ad-4769-8c92-a6c4dae69d19",
    "_uuid": "8f2839f25d086af736a60e9eeb907d3b93b6e0e5",
    "execution": {
     "iopub.execute_input": "2024-01-22T15:44:59.906369Z",
     "iopub.status.busy": "2024-01-22T15:44:59.906001Z",
     "iopub.status.idle": "2024-01-22T15:45:06.736193Z",
     "shell.execute_reply": "2024-01-22T15:45:06.735387Z"
    },
    "papermill": {
     "duration": 6.849185,
     "end_time": "2024-01-22T15:45:06.738579",
     "exception": false,
     "start_time": "2024-01-22T15:44:59.889394",
     "status": "completed"
    },
    "tags": []
   },
   "outputs": [
    {
     "name": "stderr",
     "output_type": "stream",
     "text": [
      "/opt/conda/lib/python3.10/site-packages/scipy/__init__.py:146: UserWarning: A NumPy version >=1.16.5 and <1.23.0 is required for this version of SciPy (detected version 1.24.3\n",
      "  warnings.warn(f\"A NumPy version >={np_minversion} and <{np_maxversion}\"\n",
      "/opt/conda/lib/python3.10/site-packages/dask/dataframe/_pyarrow_compat.py:23: UserWarning:\n",
      "\n",
      "You are using pyarrow version 11.0.0 which is known to be insecure. See https://www.cve.org/CVERecord?id=CVE-2023-47248 for further details. Please upgrade to pyarrow>=14.0.1 or install pyarrow-hotfix to patch your current version.\n",
      "\n"
     ]
    }
   ],
   "source": [
    "import numpy as np # type: ignore\n",
    "import pandas as pd # type: ignore\n",
    "import matplotlib.pyplot as plt # type: ignore\n",
    "import seaborn as sns # type: ignore\n",
    "import os\n",
    "import plotly.express as px # type: ignore\n",
    "import cufflinks as cf # type: ignore\n",
    "from plotly.offline import download_plotlyjs,init_notebook_mode,iplot # type: ignore\n",
    "from sklearn.model_selection import train_test_split # type: ignore\n",
    "from sklearn.preprocessing import StandardScaler,MinMaxScaler # type: ignore\n",
    "from sklearn.linear_model import LogisticRegression # type: ignore\n",
    "from catboost import Pool, CatBoostClassifier, cv # type: ignore\n",
    "from xgboost import XGBClassifier # type: ignore\n",
    "from lightgbm import LGBMClassifier # type: ignore\n",
    "from sklearn.model_selection import train_test_split, cross_val_score, GridSearchCV, cross_validate, StratifiedKFold, RepeatedStratifiedKFold # type: ignore\n",
    "from sklearn.metrics import accuracy_score, roc_auc_score, confusion_matrix # type: ignore\n",
    "from sklearn.metrics import average_precision_score,classification_report # type: ignore\n",
    "from sklearn.ensemble import RandomForestClassifier # type: ignore\n",
    "import optuna # type: ignore\n",
    "import warnings # type: ignore\n",
    "warnings.filterwarnings(\"ignore\")\n",
    "%matplotlib inline"
   ]
  },
  {
   "cell_type": "code",
   "execution_count": 2,
   "id": "96d87ed2",
   "metadata": {
    "execution": {
     "iopub.execute_input": "2024-01-22T15:45:06.865884Z",
     "iopub.status.busy": "2024-01-22T15:45:06.864886Z",
     "iopub.status.idle": "2024-01-22T15:45:06.912529Z",
     "shell.execute_reply": "2024-01-22T15:45:06.911642Z"
    },
    "papermill": {
     "duration": 0.066268,
     "end_time": "2024-01-22T15:45:06.914469",
     "exception": false,
     "start_time": "2024-01-22T15:45:06.848201",
     "status": "completed"
    },
    "tags": []
   },
   "outputs": [
    {
     "data": {
      "text/html": [
       "<div>\n",
       "<style scoped>\n",
       "    .dataframe tbody tr th:only-of-type {\n",
       "        vertical-align: middle;\n",
       "    }\n",
       "\n",
       "    .dataframe tbody tr th {\n",
       "        vertical-align: top;\n",
       "    }\n",
       "\n",
       "    .dataframe thead th {\n",
       "        text-align: right;\n",
       "    }\n",
       "</style>\n",
       "<table border=\"1\" class=\"dataframe\">\n",
       "  <thead>\n",
       "    <tr style=\"text-align: right;\">\n",
       "      <th></th>\n",
       "      <th>Time</th>\n",
       "      <th>AccV</th>\n",
       "      <th>AccML</th>\n",
       "      <th>AccAP</th>\n",
       "      <th>StartHesitation</th>\n",
       "      <th>Turn</th>\n",
       "      <th>Walking</th>\n",
       "    </tr>\n",
       "  </thead>\n",
       "  <tbody>\n",
       "    <tr>\n",
       "      <th>0</th>\n",
       "      <td>0</td>\n",
       "      <td>-9.533939</td>\n",
       "      <td>0.566322</td>\n",
       "      <td>-1.413525</td>\n",
       "      <td>0</td>\n",
       "      <td>0</td>\n",
       "      <td>0</td>\n",
       "    </tr>\n",
       "    <tr>\n",
       "      <th>1</th>\n",
       "      <td>1</td>\n",
       "      <td>-9.536140</td>\n",
       "      <td>0.564137</td>\n",
       "      <td>-1.440621</td>\n",
       "      <td>0</td>\n",
       "      <td>0</td>\n",
       "      <td>0</td>\n",
       "    </tr>\n",
       "    <tr>\n",
       "      <th>2</th>\n",
       "      <td>2</td>\n",
       "      <td>-9.529345</td>\n",
       "      <td>0.561765</td>\n",
       "      <td>-1.429332</td>\n",
       "      <td>0</td>\n",
       "      <td>0</td>\n",
       "      <td>0</td>\n",
       "    </tr>\n",
       "    <tr>\n",
       "      <th>3</th>\n",
       "      <td>3</td>\n",
       "      <td>-9.531239</td>\n",
       "      <td>0.564227</td>\n",
       "      <td>-1.415490</td>\n",
       "      <td>0</td>\n",
       "      <td>0</td>\n",
       "      <td>0</td>\n",
       "    </tr>\n",
       "    <tr>\n",
       "      <th>4</th>\n",
       "      <td>4</td>\n",
       "      <td>-9.540825</td>\n",
       "      <td>0.561854</td>\n",
       "      <td>-1.429471</td>\n",
       "      <td>0</td>\n",
       "      <td>0</td>\n",
       "      <td>0</td>\n",
       "    </tr>\n",
       "  </tbody>\n",
       "</table>\n",
       "</div>"
      ],
      "text/plain": [
       "   Time      AccV     AccML     AccAP  StartHesitation  Turn  Walking\n",
       "0     0 -9.533939  0.566322 -1.413525                0     0        0\n",
       "1     1 -9.536140  0.564137 -1.440621                0     0        0\n",
       "2     2 -9.529345  0.561765 -1.429332                0     0        0\n",
       "3     3 -9.531239  0.564227 -1.415490                0     0        0\n",
       "4     4 -9.540825  0.561854 -1.429471                0     0        0"
      ]
     },
     "execution_count": 2,
     "metadata": {},
     "output_type": "execute_result"
    }
   ],
   "source": [
    "tdcsfog_003f117e14 = pd.read_csv('C:\\Users\\Akash R H\\OneDrive\\Desktop\\MINI PROJECT\\GAIT')\n",
    "tdcsfog_003f117e14.head()"
   ]
  },
  {
   "cell_type": "code",
   "execution_count": 3,
   "id": "608ee3ad",
   "metadata": {
    "execution": {
     "iopub.execute_input": "2024-01-22T15:45:06.979206Z",
     "iopub.status.busy": "2024-01-22T15:45:06.978851Z",
     "iopub.status.idle": "2024-01-22T15:45:06.999415Z",
     "shell.execute_reply": "2024-01-22T15:45:06.998294Z"
    },
    "papermill": {
     "duration": 0.039378,
     "end_time": "2024-01-22T15:45:07.001424",
     "exception": false,
     "start_time": "2024-01-22T15:45:06.962046",
     "status": "completed"
    },
    "tags": []
   },
   "outputs": [
    {
     "name": "stdout",
     "output_type": "stream",
     "text": [
      "<class 'pandas.core.frame.DataFrame'>\n",
      "RangeIndex: 4682 entries, 0 to 4681\n",
      "Data columns (total 7 columns):\n",
      " #   Column           Non-Null Count  Dtype  \n",
      "---  ------           --------------  -----  \n",
      " 0   Time             4682 non-null   int64  \n",
      " 1   AccV             4682 non-null   float64\n",
      " 2   AccML            4682 non-null   float64\n",
      " 3   AccAP            4682 non-null   float64\n",
      " 4   StartHesitation  4682 non-null   int64  \n",
      " 5   Turn             4682 non-null   int64  \n",
      " 6   Walking          4682 non-null   int64  \n",
      "dtypes: float64(3), int64(4)\n",
      "memory usage: 256.2 KB\n"
     ]
    }
   ],
   "source": [
    "tdcsfog_003f117e14.info()"
   ]
  },
  {
   "cell_type": "code",
   "execution_count": 4,
   "id": "ec94ba2f",
   "metadata": {
    "execution": {
     "iopub.execute_input": "2024-01-22T15:45:07.035272Z",
     "iopub.status.busy": "2024-01-22T15:45:07.034985Z",
     "iopub.status.idle": "2024-01-22T15:45:07.063170Z",
     "shell.execute_reply": "2024-01-22T15:45:07.062221Z"
    },
    "papermill": {
     "duration": 0.047185,
     "end_time": "2024-01-22T15:45:07.065230",
     "exception": false,
     "start_time": "2024-01-22T15:45:07.018045",
     "status": "completed"
    },
    "tags": []
   },
   "outputs": [
    {
     "data": {
      "text/html": [
       "<div>\n",
       "<style scoped>\n",
       "    .dataframe tbody tr th:only-of-type {\n",
       "        vertical-align: middle;\n",
       "    }\n",
       "\n",
       "    .dataframe tbody tr th {\n",
       "        vertical-align: top;\n",
       "    }\n",
       "\n",
       "    .dataframe thead th {\n",
       "        text-align: right;\n",
       "    }\n",
       "</style>\n",
       "<table border=\"1\" class=\"dataframe\">\n",
       "  <thead>\n",
       "    <tr style=\"text-align: right;\">\n",
       "      <th></th>\n",
       "      <th>Time</th>\n",
       "      <th>AccV</th>\n",
       "      <th>AccML</th>\n",
       "      <th>AccAP</th>\n",
       "      <th>StartHesitation</th>\n",
       "      <th>Turn</th>\n",
       "      <th>Walking</th>\n",
       "    </tr>\n",
       "  </thead>\n",
       "  <tbody>\n",
       "    <tr>\n",
       "      <th>count</th>\n",
       "      <td>4682.00000</td>\n",
       "      <td>4682.000000</td>\n",
       "      <td>4682.000000</td>\n",
       "      <td>4682.000000</td>\n",
       "      <td>4682.0</td>\n",
       "      <td>4682.000000</td>\n",
       "      <td>4682.0</td>\n",
       "    </tr>\n",
       "    <tr>\n",
       "      <th>mean</th>\n",
       "      <td>2340.50000</td>\n",
       "      <td>-9.151214</td>\n",
       "      <td>0.753518</td>\n",
       "      <td>2.471637</td>\n",
       "      <td>0.0</td>\n",
       "      <td>0.168304</td>\n",
       "      <td>0.0</td>\n",
       "    </tr>\n",
       "    <tr>\n",
       "      <th>std</th>\n",
       "      <td>1351.72131</td>\n",
       "      <td>1.384390</td>\n",
       "      <td>1.102125</td>\n",
       "      <td>2.239906</td>\n",
       "      <td>0.0</td>\n",
       "      <td>0.374176</td>\n",
       "      <td>0.0</td>\n",
       "    </tr>\n",
       "    <tr>\n",
       "      <th>min</th>\n",
       "      <td>0.00000</td>\n",
       "      <td>-23.796051</td>\n",
       "      <td>-9.097370</td>\n",
       "      <td>-7.353417</td>\n",
       "      <td>0.0</td>\n",
       "      <td>0.000000</td>\n",
       "      <td>0.0</td>\n",
       "    </tr>\n",
       "    <tr>\n",
       "      <th>25%</th>\n",
       "      <td>1170.25000</td>\n",
       "      <td>-9.537719</td>\n",
       "      <td>0.322877</td>\n",
       "      <td>1.966646</td>\n",
       "      <td>0.0</td>\n",
       "      <td>0.000000</td>\n",
       "      <td>0.0</td>\n",
       "    </tr>\n",
       "    <tr>\n",
       "      <th>50%</th>\n",
       "      <td>2340.50000</td>\n",
       "      <td>-9.234702</td>\n",
       "      <td>0.580891</td>\n",
       "      <td>3.137857</td>\n",
       "      <td>0.0</td>\n",
       "      <td>0.000000</td>\n",
       "      <td>0.0</td>\n",
       "    </tr>\n",
       "    <tr>\n",
       "      <th>75%</th>\n",
       "      <td>3510.75000</td>\n",
       "      <td>-8.470460</td>\n",
       "      <td>1.368355</td>\n",
       "      <td>3.819931</td>\n",
       "      <td>0.0</td>\n",
       "      <td>0.000000</td>\n",
       "      <td>0.0</td>\n",
       "    </tr>\n",
       "    <tr>\n",
       "      <th>max</th>\n",
       "      <td>4681.00000</td>\n",
       "      <td>-3.915590</td>\n",
       "      <td>5.996704</td>\n",
       "      <td>10.281080</td>\n",
       "      <td>0.0</td>\n",
       "      <td>1.000000</td>\n",
       "      <td>0.0</td>\n",
       "    </tr>\n",
       "  </tbody>\n",
       "</table>\n",
       "</div>"
      ],
      "text/plain": [
       "             Time         AccV        AccML        AccAP  StartHesitation  \\\n",
       "count  4682.00000  4682.000000  4682.000000  4682.000000           4682.0   \n",
       "mean   2340.50000    -9.151214     0.753518     2.471637              0.0   \n",
       "std    1351.72131     1.384390     1.102125     2.239906              0.0   \n",
       "min       0.00000   -23.796051    -9.097370    -7.353417              0.0   \n",
       "25%    1170.25000    -9.537719     0.322877     1.966646              0.0   \n",
       "50%    2340.50000    -9.234702     0.580891     3.137857              0.0   \n",
       "75%    3510.75000    -8.470460     1.368355     3.819931              0.0   \n",
       "max    4681.00000    -3.915590     5.996704    10.281080              0.0   \n",
       "\n",
       "              Turn  Walking  \n",
       "count  4682.000000   4682.0  \n",
       "mean      0.168304      0.0  \n",
       "std       0.374176      0.0  \n",
       "min       0.000000      0.0  \n",
       "25%       0.000000      0.0  \n",
       "50%       0.000000      0.0  \n",
       "75%       0.000000      0.0  \n",
       "max       1.000000      0.0  "
      ]
     },
     "execution_count": 4,
     "metadata": {},
     "output_type": "execute_result"
    }
   ],
   "source": [
    "tdcsfog_003f117e14.describe()"
   ]
  },
  {
   "cell_type": "code",
   "execution_count": 5,
   "id": "58be3cc8",
   "metadata": {
    "execution": {
     "iopub.execute_input": "2024-01-22T15:45:07.099649Z",
     "iopub.status.busy": "2024-01-22T15:45:07.099370Z",
     "iopub.status.idle": "2024-01-22T15:45:07.400661Z",
     "shell.execute_reply": "2024-01-22T15:45:07.399762Z"
    },
    "papermill": {
     "duration": 0.320413,
     "end_time": "2024-01-22T15:45:07.402630",
     "exception": false,
     "start_time": "2024-01-22T15:45:07.082217",
     "status": "completed"
    },
    "tags": []
   },
   "outputs": [
    {
     "data": {
      "text/html": [
       "<div>\n",
       "<style scoped>\n",
       "    .dataframe tbody tr th:only-of-type {\n",
       "        vertical-align: middle;\n",
       "    }\n",
       "\n",
       "    .dataframe tbody tr th {\n",
       "        vertical-align: top;\n",
       "    }\n",
       "\n",
       "    .dataframe thead th {\n",
       "        text-align: right;\n",
       "    }\n",
       "</style>\n",
       "<table border=\"1\" class=\"dataframe\">\n",
       "  <thead>\n",
       "    <tr style=\"text-align: right;\">\n",
       "      <th></th>\n",
       "      <th>Time</th>\n",
       "      <th>AccV</th>\n",
       "      <th>AccML</th>\n",
       "      <th>AccAP</th>\n",
       "      <th>StartHesitation</th>\n",
       "      <th>Turn</th>\n",
       "      <th>Walking</th>\n",
       "      <th>Valid</th>\n",
       "      <th>Task</th>\n",
       "    </tr>\n",
       "  </thead>\n",
       "  <tbody>\n",
       "    <tr>\n",
       "      <th>0</th>\n",
       "      <td>0</td>\n",
       "      <td>-1.0</td>\n",
       "      <td>0.044129</td>\n",
       "      <td>-0.25</td>\n",
       "      <td>0</td>\n",
       "      <td>0</td>\n",
       "      <td>0</td>\n",
       "      <td>False</td>\n",
       "      <td>False</td>\n",
       "    </tr>\n",
       "    <tr>\n",
       "      <th>1</th>\n",
       "      <td>1</td>\n",
       "      <td>-1.0</td>\n",
       "      <td>0.034431</td>\n",
       "      <td>-0.25</td>\n",
       "      <td>0</td>\n",
       "      <td>0</td>\n",
       "      <td>0</td>\n",
       "      <td>False</td>\n",
       "      <td>False</td>\n",
       "    </tr>\n",
       "    <tr>\n",
       "      <th>2</th>\n",
       "      <td>2</td>\n",
       "      <td>-1.0</td>\n",
       "      <td>0.031250</td>\n",
       "      <td>-0.25</td>\n",
       "      <td>0</td>\n",
       "      <td>0</td>\n",
       "      <td>0</td>\n",
       "      <td>False</td>\n",
       "      <td>False</td>\n",
       "    </tr>\n",
       "    <tr>\n",
       "      <th>3</th>\n",
       "      <td>3</td>\n",
       "      <td>-1.0</td>\n",
       "      <td>0.031250</td>\n",
       "      <td>-0.25</td>\n",
       "      <td>0</td>\n",
       "      <td>0</td>\n",
       "      <td>0</td>\n",
       "      <td>False</td>\n",
       "      <td>False</td>\n",
       "    </tr>\n",
       "    <tr>\n",
       "      <th>4</th>\n",
       "      <td>4</td>\n",
       "      <td>-1.0</td>\n",
       "      <td>0.031250</td>\n",
       "      <td>-0.25</td>\n",
       "      <td>0</td>\n",
       "      <td>0</td>\n",
       "      <td>0</td>\n",
       "      <td>False</td>\n",
       "      <td>False</td>\n",
       "    </tr>\n",
       "  </tbody>\n",
       "</table>\n",
       "</div>"
      ],
      "text/plain": [
       "   Time  AccV     AccML  AccAP  StartHesitation  Turn  Walking  Valid   Task\n",
       "0     0  -1.0  0.044129  -0.25                0     0        0  False  False\n",
       "1     1  -1.0  0.034431  -0.25                0     0        0  False  False\n",
       "2     2  -1.0  0.031250  -0.25                0     0        0  False  False\n",
       "3     3  -1.0  0.031250  -0.25                0     0        0  False  False\n",
       "4     4  -1.0  0.031250  -0.25                0     0        0  False  False"
      ]
     },
     "execution_count": 5,
     "metadata": {},
     "output_type": "execute_result"
    }
   ],
   "source": [
    "defog_02ea782681 = pd.read_csv('/kaggle/input/tlvmc-parkinsons-freezing-gait-prediction/train/defog/02ea782681.csv')\n",
    "defog_02ea782681.head()"
   ]
  },
  {
   "cell_type": "code",
   "execution_count": 6,
   "id": "944b70d7",
   "metadata": {
    "execution": {
     "iopub.execute_input": "2024-01-22T15:45:07.437498Z",
     "iopub.status.busy": "2024-01-22T15:45:07.437174Z",
     "iopub.status.idle": "2024-01-22T15:45:07.447982Z",
     "shell.execute_reply": "2024-01-22T15:45:07.446964Z"
    },
    "papermill": {
     "duration": 0.030452,
     "end_time": "2024-01-22T15:45:07.450052",
     "exception": false,
     "start_time": "2024-01-22T15:45:07.419600",
     "status": "completed"
    },
    "tags": []
   },
   "outputs": [
    {
     "name": "stdout",
     "output_type": "stream",
     "text": [
      "<class 'pandas.core.frame.DataFrame'>\n",
      "RangeIndex: 162907 entries, 0 to 162906\n",
      "Data columns (total 9 columns):\n",
      " #   Column           Non-Null Count   Dtype  \n",
      "---  ------           --------------   -----  \n",
      " 0   Time             162907 non-null  int64  \n",
      " 1   AccV             162907 non-null  float64\n",
      " 2   AccML            162907 non-null  float64\n",
      " 3   AccAP            162907 non-null  float64\n",
      " 4   StartHesitation  162907 non-null  int64  \n",
      " 5   Turn             162907 non-null  int64  \n",
      " 6   Walking          162907 non-null  int64  \n",
      " 7   Valid            162907 non-null  bool   \n",
      " 8   Task             162907 non-null  bool   \n",
      "dtypes: bool(2), float64(3), int64(4)\n",
      "memory usage: 9.0 MB\n"
     ]
    }
   ],
   "source": [
    "defog_02ea782681.info()"
   ]
  },
  {
   "cell_type": "code",
   "execution_count": 7,
   "id": "0c1b7e24",
   "metadata": {
    "execution": {
     "iopub.execute_input": "2024-01-22T15:45:07.531012Z",
     "iopub.status.busy": "2024-01-22T15:45:07.530153Z",
     "iopub.status.idle": "2024-01-22T15:45:07.578126Z",
     "shell.execute_reply": "2024-01-22T15:45:07.577188Z"
    },
    "papermill": {
     "duration": 0.068897,
     "end_time": "2024-01-22T15:45:07.580205",
     "exception": false,
     "start_time": "2024-01-22T15:45:07.511308",
     "status": "completed"
    },
    "tags": []
   },
   "outputs": [
    {
     "data": {
      "text/html": [
       "<div>\n",
       "<style scoped>\n",
       "    .dataframe tbody tr th:only-of-type {\n",
       "        vertical-align: middle;\n",
       "    }\n",
       "\n",
       "    .dataframe tbody tr th {\n",
       "        vertical-align: top;\n",
       "    }\n",
       "\n",
       "    .dataframe thead th {\n",
       "        text-align: right;\n",
       "    }\n",
       "</style>\n",
       "<table border=\"1\" class=\"dataframe\">\n",
       "  <thead>\n",
       "    <tr style=\"text-align: right;\">\n",
       "      <th></th>\n",
       "      <th>Time</th>\n",
       "      <th>AccV</th>\n",
       "      <th>AccML</th>\n",
       "      <th>AccAP</th>\n",
       "      <th>StartHesitation</th>\n",
       "      <th>Turn</th>\n",
       "      <th>Walking</th>\n",
       "    </tr>\n",
       "  </thead>\n",
       "  <tbody>\n",
       "    <tr>\n",
       "      <th>count</th>\n",
       "      <td>162907.000000</td>\n",
       "      <td>162907.000000</td>\n",
       "      <td>162907.000000</td>\n",
       "      <td>162907.000000</td>\n",
       "      <td>162907.0</td>\n",
       "      <td>162907.000000</td>\n",
       "      <td>162907.0</td>\n",
       "    </tr>\n",
       "    <tr>\n",
       "      <th>mean</th>\n",
       "      <td>81453.000000</td>\n",
       "      <td>-0.981353</td>\n",
       "      <td>0.032566</td>\n",
       "      <td>-0.187772</td>\n",
       "      <td>0.0</td>\n",
       "      <td>0.000792</td>\n",
       "      <td>0.0</td>\n",
       "    </tr>\n",
       "    <tr>\n",
       "      <th>std</th>\n",
       "      <td>47027.344489</td>\n",
       "      <td>0.073798</td>\n",
       "      <td>0.078877</td>\n",
       "      <td>0.189960</td>\n",
       "      <td>0.0</td>\n",
       "      <td>0.028129</td>\n",
       "      <td>0.0</td>\n",
       "    </tr>\n",
       "    <tr>\n",
       "      <th>min</th>\n",
       "      <td>0.000000</td>\n",
       "      <td>-2.764595</td>\n",
       "      <td>-1.063250</td>\n",
       "      <td>-1.270626</td>\n",
       "      <td>0.0</td>\n",
       "      <td>0.000000</td>\n",
       "      <td>0.0</td>\n",
       "    </tr>\n",
       "    <tr>\n",
       "      <th>25%</th>\n",
       "      <td>40726.500000</td>\n",
       "      <td>-1.000000</td>\n",
       "      <td>0.000000</td>\n",
       "      <td>-0.265625</td>\n",
       "      <td>0.0</td>\n",
       "      <td>0.000000</td>\n",
       "      <td>0.0</td>\n",
       "    </tr>\n",
       "    <tr>\n",
       "      <th>50%</th>\n",
       "      <td>81453.000000</td>\n",
       "      <td>-1.000000</td>\n",
       "      <td>0.031250</td>\n",
       "      <td>-0.234468</td>\n",
       "      <td>0.0</td>\n",
       "      <td>0.000000</td>\n",
       "      <td>0.0</td>\n",
       "    </tr>\n",
       "    <tr>\n",
       "      <th>75%</th>\n",
       "      <td>122179.500000</td>\n",
       "      <td>-0.968750</td>\n",
       "      <td>0.046875</td>\n",
       "      <td>-0.203125</td>\n",
       "      <td>0.0</td>\n",
       "      <td>0.000000</td>\n",
       "      <td>0.0</td>\n",
       "    </tr>\n",
       "    <tr>\n",
       "      <th>max</th>\n",
       "      <td>162906.000000</td>\n",
       "      <td>0.156229</td>\n",
       "      <td>1.501629</td>\n",
       "      <td>0.343750</td>\n",
       "      <td>0.0</td>\n",
       "      <td>1.000000</td>\n",
       "      <td>0.0</td>\n",
       "    </tr>\n",
       "  </tbody>\n",
       "</table>\n",
       "</div>"
      ],
      "text/plain": [
       "                Time           AccV          AccML          AccAP  \\\n",
       "count  162907.000000  162907.000000  162907.000000  162907.000000   \n",
       "mean    81453.000000      -0.981353       0.032566      -0.187772   \n",
       "std     47027.344489       0.073798       0.078877       0.189960   \n",
       "min         0.000000      -2.764595      -1.063250      -1.270626   \n",
       "25%     40726.500000      -1.000000       0.000000      -0.265625   \n",
       "50%     81453.000000      -1.000000       0.031250      -0.234468   \n",
       "75%    122179.500000      -0.968750       0.046875      -0.203125   \n",
       "max    162906.000000       0.156229       1.501629       0.343750   \n",
       "\n",
       "       StartHesitation           Turn   Walking  \n",
       "count         162907.0  162907.000000  162907.0  \n",
       "mean               0.0       0.000792       0.0  \n",
       "std                0.0       0.028129       0.0  \n",
       "min                0.0       0.000000       0.0  \n",
       "25%                0.0       0.000000       0.0  \n",
       "50%                0.0       0.000000       0.0  \n",
       "75%                0.0       0.000000       0.0  \n",
       "max                0.0       1.000000       0.0  "
      ]
     },
     "execution_count": 7,
     "metadata": {},
     "output_type": "execute_result"
    }
   ],
   "source": [
    "defog_02ea782681.describe()"
   ]
  },
  {
   "cell_type": "code",
   "execution_count": 8,
   "id": "11a4e9e9",
   "metadata": {
    "execution": {
     "iopub.execute_input": "2024-01-22T15:45:07.615803Z",
     "iopub.status.busy": "2024-01-22T15:45:07.615465Z",
     "iopub.status.idle": "2024-01-22T15:45:25.002623Z",
     "shell.execute_reply": "2024-01-22T15:45:25.001675Z"
    },
    "papermill": {
     "duration": 17.407132,
     "end_time": "2024-01-22T15:45:25.004648",
     "exception": false,
     "start_time": "2024-01-22T15:45:07.597516",
     "status": "completed"
    },
    "tags": []
   },
   "outputs": [
    {
     "data": {
      "text/html": [
       "<div>\n",
       "<style scoped>\n",
       "    .dataframe tbody tr th:only-of-type {\n",
       "        vertical-align: middle;\n",
       "    }\n",
       "\n",
       "    .dataframe tbody tr th {\n",
       "        vertical-align: top;\n",
       "    }\n",
       "\n",
       "    .dataframe thead th {\n",
       "        text-align: right;\n",
       "    }\n",
       "</style>\n",
       "<table border=\"1\" class=\"dataframe\">\n",
       "  <thead>\n",
       "    <tr style=\"text-align: right;\">\n",
       "      <th></th>\n",
       "      <th>Time</th>\n",
       "      <th>AccV</th>\n",
       "      <th>AccML</th>\n",
       "      <th>AccAP</th>\n",
       "      <th>StartHesitation</th>\n",
       "      <th>Turn</th>\n",
       "      <th>Walking</th>\n",
       "    </tr>\n",
       "  </thead>\n",
       "  <tbody>\n",
       "    <tr>\n",
       "      <th>0</th>\n",
       "      <td>0.000000</td>\n",
       "      <td>-9.665890</td>\n",
       "      <td>0.042550</td>\n",
       "      <td>0.184744</td>\n",
       "      <td>0</td>\n",
       "      <td>0</td>\n",
       "      <td>0</td>\n",
       "    </tr>\n",
       "    <tr>\n",
       "      <th>1</th>\n",
       "      <td>0.000135</td>\n",
       "      <td>-9.672969</td>\n",
       "      <td>0.049217</td>\n",
       "      <td>0.184644</td>\n",
       "      <td>0</td>\n",
       "      <td>0</td>\n",
       "      <td>0</td>\n",
       "    </tr>\n",
       "    <tr>\n",
       "      <th>2</th>\n",
       "      <td>0.000270</td>\n",
       "      <td>-9.670260</td>\n",
       "      <td>0.033620</td>\n",
       "      <td>0.193790</td>\n",
       "      <td>0</td>\n",
       "      <td>0</td>\n",
       "      <td>0</td>\n",
       "    </tr>\n",
       "    <tr>\n",
       "      <th>3</th>\n",
       "      <td>0.000405</td>\n",
       "      <td>-9.673356</td>\n",
       "      <td>0.035159</td>\n",
       "      <td>0.184369</td>\n",
       "      <td>0</td>\n",
       "      <td>0</td>\n",
       "      <td>0</td>\n",
       "    </tr>\n",
       "    <tr>\n",
       "      <th>4</th>\n",
       "      <td>0.000541</td>\n",
       "      <td>-9.671458</td>\n",
       "      <td>0.043913</td>\n",
       "      <td>0.197814</td>\n",
       "      <td>0</td>\n",
       "      <td>0</td>\n",
       "      <td>0</td>\n",
       "    </tr>\n",
       "    <tr>\n",
       "      <th>...</th>\n",
       "      <td>...</td>\n",
       "      <td>...</td>\n",
       "      <td>...</td>\n",
       "      <td>...</td>\n",
       "      <td>...</td>\n",
       "      <td>...</td>\n",
       "      <td>...</td>\n",
       "    </tr>\n",
       "    <tr>\n",
       "      <th>5153</th>\n",
       "      <td>0.999224</td>\n",
       "      <td>-9.915920</td>\n",
       "      <td>-0.105897</td>\n",
       "      <td>-1.123455</td>\n",
       "      <td>0</td>\n",
       "      <td>0</td>\n",
       "      <td>0</td>\n",
       "    </tr>\n",
       "    <tr>\n",
       "      <th>5154</th>\n",
       "      <td>0.999418</td>\n",
       "      <td>-9.693752</td>\n",
       "      <td>-0.066892</td>\n",
       "      <td>-1.114903</td>\n",
       "      <td>0</td>\n",
       "      <td>0</td>\n",
       "      <td>0</td>\n",
       "    </tr>\n",
       "    <tr>\n",
       "      <th>5155</th>\n",
       "      <td>0.999612</td>\n",
       "      <td>-9.548118</td>\n",
       "      <td>-0.098315</td>\n",
       "      <td>-1.112123</td>\n",
       "      <td>0</td>\n",
       "      <td>0</td>\n",
       "      <td>0</td>\n",
       "    </tr>\n",
       "    <tr>\n",
       "      <th>5156</th>\n",
       "      <td>0.999806</td>\n",
       "      <td>-9.469803</td>\n",
       "      <td>-0.111004</td>\n",
       "      <td>-1.130814</td>\n",
       "      <td>0</td>\n",
       "      <td>0</td>\n",
       "      <td>0</td>\n",
       "    </tr>\n",
       "    <tr>\n",
       "      <th>5157</th>\n",
       "      <td>1.000000</td>\n",
       "      <td>-9.566318</td>\n",
       "      <td>-0.113865</td>\n",
       "      <td>-1.103353</td>\n",
       "      <td>0</td>\n",
       "      <td>0</td>\n",
       "      <td>0</td>\n",
       "    </tr>\n",
       "  </tbody>\n",
       "</table>\n",
       "<p>7062672 rows × 7 columns</p>\n",
       "</div>"
      ],
      "text/plain": [
       "          Time      AccV     AccML     AccAP  StartHesitation  Turn  Walking\n",
       "0     0.000000 -9.665890  0.042550  0.184744                0     0        0\n",
       "1     0.000135 -9.672969  0.049217  0.184644                0     0        0\n",
       "2     0.000270 -9.670260  0.033620  0.193790                0     0        0\n",
       "3     0.000405 -9.673356  0.035159  0.184369                0     0        0\n",
       "4     0.000541 -9.671458  0.043913  0.197814                0     0        0\n",
       "...        ...       ...       ...       ...              ...   ...      ...\n",
       "5153  0.999224 -9.915920 -0.105897 -1.123455                0     0        0\n",
       "5154  0.999418 -9.693752 -0.066892 -1.114903                0     0        0\n",
       "5155  0.999612 -9.548118 -0.098315 -1.112123                0     0        0\n",
       "5156  0.999806 -9.469803 -0.111004 -1.130814                0     0        0\n",
       "5157  1.000000 -9.566318 -0.113865 -1.103353                0     0        0\n",
       "\n",
       "[7062672 rows x 7 columns]"
      ]
     },
     "execution_count": 8,
     "metadata": {},
     "output_type": "execute_result"
    }
   ],
   "source": [
    "\n",
    "tdcsfog_path= '/kaggle/input/tlvmc-parkinsons-freezing-gait-prediction/train/tdcsfog'\n",
    "tdcsfog_list= []\n",
    "\n",
    "for file_name in os.listdir(tdcsfog_path):\n",
    "    if file_name.endswith('.csv'):\n",
    "        file_path= os.path.join(tdcsfog_path,file_name)\n",
    "        df= pd.read_csv(file_path)\n",
    "        df['Time']= df['Time']/(len(df)-1) \n",
    "        tdcsfog_list.append(df)\n",
    "     \n",
    "tdcsfog= pd.concat(tdcsfog_list,axis= 0)\n",
    "tdcsfog"
   ]
  },
  {
   "cell_type": "code",
   "execution_count": 9,
   "id": "f80cc7e7",
   "metadata": {
    "execution": {
     "iopub.execute_input": "2024-01-22T15:45:25.041639Z",
     "iopub.status.busy": "2024-01-22T15:45:25.041286Z",
     "iopub.status.idle": "2024-01-22T15:45:25.050884Z",
     "shell.execute_reply": "2024-01-22T15:45:25.049929Z"
    },
    "papermill": {
     "duration": 0.0303,
     "end_time": "2024-01-22T15:45:25.052923",
     "exception": false,
     "start_time": "2024-01-22T15:45:25.022623",
     "status": "completed"
    },
    "tags": []
   },
   "outputs": [
    {
     "name": "stdout",
     "output_type": "stream",
     "text": [
      "<class 'pandas.core.frame.DataFrame'>\n",
      "Index: 7062672 entries, 0 to 5157\n",
      "Data columns (total 7 columns):\n",
      " #   Column           Dtype  \n",
      "---  ------           -----  \n",
      " 0   Time             float64\n",
      " 1   AccV             float64\n",
      " 2   AccML            float64\n",
      " 3   AccAP            float64\n",
      " 4   StartHesitation  int64  \n",
      " 5   Turn             int64  \n",
      " 6   Walking          int64  \n",
      "dtypes: float64(4), int64(3)\n",
      "memory usage: 431.1 MB\n"
     ]
    }
   ],
   "source": [
    "tdcsfog.info()"
   ]
  },
  {
   "cell_type": "code",
   "execution_count": 10,
   "id": "7ca3c496",
   "metadata": {
    "execution": {
     "iopub.execute_input": "2024-01-22T15:45:25.089821Z",
     "iopub.status.busy": "2024-01-22T15:45:25.089438Z",
     "iopub.status.idle": "2024-01-22T15:45:26.660392Z",
     "shell.execute_reply": "2024-01-22T15:45:26.659490Z"
    },
    "papermill": {
     "duration": 1.591955,
     "end_time": "2024-01-22T15:45:26.662575",
     "exception": false,
     "start_time": "2024-01-22T15:45:25.070620",
     "status": "completed"
    },
    "tags": []
   },
   "outputs": [
    {
     "data": {
      "text/html": [
       "<div>\n",
       "<style scoped>\n",
       "    .dataframe tbody tr th:only-of-type {\n",
       "        vertical-align: middle;\n",
       "    }\n",
       "\n",
       "    .dataframe tbody tr th {\n",
       "        vertical-align: top;\n",
       "    }\n",
       "\n",
       "    .dataframe thead th {\n",
       "        text-align: right;\n",
       "    }\n",
       "</style>\n",
       "<table border=\"1\" class=\"dataframe\">\n",
       "  <thead>\n",
       "    <tr style=\"text-align: right;\">\n",
       "      <th></th>\n",
       "      <th>Time</th>\n",
       "      <th>AccV</th>\n",
       "      <th>AccML</th>\n",
       "      <th>AccAP</th>\n",
       "      <th>StartHesitation</th>\n",
       "      <th>Turn</th>\n",
       "      <th>Walking</th>\n",
       "    </tr>\n",
       "  </thead>\n",
       "  <tbody>\n",
       "    <tr>\n",
       "      <th>count</th>\n",
       "      <td>7.062672e+06</td>\n",
       "      <td>7.062672e+06</td>\n",
       "      <td>7.062672e+06</td>\n",
       "      <td>7.062672e+06</td>\n",
       "      <td>7.062672e+06</td>\n",
       "      <td>7.062672e+06</td>\n",
       "      <td>7.062672e+06</td>\n",
       "    </tr>\n",
       "    <tr>\n",
       "      <th>mean</th>\n",
       "      <td>5.000000e-01</td>\n",
       "      <td>-9.306317e+00</td>\n",
       "      <td>-2.012513e-01</td>\n",
       "      <td>1.808524e+00</td>\n",
       "      <td>4.315506e-02</td>\n",
       "      <td>2.376979e-01</td>\n",
       "      <td>2.942767e-02</td>\n",
       "    </tr>\n",
       "    <tr>\n",
       "      <th>std</th>\n",
       "      <td>2.887092e-01</td>\n",
       "      <td>1.080174e+00</td>\n",
       "      <td>1.269525e+00</td>\n",
       "      <td>2.285849e+00</td>\n",
       "      <td>2.032061e-01</td>\n",
       "      <td>4.256731e-01</td>\n",
       "      <td>1.690020e-01</td>\n",
       "    </tr>\n",
       "    <tr>\n",
       "      <th>min</th>\n",
       "      <td>0.000000e+00</td>\n",
       "      <td>-3.552112e+01</td>\n",
       "      <td>-2.616440e+01</td>\n",
       "      <td>-4.782964e+01</td>\n",
       "      <td>0.000000e+00</td>\n",
       "      <td>0.000000e+00</td>\n",
       "      <td>0.000000e+00</td>\n",
       "    </tr>\n",
       "    <tr>\n",
       "      <th>25%</th>\n",
       "      <td>2.499690e-01</td>\n",
       "      <td>-9.762402e+00</td>\n",
       "      <td>-9.295446e-01</td>\n",
       "      <td>5.672254e-01</td>\n",
       "      <td>0.000000e+00</td>\n",
       "      <td>0.000000e+00</td>\n",
       "      <td>0.000000e+00</td>\n",
       "    </tr>\n",
       "    <tr>\n",
       "      <th>50%</th>\n",
       "      <td>5.000000e-01</td>\n",
       "      <td>-9.363524e+00</td>\n",
       "      <td>-1.722245e-01</td>\n",
       "      <td>1.987101e+00</td>\n",
       "      <td>0.000000e+00</td>\n",
       "      <td>0.000000e+00</td>\n",
       "      <td>0.000000e+00</td>\n",
       "    </tr>\n",
       "    <tr>\n",
       "      <th>75%</th>\n",
       "      <td>7.500310e-01</td>\n",
       "      <td>-8.776814e+00</td>\n",
       "      <td>5.752114e-01</td>\n",
       "      <td>3.449026e+00</td>\n",
       "      <td>0.000000e+00</td>\n",
       "      <td>0.000000e+00</td>\n",
       "      <td>0.000000e+00</td>\n",
       "    </tr>\n",
       "    <tr>\n",
       "      <th>max</th>\n",
       "      <td>1.000000e+00</td>\n",
       "      <td>2.090695e+01</td>\n",
       "      <td>2.748472e+01</td>\n",
       "      <td>3.033769e+01</td>\n",
       "      <td>1.000000e+00</td>\n",
       "      <td>1.000000e+00</td>\n",
       "      <td>1.000000e+00</td>\n",
       "    </tr>\n",
       "  </tbody>\n",
       "</table>\n",
       "</div>"
      ],
      "text/plain": [
       "               Time          AccV         AccML         AccAP  \\\n",
       "count  7.062672e+06  7.062672e+06  7.062672e+06  7.062672e+06   \n",
       "mean   5.000000e-01 -9.306317e+00 -2.012513e-01  1.808524e+00   \n",
       "std    2.887092e-01  1.080174e+00  1.269525e+00  2.285849e+00   \n",
       "min    0.000000e+00 -3.552112e+01 -2.616440e+01 -4.782964e+01   \n",
       "25%    2.499690e-01 -9.762402e+00 -9.295446e-01  5.672254e-01   \n",
       "50%    5.000000e-01 -9.363524e+00 -1.722245e-01  1.987101e+00   \n",
       "75%    7.500310e-01 -8.776814e+00  5.752114e-01  3.449026e+00   \n",
       "max    1.000000e+00  2.090695e+01  2.748472e+01  3.033769e+01   \n",
       "\n",
       "       StartHesitation          Turn       Walking  \n",
       "count     7.062672e+06  7.062672e+06  7.062672e+06  \n",
       "mean      4.315506e-02  2.376979e-01  2.942767e-02  \n",
       "std       2.032061e-01  4.256731e-01  1.690020e-01  \n",
       "min       0.000000e+00  0.000000e+00  0.000000e+00  \n",
       "25%       0.000000e+00  0.000000e+00  0.000000e+00  \n",
       "50%       0.000000e+00  0.000000e+00  0.000000e+00  \n",
       "75%       0.000000e+00  0.000000e+00  0.000000e+00  \n",
       "max       1.000000e+00  1.000000e+00  1.000000e+00  "
      ]
     },
     "execution_count": 10,
     "metadata": {},
     "output_type": "execute_result"
    }
   ],
   "source": [
    "tdcsfog.describe()"
   ]
  },
  {
   "cell_type": "code",
   "execution_count": 11,
   "id": "f18f82f2",
   "metadata": {
    "execution": {
     "iopub.execute_input": "2024-01-22T15:45:26.734061Z",
     "iopub.status.busy": "2024-01-22T15:45:26.733722Z",
     "iopub.status.idle": "2024-01-22T15:45:26.744868Z",
     "shell.execute_reply": "2024-01-22T15:45:26.744147Z"
    },
    "papermill": {
     "duration": 0.031322,
     "end_time": "2024-01-22T15:45:26.746664",
     "exception": false,
     "start_time": "2024-01-22T15:45:26.715342",
     "status": "completed"
    },
    "tags": []
   },
   "outputs": [],
   "source": [
    "\n",
    "\n",
    "def reduce_memory_usage(df):\n",
    "    \n",
    "    init_mem = df.memory_usage().sum() / 1024**2\n",
    "    print('Memory usage of dataframe is {:.2f} MB'.format(init_mem))\n",
    "    \n",
    "    for col in df.columns:\n",
    "        col_type = df[col].dtype.name\n",
    "        if ((col_type != 'datetime64[ns]') & (col_type != 'category')):\n",
    "            if (col_type != 'object'):\n",
    "                c_min = df[col].min()\n",
    "                c_max = df[col].max()\n",
    "\n",
    "                if str(col_type)[:3] == 'int':\n",
    "                    if c_min > np.iinfo(np.int8).min and c_max < np.iinfo(np.int8).max:\n",
    "                        df[col] = df[col].astype(np.int8)\n",
    "                    elif c_min > np.iinfo(np.int16).min and c_max < np.iinfo(np.int16).max:\n",
    "                        df[col] = df[col].astype(np.int16)\n",
    "                    elif c_min > np.iinfo(np.int32).min and c_max < np.iinfo(np.int32).max:\n",
    "                        df[col] = df[col].astype(np.int32)\n",
    "                    elif c_min > np.iinfo(np.int64).min and c_max < np.iinfo(np.int64).max:\n",
    "                        df[col] = df[col].astype(np.int64)\n",
    "\n",
    "                else:\n",
    "#                     if c_min > np.finfo(np.float16).min and c_max < np.finfo(np.float16).max:\n",
    "#                         df[col] = df[col].astype(np.float16)\n",
    "                    if c_min > np.finfo(np.float32).min and c_max < np.finfo(np.float32).max:\n",
    "                        df[col] = df[col].astype(np.float32)\n",
    "                    else:\n",
    "                        pass\n",
    "            else:\n",
    "                df[col] = df[col].astype('category')\n",
    "    mem_usg = df.memory_usage().sum() / 1024**2 \n",
    "    print(\"Memory usage became: \",mem_usg,\" MB\")\n",
    "    \n",
    "    return df"
   ]
  },
  {
   "cell_type": "code",
   "execution_count": 12,
   "id": "5865c488",
   "metadata": {
    "execution": {
     "iopub.execute_input": "2024-01-22T15:45:26.783342Z",
     "iopub.status.busy": "2024-01-22T15:45:26.782669Z",
     "iopub.status.idle": "2024-01-22T15:45:27.024819Z",
     "shell.execute_reply": "2024-01-22T15:45:27.023747Z"
    },
    "papermill": {
     "duration": 0.262622,
     "end_time": "2024-01-22T15:45:27.026804",
     "exception": false,
     "start_time": "2024-01-22T15:45:26.764182",
     "status": "completed"
    },
    "tags": []
   },
   "outputs": [
    {
     "name": "stdout",
     "output_type": "stream",
     "text": [
      "Memory usage of dataframe is 431.07 MB\n",
      "Memory usage became:  181.8582000732422  MB\n"
     ]
    }
   ],
   "source": [
    "tdcsfog = reduce_memory_usage(tdcsfog)"
   ]
  },
  {
   "cell_type": "code",
   "execution_count": 13,
   "id": "7b5dd81b",
   "metadata": {
    "execution": {
     "iopub.execute_input": "2024-01-22T15:45:27.064202Z",
     "iopub.status.busy": "2024-01-22T15:45:27.063893Z",
     "iopub.status.idle": "2024-01-22T15:45:28.565524Z",
     "shell.execute_reply": "2024-01-22T15:45:28.564551Z"
    },
    "papermill": {
     "duration": 1.522793,
     "end_time": "2024-01-22T15:45:28.567917",
     "exception": false,
     "start_time": "2024-01-22T15:45:27.045124",
     "status": "completed"
    },
    "tags": []
   },
   "outputs": [
    {
     "data": {
      "text/plain": [
       "<Axes: >"
      ]
     },
     "execution_count": 13,
     "metadata": {},
     "output_type": "execute_result"
    },
    {
     "data": {
      "image/png": "[encoded data removed]",
      "text/plain": [
       "<Figure size 640x480 with 2 Axes>"
      ]
     },
     "metadata": {},
     "output_type": "display_data"
    }
   ],
   "source": [
    "sns.heatmap(tdcsfog.corr(),annot= True,cmap='magma')"
   ]
  },
  {
   "cell_type": "code",
   "execution_count": 14,
   "id": "5f7a650a",
   "metadata": {
    "execution": {
     "iopub.execute_input": "2024-01-22T15:45:28.608082Z",
     "iopub.status.busy": "2024-01-22T15:45:28.607734Z",
     "iopub.status.idle": "2024-01-22T15:45:42.221388Z",
     "shell.execute_reply": "2024-01-22T15:45:42.220456Z"
    },
    "papermill": {
     "duration": 13.635859,
     "end_time": "2024-01-22T15:45:42.223367",
     "exception": false,
     "start_time": "2024-01-22T15:45:28.587508",
     "status": "completed"
    },
    "tags": []
   },
   "outputs": [
    {
     "data": {
      "text/plain": [
       "<Axes: xlabel='Number of 1s', ylabel='count'>"
      ]
     },
     "execution_count": 14,
     "metadata": {},
     "output_type": "execute_result"
    },
    {
     "data": {
      "image/png": "[encoded data removed]",
      "text/plain": [
       "<Figure size 640x480 with 1 Axes>"
      ]
     },
     "metadata": {},
     "output_type": "display_data"
    }
   ],
   "source": [
    "df2= pd.DataFrame(np.concatenate([\n",
    "    ['total entries'] * len(tdcsfog),\n",
    "    ['Start Hesitation'] *  int(tdcsfog['StartHesitation'].mean() * len(tdcsfog)),\n",
    "    ['Turn'] * int(tdcsfog['Turn'].mean() * len(tdcsfog)),\n",
    "    ['Walking'] * int(tdcsfog['Walking'].mean() * len(tdcsfog))]),\n",
    "    columns= ['Number of 1s']              \n",
    "    )\n",
    "\n",
    "sns.countplot(data= df2, x='Number of 1s')"
   ]
  },
  {
   "cell_type": "code",
   "execution_count": 15,
   "id": "95d9053b",
   "metadata": {
    "execution": {
     "iopub.execute_input": "2024-01-22T15:45:42.302387Z",
     "iopub.status.busy": "2024-01-22T15:45:42.301666Z",
     "iopub.status.idle": "2024-01-22T15:48:31.071007Z",
     "shell.execute_reply": "2024-01-22T15:48:31.070053Z"
    },
    "papermill": {
     "duration": 168.816905,
     "end_time": "2024-01-22T15:48:31.098179",
     "exception": false,
     "start_time": "2024-01-22T15:45:42.281274",
     "status": "completed"
    },
    "tags": []
   },
   "outputs": [
    {
     "data": {
      "text/plain": [
       "<seaborn.axisgrid.PairGrid at 0x7b2a7ff5a9e0>"
      ]
     },
     "execution_count": 15,
     "metadata": {},
     "output_type": "execute_result"
    },
    {
     "data": {
      "image/png": "[encoded data removed]",
      "text/plain": [
       "<Figure size 750x750 with 12 Axes>"
      ]
     },
     "metadata": {},
     "output_type": "display_data"
    }
   ],
   "source": [
    "sns.pairplot(tdcsfog[['AccV','AccML','AccAP']])"
   ]
  },
  {
   "cell_type": "code",
   "execution_count": 16,
   "id": "bd67036c",
   "metadata": {
    "execution": {
     "iopub.execute_input": "2024-01-22T15:48:31.144214Z",
     "iopub.status.busy": "2024-01-22T15:48:31.143885Z",
     "iopub.status.idle": "2024-01-22T15:48:34.120340Z",
     "shell.execute_reply": "2024-01-22T15:48:34.119422Z"
    },
    "papermill": {
     "duration": 3.002206,
     "end_time": "2024-01-22T15:48:34.122696",
     "exception": false,
     "start_time": "2024-01-22T15:48:31.120490",
     "status": "completed"
    },
    "tags": []
   },
   "outputs": [
    {
     "data": {
      "text/plain": [
       "<matplotlib.legend.Legend at 0x7b2a847e8d30>"
      ]
     },
     "execution_count": 16,
     "metadata": {},
     "output_type": "execute_result"
    },
    {
     "data": {
      "image/png": "[encoded data removed]",
      "text/plain": [
       "<Figure size 1000x600 with 1 Axes>"
      ]
     },
     "metadata": {},
     "output_type": "display_data"
    }
   ],
   "source": [
    "fig, ax = plt.subplots(figsize = (10, 6))\n",
    "\n",
    "ax.plot(tdcsfog['Time'], tdcsfog['StartHesitation'], label = 'StartHesitation')\n",
    "ax.plot(tdcsfog['Time'], tdcsfog['Turn'], label = 'Turn')\n",
    "ax.plot(tdcsfog['Time'], tdcsfog['Walking'], label = 'Walking')\n",
    "\n",
    "ax.set_xlabel('Time')\n",
    "ax.set_ylabel('Binary Status(0 or 1)')\n",
    "ax.set_title('Relationship between Time and Movement Status')\n",
    "\n",
    "ax.legend(loc='upper left',bbox_to_anchor=(1,0.5))"
   ]
  },
  {
   "cell_type": "code",
   "execution_count": 17,
   "id": "836b5e66",
   "metadata": {
    "execution": {
     "iopub.execute_input": "2024-01-22T15:48:34.222190Z",
     "iopub.status.busy": "2024-01-22T15:48:34.221602Z",
     "iopub.status.idle": "2024-01-22T15:49:01.872239Z",
     "shell.execute_reply": "2024-01-22T15:49:01.871327Z"
    },
    "papermill": {
     "duration": 27.677679,
     "end_time": "2024-01-22T15:49:01.874330",
     "exception": false,
     "start_time": "2024-01-22T15:48:34.196651",
     "status": "completed"
    },
    "tags": []
   },
   "outputs": [
    {
     "data": {
      "text/html": [
       "<div>\n",
       "<style scoped>\n",
       "    .dataframe tbody tr th:only-of-type {\n",
       "        vertical-align: middle;\n",
       "    }\n",
       "\n",
       "    .dataframe tbody tr th {\n",
       "        vertical-align: top;\n",
       "    }\n",
       "\n",
       "    .dataframe thead th {\n",
       "        text-align: right;\n",
       "    }\n",
       "</style>\n",
       "<table border=\"1\" class=\"dataframe\">\n",
       "  <thead>\n",
       "    <tr style=\"text-align: right;\">\n",
       "      <th></th>\n",
       "      <th>Time</th>\n",
       "      <th>AccV</th>\n",
       "      <th>AccML</th>\n",
       "      <th>AccAP</th>\n",
       "      <th>StartHesitation</th>\n",
       "      <th>Turn</th>\n",
       "      <th>Walking</th>\n",
       "      <th>Valid</th>\n",
       "      <th>Task</th>\n",
       "    </tr>\n",
       "  </thead>\n",
       "  <tbody>\n",
       "    <tr>\n",
       "      <th>0</th>\n",
       "      <td>0.000000</td>\n",
       "      <td>-1.002697</td>\n",
       "      <td>0.022371</td>\n",
       "      <td>0.068304</td>\n",
       "      <td>0</td>\n",
       "      <td>0</td>\n",
       "      <td>0</td>\n",
       "      <td>False</td>\n",
       "      <td>False</td>\n",
       "    </tr>\n",
       "    <tr>\n",
       "      <th>1</th>\n",
       "      <td>0.000008</td>\n",
       "      <td>-1.002641</td>\n",
       "      <td>0.019173</td>\n",
       "      <td>0.066162</td>\n",
       "      <td>0</td>\n",
       "      <td>0</td>\n",
       "      <td>0</td>\n",
       "      <td>False</td>\n",
       "      <td>False</td>\n",
       "    </tr>\n",
       "    <tr>\n",
       "      <th>2</th>\n",
       "      <td>0.000017</td>\n",
       "      <td>-0.999820</td>\n",
       "      <td>0.019142</td>\n",
       "      <td>0.067536</td>\n",
       "      <td>0</td>\n",
       "      <td>0</td>\n",
       "      <td>0</td>\n",
       "      <td>False</td>\n",
       "      <td>False</td>\n",
       "    </tr>\n",
       "    <tr>\n",
       "      <th>3</th>\n",
       "      <td>0.000025</td>\n",
       "      <td>-0.998023</td>\n",
       "      <td>0.018378</td>\n",
       "      <td>0.068409</td>\n",
       "      <td>0</td>\n",
       "      <td>0</td>\n",
       "      <td>0</td>\n",
       "      <td>False</td>\n",
       "      <td>False</td>\n",
       "    </tr>\n",
       "    <tr>\n",
       "      <th>4</th>\n",
       "      <td>0.000034</td>\n",
       "      <td>-0.998359</td>\n",
       "      <td>0.016726</td>\n",
       "      <td>0.066448</td>\n",
       "      <td>0</td>\n",
       "      <td>0</td>\n",
       "      <td>0</td>\n",
       "      <td>False</td>\n",
       "      <td>False</td>\n",
       "    </tr>\n",
       "  </tbody>\n",
       "</table>\n",
       "</div>"
      ],
      "text/plain": [
       "       Time      AccV     AccML     AccAP  StartHesitation  Turn  Walking  \\\n",
       "0  0.000000 -1.002697  0.022371  0.068304                0     0        0   \n",
       "1  0.000008 -1.002641  0.019173  0.066162                0     0        0   \n",
       "2  0.000017 -0.999820  0.019142  0.067536                0     0        0   \n",
       "3  0.000025 -0.998023  0.018378  0.068409                0     0        0   \n",
       "4  0.000034 -0.998359  0.016726  0.066448                0     0        0   \n",
       "\n",
       "   Valid   Task  \n",
       "0  False  False  \n",
       "1  False  False  \n",
       "2  False  False  \n",
       "3  False  False  \n",
       "4  False  False  "
      ]
     },
     "execution_count": 17,
     "metadata": {},
     "output_type": "execute_result"
    }
   ],
   "source": [
    "defog_path = '/kaggle/input/tlvmc-parkinsons-freezing-gait-prediction/train/defog'\n",
    "\n",
    "defog_list = []\n",
    "\n",
    "for file_name in os.listdir(defog_path):\n",
    "    if file_name.endswith('.csv'):\n",
    "        file_path = os.path.join(defog_path, file_name)\n",
    "        file = pd.read_csv(file_path)\n",
    "        file.Time = file.Time / (len(file) - 1)\n",
    "        defog_list.append(file)\n",
    "\n",
    "defog = pd.concat(defog_list, axis = 0)\n",
    "\n",
    "defog.head()"
   ]
  },
  {
   "cell_type": "code",
   "execution_count": 18,
   "id": "f87ed61c",
   "metadata": {
    "execution": {
     "iopub.execute_input": "2024-01-22T15:49:01.925266Z",
     "iopub.status.busy": "2024-01-22T15:49:01.924969Z",
     "iopub.status.idle": "2024-01-22T15:49:01.933874Z",
     "shell.execute_reply": "2024-01-22T15:49:01.933051Z"
    },
    "papermill": {
     "duration": 0.036282,
     "end_time": "2024-01-22T15:49:01.936174",
     "exception": false,
     "start_time": "2024-01-22T15:49:01.899892",
     "status": "completed"
    },
    "tags": []
   },
   "outputs": [
    {
     "name": "stdout",
     "output_type": "stream",
     "text": [
      "<class 'pandas.core.frame.DataFrame'>\n",
      "Index: 13525702 entries, 0 to 109124\n",
      "Data columns (total 9 columns):\n",
      " #   Column           Dtype  \n",
      "---  ------           -----  \n",
      " 0   Time             float64\n",
      " 1   AccV             float64\n",
      " 2   AccML            float64\n",
      " 3   AccAP            float64\n",
      " 4   StartHesitation  int64  \n",
      " 5   Turn             int64  \n",
      " 6   Walking          int64  \n",
      " 7   Valid            bool   \n",
      " 8   Task             bool   \n",
      "dtypes: bool(2), float64(4), int64(3)\n",
      "memory usage: 851.3 MB\n"
     ]
    }
   ],
   "source": [
    "defog.info()"
   ]
  },
  {
   "cell_type": "code",
   "execution_count": 19,
   "id": "a31da208",
   "metadata": {
    "execution": {
     "iopub.execute_input": "2024-01-22T15:49:01.986083Z",
     "iopub.status.busy": "2024-01-22T15:49:01.985575Z",
     "iopub.status.idle": "2024-01-22T15:49:02.537573Z",
     "shell.execute_reply": "2024-01-22T15:49:02.536554Z"
    },
    "papermill": {
     "duration": 0.579105,
     "end_time": "2024-01-22T15:49:02.539671",
     "exception": false,
     "start_time": "2024-01-22T15:49:01.960566",
     "status": "completed"
    },
    "tags": []
   },
   "outputs": [
    {
     "name": "stdout",
     "output_type": "stream",
     "text": [
      "Memory usage of dataframe is 851.34 MB\n",
      "Memory usage became:  451.4690113067627  MB\n"
     ]
    }
   ],
   "source": [
    "defog= reduce_memory_usage(defog)"
   ]
  },
  {
   "cell_type": "code",
   "execution_count": 20,
   "id": "1573c8a8",
   "metadata": {
    "execution": {
     "iopub.execute_input": "2024-01-22T15:49:02.641816Z",
     "iopub.status.busy": "2024-01-22T15:49:02.640996Z",
     "iopub.status.idle": "2024-01-22T15:49:03.028365Z",
     "shell.execute_reply": "2024-01-22T15:49:03.027447Z"
    },
    "papermill": {
     "duration": 0.415565,
     "end_time": "2024-01-22T15:49:03.030413",
     "exception": false,
     "start_time": "2024-01-22T15:49:02.614848",
     "status": "completed"
    },
    "tags": []
   },
   "outputs": [
    {
     "data": {
      "text/html": [
       "<div>\n",
       "<style scoped>\n",
       "    .dataframe tbody tr th:only-of-type {\n",
       "        vertical-align: middle;\n",
       "    }\n",
       "\n",
       "    .dataframe tbody tr th {\n",
       "        vertical-align: top;\n",
       "    }\n",
       "\n",
       "    .dataframe thead th {\n",
       "        text-align: right;\n",
       "    }\n",
       "</style>\n",
       "<table border=\"1\" class=\"dataframe\">\n",
       "  <thead>\n",
       "    <tr style=\"text-align: right;\">\n",
       "      <th></th>\n",
       "      <th>Time</th>\n",
       "      <th>AccV</th>\n",
       "      <th>AccML</th>\n",
       "      <th>AccAP</th>\n",
       "      <th>StartHesitation</th>\n",
       "      <th>Turn</th>\n",
       "      <th>Walking</th>\n",
       "      <th>Valid</th>\n",
       "      <th>Task</th>\n",
       "    </tr>\n",
       "  </thead>\n",
       "  <tbody>\n",
       "    <tr>\n",
       "      <th>1000</th>\n",
       "      <td>0.008413</td>\n",
       "      <td>-1.015138</td>\n",
       "      <td>-0.071969</td>\n",
       "      <td>0.161124</td>\n",
       "      <td>0</td>\n",
       "      <td>0</td>\n",
       "      <td>0</td>\n",
       "      <td>1.0</td>\n",
       "      <td>1.0</td>\n",
       "    </tr>\n",
       "    <tr>\n",
       "      <th>1001</th>\n",
       "      <td>0.008421</td>\n",
       "      <td>-1.018566</td>\n",
       "      <td>-0.057850</td>\n",
       "      <td>0.144988</td>\n",
       "      <td>0</td>\n",
       "      <td>0</td>\n",
       "      <td>0</td>\n",
       "      <td>1.0</td>\n",
       "      <td>1.0</td>\n",
       "    </tr>\n",
       "    <tr>\n",
       "      <th>1002</th>\n",
       "      <td>0.008429</td>\n",
       "      <td>-1.037102</td>\n",
       "      <td>-0.054200</td>\n",
       "      <td>0.129327</td>\n",
       "      <td>0</td>\n",
       "      <td>0</td>\n",
       "      <td>0</td>\n",
       "      <td>1.0</td>\n",
       "      <td>1.0</td>\n",
       "    </tr>\n",
       "    <tr>\n",
       "      <th>1003</th>\n",
       "      <td>0.008438</td>\n",
       "      <td>-1.036416</td>\n",
       "      <td>-0.060578</td>\n",
       "      <td>0.115451</td>\n",
       "      <td>0</td>\n",
       "      <td>0</td>\n",
       "      <td>0</td>\n",
       "      <td>1.0</td>\n",
       "      <td>1.0</td>\n",
       "    </tr>\n",
       "    <tr>\n",
       "      <th>1004</th>\n",
       "      <td>0.008446</td>\n",
       "      <td>-1.012407</td>\n",
       "      <td>-0.069198</td>\n",
       "      <td>0.110121</td>\n",
       "      <td>0</td>\n",
       "      <td>0</td>\n",
       "      <td>0</td>\n",
       "      <td>1.0</td>\n",
       "      <td>1.0</td>\n",
       "    </tr>\n",
       "    <tr>\n",
       "      <th>...</th>\n",
       "      <td>...</td>\n",
       "      <td>...</td>\n",
       "      <td>...</td>\n",
       "      <td>...</td>\n",
       "      <td>...</td>\n",
       "      <td>...</td>\n",
       "      <td>...</td>\n",
       "      <td>...</td>\n",
       "      <td>...</td>\n",
       "    </tr>\n",
       "    <tr>\n",
       "      <th>108120</th>\n",
       "      <td>0.990799</td>\n",
       "      <td>-0.978999</td>\n",
       "      <td>0.043111</td>\n",
       "      <td>-0.392852</td>\n",
       "      <td>0</td>\n",
       "      <td>0</td>\n",
       "      <td>0</td>\n",
       "      <td>1.0</td>\n",
       "      <td>1.0</td>\n",
       "    </tr>\n",
       "    <tr>\n",
       "      <th>108121</th>\n",
       "      <td>0.990809</td>\n",
       "      <td>-0.949352</td>\n",
       "      <td>0.016142</td>\n",
       "      <td>-0.362455</td>\n",
       "      <td>0</td>\n",
       "      <td>0</td>\n",
       "      <td>0</td>\n",
       "      <td>1.0</td>\n",
       "      <td>1.0</td>\n",
       "    </tr>\n",
       "    <tr>\n",
       "      <th>108122</th>\n",
       "      <td>0.990818</td>\n",
       "      <td>-0.909800</td>\n",
       "      <td>-0.007553</td>\n",
       "      <td>-0.364498</td>\n",
       "      <td>0</td>\n",
       "      <td>0</td>\n",
       "      <td>0</td>\n",
       "      <td>1.0</td>\n",
       "      <td>1.0</td>\n",
       "    </tr>\n",
       "    <tr>\n",
       "      <th>108123</th>\n",
       "      <td>0.990827</td>\n",
       "      <td>-0.882329</td>\n",
       "      <td>-0.022470</td>\n",
       "      <td>-0.374119</td>\n",
       "      <td>0</td>\n",
       "      <td>0</td>\n",
       "      <td>0</td>\n",
       "      <td>1.0</td>\n",
       "      <td>1.0</td>\n",
       "    </tr>\n",
       "    <tr>\n",
       "      <th>108124</th>\n",
       "      <td>0.990836</td>\n",
       "      <td>-0.875137</td>\n",
       "      <td>-0.038889</td>\n",
       "      <td>-0.369337</td>\n",
       "      <td>0</td>\n",
       "      <td>0</td>\n",
       "      <td>0</td>\n",
       "      <td>1.0</td>\n",
       "      <td>1.0</td>\n",
       "    </tr>\n",
       "  </tbody>\n",
       "</table>\n",
       "<p>4090530 rows × 9 columns</p>\n",
       "</div>"
      ],
      "text/plain": [
       "            Time      AccV     AccML     AccAP  StartHesitation  Turn  \\\n",
       "1000    0.008413 -1.015138 -0.071969  0.161124                0     0   \n",
       "1001    0.008421 -1.018566 -0.057850  0.144988                0     0   \n",
       "1002    0.008429 -1.037102 -0.054200  0.129327                0     0   \n",
       "1003    0.008438 -1.036416 -0.060578  0.115451                0     0   \n",
       "1004    0.008446 -1.012407 -0.069198  0.110121                0     0   \n",
       "...          ...       ...       ...       ...              ...   ...   \n",
       "108120  0.990799 -0.978999  0.043111 -0.392852                0     0   \n",
       "108121  0.990809 -0.949352  0.016142 -0.362455                0     0   \n",
       "108122  0.990818 -0.909800 -0.007553 -0.364498                0     0   \n",
       "108123  0.990827 -0.882329 -0.022470 -0.374119                0     0   \n",
       "108124  0.990836 -0.875137 -0.038889 -0.369337                0     0   \n",
       "\n",
       "        Walking  Valid  Task  \n",
       "1000          0    1.0   1.0  \n",
       "1001          0    1.0   1.0  \n",
       "1002          0    1.0   1.0  \n",
       "1003          0    1.0   1.0  \n",
       "1004          0    1.0   1.0  \n",
       "...         ...    ...   ...  \n",
       "108120        0    1.0   1.0  \n",
       "108121        0    1.0   1.0  \n",
       "108122        0    1.0   1.0  \n",
       "108123        0    1.0   1.0  \n",
       "108124        0    1.0   1.0  \n",
       "\n",
       "[4090530 rows x 9 columns]"
      ]
     },
     "execution_count": 20,
     "metadata": {},
     "output_type": "execute_result"
    }
   ],
   "source": [
    "defog= defog[(defog['Valid']==1) & (defog['Task']==1)]\n",
    "defog.dropna()"
   ]
  },
  {
   "cell_type": "code",
   "execution_count": 21,
   "id": "a2500803",
   "metadata": {
    "execution": {
     "iopub.execute_input": "2024-01-22T15:49:03.083010Z",
     "iopub.status.busy": "2024-01-22T15:49:03.082311Z",
     "iopub.status.idle": "2024-01-22T15:49:03.160212Z",
     "shell.execute_reply": "2024-01-22T15:49:03.159452Z"
    },
    "papermill": {
     "duration": 0.105944,
     "end_time": "2024-01-22T15:49:03.162129",
     "exception": false,
     "start_time": "2024-01-22T15:49:03.056185",
     "status": "completed"
    },
    "tags": []
   },
   "outputs": [],
   "source": [
    "defog= defog.iloc[:,:7]"
   ]
  },
  {
   "cell_type": "code",
   "execution_count": 22,
   "id": "a8d37b32",
   "metadata": {
    "execution": {
     "iopub.execute_input": "2024-01-22T15:49:03.214435Z",
     "iopub.status.busy": "2024-01-22T15:49:03.213684Z",
     "iopub.status.idle": "2024-01-22T15:49:03.315987Z",
     "shell.execute_reply": "2024-01-22T15:49:03.314934Z"
    },
    "papermill": {
     "duration": 0.130512,
     "end_time": "2024-01-22T15:49:03.317935",
     "exception": false,
     "start_time": "2024-01-22T15:49:03.187423",
     "status": "completed"
    },
    "tags": []
   },
   "outputs": [
    {
     "data": {
      "text/html": [
       "<div>\n",
       "<style scoped>\n",
       "    .dataframe tbody tr th:only-of-type {\n",
       "        vertical-align: middle;\n",
       "    }\n",
       "\n",
       "    .dataframe tbody tr th {\n",
       "        vertical-align: top;\n",
       "    }\n",
       "\n",
       "    .dataframe thead th {\n",
       "        text-align: right;\n",
       "    }\n",
       "</style>\n",
       "<table border=\"1\" class=\"dataframe\">\n",
       "  <thead>\n",
       "    <tr style=\"text-align: right;\">\n",
       "      <th></th>\n",
       "      <th>Time</th>\n",
       "      <th>AccV</th>\n",
       "      <th>AccML</th>\n",
       "      <th>AccAP</th>\n",
       "      <th>StartHesitation</th>\n",
       "      <th>Turn</th>\n",
       "      <th>Walking</th>\n",
       "    </tr>\n",
       "  </thead>\n",
       "  <tbody>\n",
       "    <tr>\n",
       "      <th>0</th>\n",
       "      <td>0.000000</td>\n",
       "      <td>-9.665890</td>\n",
       "      <td>0.042550</td>\n",
       "      <td>0.184744</td>\n",
       "      <td>0</td>\n",
       "      <td>0</td>\n",
       "      <td>0</td>\n",
       "    </tr>\n",
       "    <tr>\n",
       "      <th>1</th>\n",
       "      <td>0.000135</td>\n",
       "      <td>-9.672969</td>\n",
       "      <td>0.049217</td>\n",
       "      <td>0.184644</td>\n",
       "      <td>0</td>\n",
       "      <td>0</td>\n",
       "      <td>0</td>\n",
       "    </tr>\n",
       "    <tr>\n",
       "      <th>2</th>\n",
       "      <td>0.000270</td>\n",
       "      <td>-9.670260</td>\n",
       "      <td>0.033620</td>\n",
       "      <td>0.193790</td>\n",
       "      <td>0</td>\n",
       "      <td>0</td>\n",
       "      <td>0</td>\n",
       "    </tr>\n",
       "    <tr>\n",
       "      <th>3</th>\n",
       "      <td>0.000405</td>\n",
       "      <td>-9.673356</td>\n",
       "      <td>0.035159</td>\n",
       "      <td>0.184369</td>\n",
       "      <td>0</td>\n",
       "      <td>0</td>\n",
       "      <td>0</td>\n",
       "    </tr>\n",
       "    <tr>\n",
       "      <th>4</th>\n",
       "      <td>0.000541</td>\n",
       "      <td>-9.671457</td>\n",
       "      <td>0.043913</td>\n",
       "      <td>0.197814</td>\n",
       "      <td>0</td>\n",
       "      <td>0</td>\n",
       "      <td>0</td>\n",
       "    </tr>\n",
       "    <tr>\n",
       "      <th>...</th>\n",
       "      <td>...</td>\n",
       "      <td>...</td>\n",
       "      <td>...</td>\n",
       "      <td>...</td>\n",
       "      <td>...</td>\n",
       "      <td>...</td>\n",
       "      <td>...</td>\n",
       "    </tr>\n",
       "    <tr>\n",
       "      <th>108120</th>\n",
       "      <td>0.990799</td>\n",
       "      <td>-0.978999</td>\n",
       "      <td>0.043111</td>\n",
       "      <td>-0.392852</td>\n",
       "      <td>0</td>\n",
       "      <td>0</td>\n",
       "      <td>0</td>\n",
       "    </tr>\n",
       "    <tr>\n",
       "      <th>108121</th>\n",
       "      <td>0.990809</td>\n",
       "      <td>-0.949352</td>\n",
       "      <td>0.016142</td>\n",
       "      <td>-0.362455</td>\n",
       "      <td>0</td>\n",
       "      <td>0</td>\n",
       "      <td>0</td>\n",
       "    </tr>\n",
       "    <tr>\n",
       "      <th>108122</th>\n",
       "      <td>0.990818</td>\n",
       "      <td>-0.909800</td>\n",
       "      <td>-0.007553</td>\n",
       "      <td>-0.364498</td>\n",
       "      <td>0</td>\n",
       "      <td>0</td>\n",
       "      <td>0</td>\n",
       "    </tr>\n",
       "    <tr>\n",
       "      <th>108123</th>\n",
       "      <td>0.990827</td>\n",
       "      <td>-0.882329</td>\n",
       "      <td>-0.022470</td>\n",
       "      <td>-0.374119</td>\n",
       "      <td>0</td>\n",
       "      <td>0</td>\n",
       "      <td>0</td>\n",
       "    </tr>\n",
       "    <tr>\n",
       "      <th>108124</th>\n",
       "      <td>0.990836</td>\n",
       "      <td>-0.875137</td>\n",
       "      <td>-0.038889</td>\n",
       "      <td>-0.369337</td>\n",
       "      <td>0</td>\n",
       "      <td>0</td>\n",
       "      <td>0</td>\n",
       "    </tr>\n",
       "  </tbody>\n",
       "</table>\n",
       "<p>11153202 rows × 7 columns</p>\n",
       "</div>"
      ],
      "text/plain": [
       "            Time      AccV     AccML     AccAP  StartHesitation  Turn  Walking\n",
       "0       0.000000 -9.665890  0.042550  0.184744                0     0        0\n",
       "1       0.000135 -9.672969  0.049217  0.184644                0     0        0\n",
       "2       0.000270 -9.670260  0.033620  0.193790                0     0        0\n",
       "3       0.000405 -9.673356  0.035159  0.184369                0     0        0\n",
       "4       0.000541 -9.671457  0.043913  0.197814                0     0        0\n",
       "...          ...       ...       ...       ...              ...   ...      ...\n",
       "108120  0.990799 -0.978999  0.043111 -0.392852                0     0        0\n",
       "108121  0.990809 -0.949352  0.016142 -0.362455                0     0        0\n",
       "108122  0.990818 -0.909800 -0.007553 -0.364498                0     0        0\n",
       "108123  0.990827 -0.882329 -0.022470 -0.374119                0     0        0\n",
       "108124  0.990836 -0.875137 -0.038889 -0.369337                0     0        0\n",
       "\n",
       "[11153202 rows x 7 columns]"
      ]
     },
     "execution_count": 22,
     "metadata": {},
     "output_type": "execute_result"
    }
   ],
   "source": [
    "merged= pd.concat([tdcsfog,defog],axis=0)\n",
    "merged"
   ]
  },
  {
   "cell_type": "code",
   "execution_count": 23,
   "id": "052e8909",
   "metadata": {
    "execution": {
     "iopub.execute_input": "2024-01-22T15:49:03.370284Z",
     "iopub.status.busy": "2024-01-22T15:49:03.369997Z",
     "iopub.status.idle": "2024-01-22T15:49:03.621409Z",
     "shell.execute_reply": "2024-01-22T15:49:03.620509Z"
    },
    "papermill": {
     "duration": 0.279562,
     "end_time": "2024-01-22T15:49:03.623582",
     "exception": false,
     "start_time": "2024-01-22T15:49:03.344020",
     "status": "completed"
    },
    "tags": []
   },
   "outputs": [
    {
     "data": {
      "text/html": [
       "<div>\n",
       "<style scoped>\n",
       "    .dataframe tbody tr th:only-of-type {\n",
       "        vertical-align: middle;\n",
       "    }\n",
       "\n",
       "    .dataframe tbody tr th {\n",
       "        vertical-align: top;\n",
       "    }\n",
       "\n",
       "    .dataframe thead th {\n",
       "        text-align: right;\n",
       "    }\n",
       "</style>\n",
       "<table border=\"1\" class=\"dataframe\">\n",
       "  <thead>\n",
       "    <tr style=\"text-align: right;\">\n",
       "      <th></th>\n",
       "      <th>Time</th>\n",
       "      <th>AccV</th>\n",
       "      <th>AccML</th>\n",
       "      <th>AccAP</th>\n",
       "    </tr>\n",
       "  </thead>\n",
       "  <tbody>\n",
       "    <tr>\n",
       "      <th>0</th>\n",
       "      <td>0.000000</td>\n",
       "      <td>-9.665890</td>\n",
       "      <td>0.042550</td>\n",
       "      <td>0.184744</td>\n",
       "    </tr>\n",
       "    <tr>\n",
       "      <th>1</th>\n",
       "      <td>0.000135</td>\n",
       "      <td>-9.672969</td>\n",
       "      <td>0.049217</td>\n",
       "      <td>0.184644</td>\n",
       "    </tr>\n",
       "    <tr>\n",
       "      <th>2</th>\n",
       "      <td>0.000270</td>\n",
       "      <td>-9.670260</td>\n",
       "      <td>0.033620</td>\n",
       "      <td>0.193790</td>\n",
       "    </tr>\n",
       "    <tr>\n",
       "      <th>3</th>\n",
       "      <td>0.000405</td>\n",
       "      <td>-9.673356</td>\n",
       "      <td>0.035159</td>\n",
       "      <td>0.184369</td>\n",
       "    </tr>\n",
       "    <tr>\n",
       "      <th>4</th>\n",
       "      <td>0.000541</td>\n",
       "      <td>-9.671457</td>\n",
       "      <td>0.043913</td>\n",
       "      <td>0.197814</td>\n",
       "    </tr>\n",
       "  </tbody>\n",
       "</table>\n",
       "</div>"
      ],
      "text/plain": [
       "       Time      AccV     AccML     AccAP\n",
       "0  0.000000 -9.665890  0.042550  0.184744\n",
       "1  0.000135 -9.672969  0.049217  0.184644\n",
       "2  0.000270 -9.670260  0.033620  0.193790\n",
       "3  0.000405 -9.673356  0.035159  0.184369\n",
       "4  0.000541 -9.671457  0.043913  0.197814"
      ]
     },
     "execution_count": 23,
     "metadata": {},
     "output_type": "execute_result"
    }
   ],
   "source": [
    "X_merged = merged.iloc[:,0:4]  \n",
    "X = tdcsfog.iloc[:,0:4]  \n",
    "y1 = merged['StartHesitation']  \n",
    "y2 = merged['Turn']  \n",
    "y3 = tdcsfog['Walking'] \n",
    "X_merged.head()"
   ]
  },
  {
   "cell_type": "code",
   "execution_count": 24,
   "id": "80c356a4",
   "metadata": {
    "execution": {
     "iopub.execute_input": "2024-01-22T15:49:03.677568Z",
     "iopub.status.busy": "2024-01-22T15:49:03.676965Z",
     "iopub.status.idle": "2024-01-22T15:49:03.683040Z",
     "shell.execute_reply": "2024-01-22T15:49:03.682197Z"
    },
    "papermill": {
     "duration": 0.034671,
     "end_time": "2024-01-22T15:49:03.685007",
     "exception": false,
     "start_time": "2024-01-22T15:49:03.650336",
     "status": "completed"
    },
    "tags": []
   },
   "outputs": [
    {
     "data": {
      "text/plain": [
       "0    0\n",
       "1    0\n",
       "2    0\n",
       "3    0\n",
       "4    0\n",
       "Name: StartHesitation, dtype: int8"
      ]
     },
     "execution_count": 24,
     "metadata": {},
     "output_type": "execute_result"
    }
   ],
   "source": [
    "y1.head()"
   ]
  },
  {
   "cell_type": "markdown",
   "id": "392f74a9",
   "metadata": {
    "papermill": {
     "duration": 0.025311,
     "end_time": "2024-01-22T15:49:03.736205",
     "exception": false,
     "start_time": "2024-01-22T15:49:03.710894",
     "status": "completed"
    },
    "tags": []
   },
   "source": [
    "**As majority of target variables are 0, we create 3 balanced datasets with equal number of 0s and 1s to get better results.**"
   ]
  },
  {
   "cell_type": "code",
   "execution_count": 25,
   "id": "5e9b5d7d",
   "metadata": {
    "execution": {
     "iopub.execute_input": "2024-01-22T15:49:03.788867Z",
     "iopub.status.busy": "2024-01-22T15:49:03.788256Z",
     "iopub.status.idle": "2024-01-22T15:49:04.260868Z",
     "shell.execute_reply": "2024-01-22T15:49:04.260006Z"
    },
    "papermill": {
     "duration": 0.501126,
     "end_time": "2024-01-22T15:49:04.262864",
     "exception": false,
     "start_time": "2024-01-22T15:49:03.761738",
     "status": "completed"
    },
    "tags": []
   },
   "outputs": [
    {
     "data": {
      "text/plain": [
       "array([      80,      113,      114, ..., 11153043, 11153132, 11153180])"
      ]
     },
     "execution_count": 25,
     "metadata": {},
     "output_type": "execute_result"
    }
   ],
   "source": [
    "y1_ones= np.where(y1==1)[0]\n",
    "\n",
    "n1_ones= (y1==1).sum()\n",
    "y1_zeros= np.random.choice(np.where(y1==0)[0],size= n1_ones,replace= False)\n",
    "\n",
    "y1_balanced_idx= np.sort(np.concatenate([y1_zeros,y1_ones]))\n",
    "y1_balanced_idx"
   ]
  },
  {
   "cell_type": "code",
   "execution_count": 26,
   "id": "1ccac6c0",
   "metadata": {
    "execution": {
     "iopub.execute_input": "2024-01-22T15:49:04.318070Z",
     "iopub.status.busy": "2024-01-22T15:49:04.317467Z",
     "iopub.status.idle": "2024-01-22T15:49:04.360687Z",
     "shell.execute_reply": "2024-01-22T15:49:04.359963Z"
    },
    "papermill": {
     "duration": 0.071825,
     "end_time": "2024-01-22T15:49:04.362753",
     "exception": false,
     "start_time": "2024-01-22T15:49:04.290928",
     "status": "completed"
    },
    "tags": []
   },
   "outputs": [],
   "source": [
    "X1_balanced= X_merged.iloc[y1_balanced_idx,:]\n",
    "y1_balanced= y1.iloc[y1_balanced_idx]"
   ]
  },
  {
   "cell_type": "code",
   "execution_count": 27,
   "id": "921b4b83",
   "metadata": {
    "execution": {
     "iopub.execute_input": "2024-01-22T15:49:04.416197Z",
     "iopub.status.busy": "2024-01-22T15:49:04.415914Z",
     "iopub.status.idle": "2024-01-22T15:49:04.421461Z",
     "shell.execute_reply": "2024-01-22T15:49:04.420639Z"
    },
    "papermill": {
     "duration": 0.034035,
     "end_time": "2024-01-22T15:49:04.423253",
     "exception": false,
     "start_time": "2024-01-22T15:49:04.389218",
     "status": "completed"
    },
    "tags": []
   },
   "outputs": [
    {
     "data": {
      "text/plain": [
       "(610580, 4)"
      ]
     },
     "execution_count": 27,
     "metadata": {},
     "output_type": "execute_result"
    }
   ],
   "source": [
    "X1_balanced.shape"
   ]
  },
  {
   "cell_type": "code",
   "execution_count": 28,
   "id": "adb17ed0",
   "metadata": {
    "execution": {
     "iopub.execute_input": "2024-01-22T15:49:04.475986Z",
     "iopub.status.busy": "2024-01-22T15:49:04.475701Z",
     "iopub.status.idle": "2024-01-22T15:49:05.380110Z",
     "shell.execute_reply": "2024-01-22T15:49:05.379299Z"
    },
    "papermill": {
     "duration": 0.933066,
     "end_time": "2024-01-22T15:49:05.382353",
     "exception": false,
     "start_time": "2024-01-22T15:49:04.449287",
     "status": "completed"
    },
    "tags": []
   },
   "outputs": [],
   "source": [
    "y2_ones= np.where(y2==1)[0]\n",
    "\n",
    "n2_ones= (y2==1).sum()\n",
    "y2_zeros= np.random.choice(np.where(y2==0)[0],size= n2_ones,replace= False)\n",
    "\n",
    "y2_balanced_idx= np.sort(np.concatenate([y2_zeros,y2_ones]))\n",
    "\n",
    "X2_balanced= X_merged.iloc[y2_balanced_idx,:]\n",
    "y2_balanced= y2.iloc[y2_balanced_idx]"
   ]
  },
  {
   "cell_type": "code",
   "execution_count": 29,
   "id": "4dea7d77",
   "metadata": {
    "execution": {
     "iopub.execute_input": "2024-01-22T15:49:05.436970Z",
     "iopub.status.busy": "2024-01-22T15:49:05.436326Z",
     "iopub.status.idle": "2024-01-22T15:49:05.739391Z",
     "shell.execute_reply": "2024-01-22T15:49:05.738601Z"
    },
    "papermill": {
     "duration": 0.332584,
     "end_time": "2024-01-22T15:49:05.741645",
     "exception": false,
     "start_time": "2024-01-22T15:49:05.409061",
     "status": "completed"
    },
    "tags": []
   },
   "outputs": [],
   "source": [
    "y3_ones= np.where(y3==1)[0]\n",
    "\n",
    "n3_ones= (y3==1).sum()\n",
    "y3_zeros= np.random.choice(np.where(y3==0)[0],size= n3_ones,replace= False)\n",
    "\n",
    "y3_balanced_idx= np.sort(np.concatenate([y3_zeros,y3_ones]))\n",
    "\n",
    "X3_balanced= X.iloc[y3_balanced_idx,:]\n",
    "y3_balanced= y3.iloc[y3_balanced_idx]"
   ]
  },
  {
   "cell_type": "code",
   "execution_count": 30,
   "id": "d21ee8b2",
   "metadata": {
    "execution": {
     "iopub.execute_input": "2024-01-22T15:49:05.846359Z",
     "iopub.status.busy": "2024-01-22T15:49:05.846038Z",
     "iopub.status.idle": "2024-01-22T15:49:06.516713Z",
     "shell.execute_reply": "2024-01-22T15:49:06.515961Z"
    },
    "papermill": {
     "duration": 0.699845,
     "end_time": "2024-01-22T15:49:06.519281",
     "exception": false,
     "start_time": "2024-01-22T15:49:05.819436",
     "status": "completed"
    },
    "tags": []
   },
   "outputs": [],
   "source": [
    "X1_train, X1_test, y1_train, y1_test = train_test_split(X1_balanced, y1_balanced, test_size = 0.2, random_state = 42)\n",
    "X2_train, X2_test, y2_train, y2_test = train_test_split(X2_balanced, y2_balanced, test_size = 0.2, random_state = 42)\n",
    "X3_train, X3_test, y3_train, y3_test = train_test_split(X3_balanced, y3_balanced, test_size = 0.2, random_state = 42)"
   ]
  },
  {
   "cell_type": "code",
   "execution_count": 31,
   "id": "29b21894",
   "metadata": {
    "execution": {
     "iopub.execute_input": "2024-01-22T15:49:06.573296Z",
     "iopub.status.busy": "2024-01-22T15:49:06.572968Z",
     "iopub.status.idle": "2024-01-22T15:49:06.711452Z",
     "shell.execute_reply": "2024-01-22T15:49:06.710672Z"
    },
    "papermill": {
     "duration": 0.167648,
     "end_time": "2024-01-22T15:49:06.713860",
     "exception": false,
     "start_time": "2024-01-22T15:49:06.546212",
     "status": "completed"
    },
    "tags": []
   },
   "outputs": [],
   "source": [
    "scaler1 = MinMaxScaler()\n",
    "X1_train = scaler1.fit_transform(X1_train)\n",
    "X1_test = scaler1.transform(X1_test)\n",
    "\n",
    "scaler2 = MinMaxScaler()\n",
    "X2_train = scaler2.fit_transform(X2_train)\n",
    "X2_test = scaler2.transform(X2_test)\n",
    "\n",
    "scaler3 = MinMaxScaler()\n",
    "X3_train = scaler3.fit_transform(X3_train)\n",
    "X3_test = scaler3.transform(X3_test)"
   ]
  },
  {
   "cell_type": "code",
   "execution_count": 32,
   "id": "6a8838bd",
   "metadata": {
    "execution": {
     "iopub.execute_input": "2024-01-22T15:49:06.869179Z",
     "iopub.status.busy": "2024-01-22T15:49:06.868851Z",
     "iopub.status.idle": "2024-01-22T15:49:06.873015Z",
     "shell.execute_reply": "2024-01-22T15:49:06.872166Z"
    },
    "papermill": {
     "duration": 0.032718,
     "end_time": "2024-01-22T15:49:06.874948",
     "exception": false,
     "start_time": "2024-01-22T15:49:06.842230",
     "status": "completed"
    },
    "tags": []
   },
   "outputs": [],
   "source": [
    "model1 = LogisticRegression()\n",
    "model2 = LogisticRegression()\n",
    "model3 = LogisticRegression()\n"
   ]
  },
  {
   "cell_type": "code",
   "execution_count": 33,
   "id": "924dda35",
   "metadata": {
    "execution": {
     "iopub.execute_input": "2024-01-22T15:49:06.928873Z",
     "iopub.status.busy": "2024-01-22T15:49:06.928175Z",
     "iopub.status.idle": "2024-01-22T15:49:16.868075Z",
     "shell.execute_reply": "2024-01-22T15:49:16.866818Z"
    },
    "papermill": {
     "duration": 9.970151,
     "end_time": "2024-01-22T15:49:16.871496",
     "exception": false,
     "start_time": "2024-01-22T15:49:06.901345",
     "status": "completed"
    },
    "tags": []
   },
   "outputs": [
    {
     "data": {
      "text/html": [
       "<style>#sk-container-id-1 {color: black;background-color: white;}#sk-container-id-1 pre{padding: 0;}#sk-container-id-1 div.sk-toggleable {background-color: white;}#sk-container-id-1 label.sk-toggleable__label {cursor: pointer;display: block;width: 100%;margin-bottom: 0;padding: 0.3em;box-sizing: border-box;text-align: center;}#sk-container-id-1 label.sk-toggleable__label-arrow:before {content: \"▸\";float: left;margin-right: 0.25em;color: #696969;}#sk-container-id-1 label.sk-toggleable__label-arrow:hover:before {color: black;}#sk-container-id-1 div.sk-estimator:hover label.sk-toggleable__label-arrow:before {color: black;}#sk-container-id-1 div.sk-toggleable__content {max-height: 0;max-width: 0;overflow: hidden;text-align: left;background-color: #f0f8ff;}#sk-container-id-1 div.sk-toggleable__content pre {margin: 0.2em;color: black;border-radius: 0.25em;background-color: #f0f8ff;}#sk-container-id-1 input.sk-toggleable__control:checked~div.sk-toggleable__content {max-height: 200px;max-width: 100%;overflow: auto;}#sk-container-id-1 input.sk-toggleable__control:checked~label.sk-toggleable__label-arrow:before {content: \"▾\";}#sk-container-id-1 div.sk-estimator input.sk-toggleable__control:checked~label.sk-toggleable__label {background-color: #d4ebff;}#sk-container-id-1 div.sk-label input.sk-toggleable__control:checked~label.sk-toggleable__label {background-color: #d4ebff;}#sk-container-id-1 input.sk-hidden--visually {border: 0;clip: rect(1px 1px 1px 1px);clip: rect(1px, 1px, 1px, 1px);height: 1px;margin: -1px;overflow: hidden;padding: 0;position: absolute;width: 1px;}#sk-container-id-1 div.sk-estimator {font-family: monospace;background-color: #f0f8ff;border: 1px dotted black;border-radius: 0.25em;box-sizing: border-box;margin-bottom: 0.5em;}#sk-container-id-1 div.sk-estimator:hover {background-color: #d4ebff;}#sk-container-id-1 div.sk-parallel-item::after {content: \"\";width: 100%;border-bottom: 1px solid gray;flex-grow: 1;}#sk-container-id-1 div.sk-label:hover label.sk-toggleable__label {background-color: #d4ebff;}#sk-container-id-1 div.sk-serial::before {content: \"\";position: absolute;border-left: 1px solid gray;box-sizing: border-box;top: 0;bottom: 0;left: 50%;z-index: 0;}#sk-container-id-1 div.sk-serial {display: flex;flex-direction: column;align-items: center;background-color: white;padding-right: 0.2em;padding-left: 0.2em;position: relative;}#sk-container-id-1 div.sk-item {position: relative;z-index: 1;}#sk-container-id-1 div.sk-parallel {display: flex;align-items: stretch;justify-content: center;background-color: white;position: relative;}#sk-container-id-1 div.sk-item::before, #sk-container-id-1 div.sk-parallel-item::before {content: \"\";position: absolute;border-left: 1px solid gray;box-sizing: border-box;top: 0;bottom: 0;left: 50%;z-index: -1;}#sk-container-id-1 div.sk-parallel-item {display: flex;flex-direction: column;z-index: 1;position: relative;background-color: white;}#sk-container-id-1 div.sk-parallel-item:first-child::after {align-self: flex-end;width: 50%;}#sk-container-id-1 div.sk-parallel-item:last-child::after {align-self: flex-start;width: 50%;}#sk-container-id-1 div.sk-parallel-item:only-child::after {width: 0;}#sk-container-id-1 div.sk-dashed-wrapped {border: 1px dashed gray;margin: 0 0.4em 0.5em 0.4em;box-sizing: border-box;padding-bottom: 0.4em;background-color: white;}#sk-container-id-1 div.sk-label label {font-family: monospace;font-weight: bold;display: inline-block;line-height: 1.2em;}#sk-container-id-1 div.sk-label-container {text-align: center;}#sk-container-id-1 div.sk-container {/* jupyter's `normalize.less` sets `[hidden] { display: none; }` but bootstrap.min.css set `[hidden] { display: none !important; }` so we also need the `!important` here to be able to override the default hidden behavior on the sphinx rendered scikit-learn.org. See: https://github.com/scikit-learn/scikit-learn/issues/21755 */display: inline-block !important;position: relative;}#sk-container-id-1 div.sk-text-repr-fallback {display: none;}</style><div id=\"sk-container-id-1\" class=\"sk-top-container\"><div class=\"sk-text-repr-fallback\"><pre>LogisticRegression()</pre><b>In a Jupyter environment, please rerun this cell to show the HTML representation or trust the notebook. <br />On GitHub, the HTML representation is unable to render, please try loading this page with nbviewer.org.</b></div><div class=\"sk-container\" hidden><div class=\"sk-item\"><div class=\"sk-estimator sk-toggleable\"><input class=\"sk-toggleable__control sk-hidden--visually\" id=\"sk-estimator-id-1\" type=\"checkbox\" checked><label for=\"sk-estimator-id-1\" class=\"sk-toggleable__label sk-toggleable__label-arrow\">LogisticRegression</label><div class=\"sk-toggleable__content\"><pre>LogisticRegression()</pre></div></div></div></div></div>"
      ],
      "text/plain": [
       "LogisticRegression()"
      ]
     },
     "execution_count": 33,
     "metadata": {},
     "output_type": "execute_result"
    }
   ],
   "source": [
    "model1.fit(X1_train,y1_train)\n",
    "model2.fit(X2_train,y2_train)\n",
    "model3.fit(X3_train,y3_train)"
   ]
  },
  {
   "cell_type": "code",
   "execution_count": 34,
   "id": "61e7ec52",
   "metadata": {
    "execution": {
     "iopub.execute_input": "2024-01-22T15:49:16.986106Z",
     "iopub.status.busy": "2024-01-22T15:49:16.985490Z",
     "iopub.status.idle": "2024-01-22T15:49:17.047924Z",
     "shell.execute_reply": "2024-01-22T15:49:17.046572Z"
    },
    "papermill": {
     "duration": 0.123357,
     "end_time": "2024-01-22T15:49:17.051701",
     "exception": false,
     "start_time": "2024-01-22T15:49:16.928344",
     "status": "completed"
    },
    "tags": []
   },
   "outputs": [],
   "source": [
    "y1_pred = model1.predict(X1_test)\n",
    "y2_pred = model2.predict(X2_test)\n",
    "y3_pred = model3.predict(X3_test)"
   ]
  },
  {
   "cell_type": "code",
   "execution_count": 35,
   "id": "5e403a59",
   "metadata": {
    "execution": {
     "iopub.execute_input": "2024-01-22T15:49:17.166065Z",
     "iopub.status.busy": "2024-01-22T15:49:17.165509Z",
     "iopub.status.idle": "2024-01-22T15:49:19.061046Z",
     "shell.execute_reply": "2024-01-22T15:49:19.060114Z"
    },
    "papermill": {
     "duration": 1.955581,
     "end_time": "2024-01-22T15:49:19.063321",
     "exception": false,
     "start_time": "2024-01-22T15:49:17.107740",
     "status": "completed"
    },
    "tags": []
   },
   "outputs": [
    {
     "name": "stdout",
     "output_type": "stream",
     "text": [
      "Start Hesitation \n",
      "               precision    recall  f1-score   support\n",
      "\n",
      "           0       0.86      0.81      0.83     61262\n",
      "           1       0.82      0.87      0.84     60854\n",
      "\n",
      "    accuracy                           0.84    122116\n",
      "   macro avg       0.84      0.84      0.84    122116\n",
      "weighted avg       0.84      0.84      0.84    122116\n",
      "\n",
      "Turn \n",
      "               precision    recall  f1-score   support\n",
      "\n",
      "           0       0.59      0.68      0.63    452791\n",
      "           1       0.63      0.53      0.57    453454\n",
      "\n",
      "    accuracy                           0.61    906245\n",
      "   macro avg       0.61      0.61      0.60    906245\n",
      "weighted avg       0.61      0.61      0.60    906245\n",
      "\n",
      "Walking \n",
      "               precision    recall  f1-score   support\n",
      "\n",
      "           0       0.76      0.72      0.74     41371\n",
      "           1       0.74      0.77      0.75     41765\n",
      "\n",
      "    accuracy                           0.74     83136\n",
      "   macro avg       0.75      0.74      0.74     83136\n",
      "weighted avg       0.75      0.74      0.74     83136\n",
      "\n"
     ]
    }
   ],
   "source": [
    "print('Start Hesitation \\n',classification_report(y1_test,y1_pred))\n",
    "print('Turn \\n',classification_report(y2_test,y2_pred))\n",
    "print('Walking \\n',classification_report(y3_test,y3_pred))"
   ]
  },
  {
   "cell_type": "code",
   "execution_count": 36,
   "id": "0b1d3ecc",
   "metadata": {
    "execution": {
     "iopub.execute_input": "2024-01-22T15:49:19.118371Z",
     "iopub.status.busy": "2024-01-22T15:49:19.117851Z",
     "iopub.status.idle": "2024-01-22T15:49:19.311304Z",
     "shell.execute_reply": "2024-01-22T15:49:19.310513Z"
    },
    "papermill": {
     "duration": 0.223139,
     "end_time": "2024-01-22T15:49:19.313675",
     "exception": false,
     "start_time": "2024-01-22T15:49:19.090536",
     "status": "completed"
    },
    "tags": []
   },
   "outputs": [],
   "source": [
    "sh = confusion_matrix(y1_test,y1_pred)\n",
    "tu = confusion_matrix(y2_test,y2_pred)\n",
    "wa = confusion_matrix(y3_test,y3_pred)\n"
   ]
  },
  {
   "cell_type": "code",
   "execution_count": 37,
   "id": "cf95c886",
   "metadata": {
    "execution": {
     "iopub.execute_input": "2024-01-22T15:49:19.369505Z",
     "iopub.status.busy": "2024-01-22T15:49:19.369163Z",
     "iopub.status.idle": "2024-01-22T15:49:19.683359Z",
     "shell.execute_reply": "2024-01-22T15:49:19.682532Z"
    },
    "papermill": {
     "duration": 0.34336,
     "end_time": "2024-01-22T15:49:19.685382",
     "exception": false,
     "start_time": "2024-01-22T15:49:19.342022",
     "status": "completed"
    },
    "tags": []
   },
   "outputs": [
    {
     "data": {
      "text/plain": [
       "<Axes: title={'center': 'Start Hesitation'}>"
      ]
     },
     "execution_count": 37,
     "metadata": {},
     "output_type": "execute_result"
    },
    {
     "data": {
      "image/png": "[encoded data removed]",
      "text/plain": [
       "<Figure size 640x480 with 2 Axes>"
      ]
     },
     "metadata": {},
     "output_type": "display_data"
    }
   ],
   "source": [
    "plt.title('Start Hesitation')\n",
    "sns.heatmap(sh,annot=True)"
   ]
  },
  {
   "cell_type": "code",
   "execution_count": 38,
   "id": "4a084418",
   "metadata": {
    "execution": {
     "iopub.execute_input": "2024-01-22T15:49:19.740958Z",
     "iopub.status.busy": "2024-01-22T15:49:19.740644Z",
     "iopub.status.idle": "2024-01-22T15:49:20.419878Z",
     "shell.execute_reply": "2024-01-22T15:49:20.418997Z"
    },
    "papermill": {
     "duration": 0.708869,
     "end_time": "2024-01-22T15:49:20.421911",
     "exception": false,
     "start_time": "2024-01-22T15:49:19.713042",
     "status": "completed"
    },
    "tags": []
   },
   "outputs": [
    {
     "data": {
      "text/plain": [
       "<Axes: title={'center': 'Turn'}>"
      ]
     },
     "execution_count": 38,
     "metadata": {},
     "output_type": "execute_result"
    },
    {
     "data": {
      "image/png": "[encoded data removed]",
      "text/plain": [
       "<Figure size 640x480 with 2 Axes>"
      ]
     },
     "metadata": {},
     "output_type": "display_data"
    }
   ],
   "source": [
    "plt.title('Turn')\n",
    "sns.heatmap(tu,annot=True)"
   ]
  },
  {
   "cell_type": "code",
   "execution_count": 39,
   "id": "2ba0409f",
   "metadata": {
    "execution": {
     "iopub.execute_input": "2024-01-22T15:49:20.478893Z",
     "iopub.status.busy": "2024-01-22T15:49:20.478555Z",
     "iopub.status.idle": "2024-01-22T15:49:20.780525Z",
     "shell.execute_reply": "2024-01-22T15:49:20.779626Z"
    },
    "papermill": {
     "duration": 0.332227,
     "end_time": "2024-01-22T15:49:20.782433",
     "exception": false,
     "start_time": "2024-01-22T15:49:20.450206",
     "status": "completed"
    },
    "tags": []
   },
   "outputs": [
    {
     "data": {
      "text/plain": [
       "<Axes: title={'center': 'Walikng'}>"
      ]
     },
     "execution_count": 39,
     "metadata": {},
     "output_type": "execute_result"
    },
    {
     "data": {
      "image/png": "[encoded data removed]",
      "text/plain": [
       "<Figure size 640x480 with 2 Axes>"
      ]
     },
     "metadata": {},
     "output_type": "display_data"
    }
   ],
   "source": [
    "plt.title('Walikng')\n",
    "sns.heatmap(wa,annot=True)"
   ]
  },
  {
   "cell_type": "code",
   "execution_count": 40,
   "id": "6503d588",
   "metadata": {
    "execution": {
     "iopub.execute_input": "2024-01-22T15:49:20.951878Z",
     "iopub.status.busy": "2024-01-22T15:49:20.951528Z",
     "iopub.status.idle": "2024-01-22T15:49:20.955586Z",
     "shell.execute_reply": "2024-01-22T15:49:20.954874Z"
    },
    "papermill": {
     "duration": 0.035031,
     "end_time": "2024-01-22T15:49:20.957553",
     "exception": false,
     "start_time": "2024-01-22T15:49:20.922522",
     "status": "completed"
    },
    "tags": []
   },
   "outputs": [],
   "source": [
    "seed = np.random.seed(6)"
   ]
  },
  {
   "cell_type": "code",
   "execution_count": 41,
   "id": "19d7e2a7",
   "metadata": {
    "execution": {
     "iopub.execute_input": "2024-01-22T15:49:21.015267Z",
     "iopub.status.busy": "2024-01-22T15:49:21.014975Z",
     "iopub.status.idle": "2024-01-22T15:51:09.997240Z",
     "shell.execute_reply": "2024-01-22T15:51:09.996027Z"
    },
    "papermill": {
     "duration": 109.013317,
     "end_time": "2024-01-22T15:51:09.999372",
     "exception": false,
     "start_time": "2024-01-22T15:49:20.986055",
     "status": "completed"
    },
    "tags": []
   },
   "outputs": [
    {
     "name": "stdout",
     "output_type": "stream",
     "text": [
      "Learning rate set to 0.146235\n",
      "0:\tlearn: 0.9270912\ttest: 0.9268202\tbest: 0.9268202 (0)\ttotal: 133ms\tremaining: 2m 13s\n",
      "100:\tlearn: 0.9571366\ttest: 0.9570848\tbest: 0.9570848 (100)\ttotal: 10.3s\tremaining: 1m 31s\n",
      "200:\tlearn: 0.9606634\ttest: 0.9603015\tbest: 0.9603015 (200)\ttotal: 21.5s\tremaining: 1m 25s\n",
      "300:\tlearn: 0.9626769\ttest: 0.9619468\tbest: 0.9619468 (300)\ttotal: 32.3s\tremaining: 1m 15s\n",
      "400:\tlearn: 0.9639970\ttest: 0.9629979\tbest: 0.9629979 (400)\ttotal: 43.1s\tremaining: 1m 4s\n",
      "500:\tlearn: 0.9650771\ttest: 0.9637313\tbest: 0.9637313 (500)\ttotal: 54.3s\tremaining: 54.1s\n",
      "600:\tlearn: 0.9659734\ttest: 0.9642917\tbest: 0.9642917 (600)\ttotal: 1m 5s\tremaining: 43.2s\n",
      "700:\tlearn: 0.9667074\ttest: 0.9646985\tbest: 0.9646985 (700)\ttotal: 1m 15s\tremaining: 32.3s\n",
      "800:\tlearn: 0.9674858\ttest: 0.9651465\tbest: 0.9651467 (798)\ttotal: 1m 27s\tremaining: 21.6s\n",
      "900:\tlearn: 0.9681452\ttest: 0.9654321\tbest: 0.9654321 (900)\ttotal: 1m 37s\tremaining: 10.8s\n",
      "999:\tlearn: 0.9687039\ttest: 0.9656357\tbest: 0.9656357 (999)\ttotal: 1m 48s\tremaining: 0us\n",
      "\n",
      "bestTest = 0.9656356885\n",
      "bestIteration = 999\n",
      "\n"
     ]
    }
   ],
   "source": [
    "train1_dataset = Pool(data=X1_train,label=y1_train)\n",
    "eval1_dataset = Pool(data=X1_test,label=y1_test)\n",
    "catmodel = CatBoostClassifier(iterations=1000,verbose=100, od_type=\"Iter\",eval_metric=\"PRAUC\", random_seed=seed, early_stopping_rounds=100)\n",
    "catmodel.fit(train1_dataset, use_best_model=True, eval_set=eval1_dataset);"
   ]
  },
  {
   "cell_type": "code",
   "execution_count": 42,
   "id": "075e436a",
   "metadata": {
    "execution": {
     "iopub.execute_input": "2024-01-22T15:51:10.059461Z",
     "iopub.status.busy": "2024-01-22T15:51:10.059144Z",
     "iopub.status.idle": "2024-01-22T16:05:28.770820Z",
     "shell.execute_reply": "2024-01-22T16:05:28.769830Z"
    },
    "papermill": {
     "duration": 858.775272,
     "end_time": "2024-01-22T16:05:28.804544",
     "exception": false,
     "start_time": "2024-01-22T15:51:10.029272",
     "status": "completed"
    },
    "tags": []
   },
   "outputs": [
    {
     "name": "stdout",
     "output_type": "stream",
     "text": [
      "Learning rate set to 0.239915\n",
      "0:\tlearn: 0.7190598\ttest: 0.7241133\tbest: 0.7241133 (0)\ttotal: 621ms\tremaining: 10m 20s\n",
      "100:\tlearn: 0.8167401\ttest: 0.8165489\tbest: 0.8165489 (100)\ttotal: 1m 20s\tremaining: 12m\n",
      "200:\tlearn: 0.8269261\ttest: 0.8265524\tbest: 0.8265524 (200)\ttotal: 2m 47s\tremaining: 11m 4s\n",
      "300:\tlearn: 0.8323536\ttest: 0.8318286\tbest: 0.8318286 (300)\ttotal: 4m 13s\tremaining: 9m 48s\n",
      "400:\tlearn: 0.8359354\ttest: 0.8352207\tbest: 0.8352207 (400)\ttotal: 5m 39s\tremaining: 8m 26s\n",
      "500:\tlearn: 0.8388537\ttest: 0.8379624\tbest: 0.8379624 (500)\ttotal: 7m 5s\tremaining: 7m 4s\n",
      "600:\tlearn: 0.8413217\ttest: 0.8402369\tbest: 0.8402369 (600)\ttotal: 8m 32s\tremaining: 5m 39s\n",
      "700:\tlearn: 0.8432749\ttest: 0.8420468\tbest: 0.8420468 (700)\ttotal: 9m 58s\tremaining: 4m 15s\n",
      "800:\tlearn: 0.8450586\ttest: 0.8436479\tbest: 0.8436479 (800)\ttotal: 11m 24s\tremaining: 2m 50s\n",
      "900:\tlearn: 0.8464298\ttest: 0.8448743\tbest: 0.8448743 (900)\ttotal: 12m 51s\tremaining: 1m 24s\n",
      "999:\tlearn: 0.8477105\ttest: 0.8459778\tbest: 0.8459778 (999)\ttotal: 14m 17s\tremaining: 0us\n",
      "\n",
      "bestTest = 0.8459777811\n",
      "bestIteration = 999\n",
      "\n"
     ]
    }
   ],
   "source": [
    "train2_dataset = Pool(data=X2_train,label=y2_train)\n",
    "eval2_dataset = Pool(data=X2_test,label=y2_test)\n",
    "catmodel = CatBoostClassifier(iterations=1000,verbose=100, od_type=\"Iter\",eval_metric=\"PRAUC\", random_seed=seed, early_stopping_rounds=100)\n",
    "catmodel.fit(train2_dataset, use_best_model=True, eval_set=eval2_dataset);"
   ]
  },
  {
   "cell_type": "code",
   "execution_count": 43,
   "id": "b1f7e044",
   "metadata": {
    "execution": {
     "iopub.execute_input": "2024-01-22T16:05:28.870420Z",
     "iopub.status.busy": "2024-01-22T16:05:28.870036Z",
     "iopub.status.idle": "2024-01-22T16:06:44.927999Z",
     "shell.execute_reply": "2024-01-22T16:06:44.926796Z"
    },
    "papermill": {
     "duration": 76.093864,
     "end_time": "2024-01-22T16:06:44.930164",
     "exception": false,
     "start_time": "2024-01-22T16:05:28.836300",
     "status": "completed"
    },
    "tags": []
   },
   "outputs": [
    {
     "name": "stdout",
     "output_type": "stream",
     "text": [
      "Learning rate set to 0.132986\n",
      "0:\tlearn: 0.8222722\ttest: 0.8264428\tbest: 0.8264428 (0)\ttotal: 50.3ms\tremaining: 50.2s\n",
      "100:\tlearn: 0.8777937\ttest: 0.8806106\tbest: 0.8806106 (100)\ttotal: 7.55s\tremaining: 1m 7s\n",
      "200:\tlearn: 0.8867439\ttest: 0.8882973\tbest: 0.8882973 (200)\ttotal: 15s\tremaining: 59.5s\n",
      "300:\tlearn: 0.8916631\ttest: 0.8920933\tbest: 0.8920933 (300)\ttotal: 22.5s\tremaining: 52.1s\n",
      "400:\tlearn: 0.8949186\ttest: 0.8943703\tbest: 0.8943703 (400)\ttotal: 30.1s\tremaining: 44.9s\n",
      "500:\tlearn: 0.8975988\ttest: 0.8961020\tbest: 0.8961020 (500)\ttotal: 37.8s\tremaining: 37.6s\n",
      "600:\tlearn: 0.8998562\ttest: 0.8974552\tbest: 0.8974552 (600)\ttotal: 45.3s\tremaining: 30.1s\n",
      "700:\tlearn: 0.9017930\ttest: 0.8983788\tbest: 0.8983788 (700)\ttotal: 52.8s\tremaining: 22.5s\n",
      "800:\tlearn: 0.9036329\ttest: 0.8994287\tbest: 0.8994287 (800)\ttotal: 1m\tremaining: 15s\n",
      "900:\tlearn: 0.9051386\ttest: 0.9000620\tbest: 0.9000635 (898)\ttotal: 1m 8s\tremaining: 7.49s\n",
      "999:\tlearn: 0.9065243\ttest: 0.9005563\tbest: 0.9005563 (999)\ttotal: 1m 15s\tremaining: 0us\n",
      "\n",
      "bestTest = 0.9005563233\n",
      "bestIteration = 999\n",
      "\n"
     ]
    }
   ],
   "source": [
    "train3_dataset = Pool(data=X3_train,label=y3_train)\n",
    "eval3_dataset = Pool(data=X3_test,label=y3_test)\n",
    "catmodel = CatBoostClassifier(iterations=1000,verbose=100, od_type=\"Iter\",eval_metric=\"PRAUC\", random_seed=seed, early_stopping_rounds=100)\n",
    "catmodel.fit(train3_dataset, use_best_model=True, eval_set=eval3_dataset);"
   ]
  },
  {
   "cell_type": "code",
   "execution_count": 44,
   "id": "1b805ac5",
   "metadata": {
    "execution": {
     "iopub.execute_input": "2024-01-22T16:06:44.996243Z",
     "iopub.status.busy": "2024-01-22T16:06:44.995866Z",
     "iopub.status.idle": "2024-01-22T16:17:53.603456Z",
     "shell.execute_reply": "2024-01-22T16:17:53.602308Z"
    },
    "papermill": {
     "duration": 668.644575,
     "end_time": "2024-01-22T16:17:53.607159",
     "exception": false,
     "start_time": "2024-01-22T16:06:44.962584",
     "status": "completed"
    },
    "tags": []
   },
   "outputs": [
    {
     "name": "stdout",
     "output_type": "stream",
     "text": [
      "------------------------------ FOLD 1/6 ------------------------------\n",
      "Learning rate set to 0.054254\n",
      "0:\tlearn: 0.9366390\ttest: 0.8484960\tbest: 0.8484960 (0)\ttotal: 61.3ms\tremaining: 10m 12s\n",
      "1000:\tlearn: 0.9677513\ttest: 0.8726713\tbest: 0.8818818 (137)\ttotal: 1m 40s\tremaining: 15m 5s\n",
      "Stopped by overfitting detector  (1000 iterations wait)\n",
      "\n",
      "bestTest = 0.88188185\n",
      "bestIteration = 137\n",
      "\n",
      "Shrink model to first 138 iterations.\n",
      "------------------------------ FOLD 2/6 ------------------------------\n",
      "Learning rate set to 0.054254\n",
      "0:\tlearn: 0.9336521\ttest: 0.8765241\tbest: 0.8765241 (0)\ttotal: 66.8ms\tremaining: 11m 8s\n",
      "1000:\tlearn: 0.9690515\ttest: 0.8889987\tbest: 0.9021842 (139)\ttotal: 1m 41s\tremaining: 15m 14s\n",
      "Stopped by overfitting detector  (1000 iterations wait)\n",
      "\n",
      "bestTest = 0.9021842106\n",
      "bestIteration = 139\n",
      "\n",
      "Shrink model to first 140 iterations.\n",
      "------------------------------ FOLD 3/6 ------------------------------\n",
      "Learning rate set to 0.054254\n",
      "0:\tlearn: 0.9389164\ttest: 0.8228278\tbest: 0.8228278 (0)\ttotal: 64.3ms\tremaining: 10m 43s\n",
      "1000:\tlearn: 0.9724612\ttest: 0.8350958\tbest: 0.8437701 (48)\ttotal: 1m 41s\tremaining: 15m 9s\n",
      "Stopped by overfitting detector  (1000 iterations wait)\n",
      "\n",
      "bestTest = 0.8437701336\n",
      "bestIteration = 48\n",
      "\n",
      "Shrink model to first 49 iterations.\n",
      "------------------------------ FOLD 4/6 ------------------------------\n",
      "Learning rate set to 0.054254\n",
      "0:\tlearn: 0.9228621\ttest: 0.9238143\tbest: 0.9238143 (0)\ttotal: 108ms\tremaining: 18m 1s\n",
      "1000:\tlearn: 0.9644759\ttest: 0.9471010\tbest: 0.9475989 (224)\ttotal: 1m 41s\tremaining: 15m 15s\n",
      "Stopped by overfitting detector  (1000 iterations wait)\n",
      "\n",
      "bestTest = 0.9475989171\n",
      "bestIteration = 224\n",
      "\n",
      "Shrink model to first 225 iterations.\n",
      "------------------------------ FOLD 5/6 ------------------------------\n",
      "Learning rate set to 0.054254\n",
      "0:\tlearn: 0.9147036\ttest: 0.9969497\tbest: 0.9969497 (0)\ttotal: 71.2ms\tremaining: 11m 52s\n",
      "1000:\tlearn: 0.9586533\ttest: 0.9973555\tbest: 0.9999953 (12)\ttotal: 1m 41s\tremaining: 15m 11s\n",
      "Stopped by overfitting detector  (1000 iterations wait)\n",
      "\n",
      "bestTest = 0.9999953193\n",
      "bestIteration = 12\n",
      "\n",
      "Shrink model to first 13 iterations.\n",
      "------------------------------ FOLD 6/6 ------------------------------\n",
      "Learning rate set to 0.054254\n",
      "0:\tlearn: 0.9143261\ttest: 0.9930999\tbest: 0.9930999 (0)\ttotal: 68.7ms\tremaining: 11m 27s\n",
      "1000:\tlearn: 0.9635926\ttest: 0.9918882\tbest: 0.9969873 (14)\ttotal: 1m 40s\tremaining: 14m 59s\n",
      "Stopped by overfitting detector  (1000 iterations wait)\n",
      "\n",
      "bestTest = 0.9969872958\n",
      "bestIteration = 14\n",
      "\n",
      "Shrink model to first 15 iterations.\n"
     ]
    }
   ],
   "source": [
    "SPLITS = 6\n",
    "cat1_auc_score = []\n",
    "CAT1_MODELS = []\n",
    "\n",
    "for i,(tr,val) in enumerate(StratifiedKFold(n_splits=SPLITS,random_state=seed).split(X1_balanced,y1_balanced)):\n",
    "    \n",
    "    print(\"-\"*30,f\"FOLD {i+1}/{SPLITS}\",\"-\"*30)\n",
    "\n",
    "    train_dataset1 = Pool(data=X1_balanced.iloc[tr,:],label=y1_balanced.iloc[tr])\n",
    "    eval_dataset1 = Pool(data=X1_balanced.iloc[val,:],label=y1_balanced.iloc[val])\n",
    "    \n",
    "    catmodel = CatBoostClassifier(iterations=10000,verbose=1000,\n",
    "                                  od_type=\"Iter\",eval_metric=\"PRAUC\",\n",
    "                                  random_seed=seed,early_stopping_rounds=1000)\n",
    "    catmodel.fit(train_dataset1, use_best_model=True, eval_set=eval_dataset1)\n",
    "    CAT1_MODELS.append(catmodel)\n",
    "    \n",
    "    auc = roc_auc_score(y1_balanced.iloc[val], catmodel.predict_proba(X1_balanced.iloc[val,:])[:,1])\n",
    "    cat1_auc_score.append(auc)\n",
    "\n",
    "    \n"
   ]
  },
  {
   "cell_type": "code",
   "execution_count": 45,
   "id": "bd76338d",
   "metadata": {
    "execution": {
     "iopub.execute_input": "2024-01-22T16:17:53.680026Z",
     "iopub.status.busy": "2024-01-22T16:17:53.679362Z",
     "iopub.status.idle": "2024-01-22T16:17:53.684653Z",
     "shell.execute_reply": "2024-01-22T16:17:53.683799Z"
    },
    "papermill": {
     "duration": 0.041437,
     "end_time": "2024-01-22T16:17:53.686561",
     "exception": false,
     "start_time": "2024-01-22T16:17:53.645124",
     "status": "completed"
    },
    "tags": []
   },
   "outputs": [
    {
     "name": "stdout",
     "output_type": "stream",
     "text": [
      "CV score of CAT is  0.9292305110863741\n"
     ]
    }
   ],
   "source": [
    "\n",
    "print(\"CV score of CAT is \",np.array(cat1_auc_score).mean())"
   ]
  }
 ],
 "metadata": {
  "kaggle": {
   "accelerator": "gpu",
   "dataSources": [
    {
     "databundleVersionId": 5677426,
     "sourceId": 41880,
     "sourceType": "competition"
    }
   ],
   "dockerImageVersionId": 30587,
   "isGpuEnabled": true,
   "isInternetEnabled": true,
   "language": "python",
   "sourceType": "notebook"
  },
  "kernelspec": {
   "display_name": "Python 3",
   "language": "python",
   "name": "python3"
  },
  "language_info": {
   "codemirror_mode": {
    "name": "ipython",
    "version": 3
   },
   "file_extension": ".py",
   "mimetype": "text/x-python",
   "name": "python",
   "nbconvert_exporter": "python",
   "pygments_lexer": "ipython3",
   "version": "3.10.12"
  },
  "papermill": {
   "default_parameters": {},
   "duration": 2079.529867,
   "end_time": "2024-01-22T16:19:35.950570",
   "environment_variables": {},
   "exception": null,
   "input_path": "__notebook__.ipynb",
   "output_path": "__notebook__.ipynb",
   "parameters": {},
   "start_time": "2024-01-22T15:44:56.420703",
   "version": "2.4.0"
  }
 },
 "nbformat": 4,
 "nbformat_minor": 5
}
