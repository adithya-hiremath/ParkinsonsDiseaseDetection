{
 "cells": [
  {
   "cell_type": "code",
   "execution_count": 1,
   "metadata": {
    "execution": {
     "iopub.execute_input": "2023-09-24T15:29:03.403380Z",
     "iopub.status.busy": "2023-09-24T15:29:03.403004Z",
     "iopub.status.idle": "2023-09-24T15:29:03.410132Z",
     "shell.execute_reply": "2023-09-24T15:29:03.409190Z",
     "shell.execute_reply.started": "2023-09-24T15:29:03.403318Z"
    }
   },
   "outputs": [],
   "source": [
    "%matplotlib inline"
   ]
  },
  {
   "cell_type": "markdown",
   "metadata": {},
   "source": [
    "### Copy uploaded code and copy to working dir so that it's available from import:"
   ]
  },
  {
   "cell_type": "code",
   "execution_count": 2,
   "metadata": {
    "execution": {
     "iopub.execute_input": "2023-09-24T15:29:03.442074Z",
     "iopub.status.busy": "2023-09-24T15:29:03.441564Z",
     "iopub.status.idle": "2023-09-24T15:29:03.535742Z",
     "shell.execute_reply": "2023-09-24T15:29:03.534847Z",
     "shell.execute_reply.started": "2023-09-24T15:29:03.442027Z"
    }
   },
   "outputs": [],
   "source": [
    "import os\n",
    "from shutil import copyfile\n",
    "python_files_path = \"../input/parkinsons-detection-python-files-for-notebook\"\n",
    "files = os.listdir(python_files_path)\n",
    "for file in files:\n",
    "    copyfile(src = os.path.join(python_files_path, file), \n",
    "             dst = os.path.join(\"../working\", file))\n",
    "    "
   ]
  },
  {
   "cell_type": "code",
   "execution_count": 3,
   "metadata": {
    "execution": {
     "iopub.execute_input": "2023-09-24T15:29:03.538827Z",
     "iopub.status.busy": "2023-09-24T15:29:03.538033Z",
     "iopub.status.idle": "2023-09-24T15:29:05.434366Z",
     "shell.execute_reply": "2023-09-24T15:29:05.433454Z",
     "shell.execute_reply.started": "2023-09-24T15:29:03.538394Z"
    }
   },
   "outputs": [],
   "source": [
    "import pandas as pd\n",
    "import numpy as np\n",
    "import warnings\n",
    "from sklearn.svm import SVC, NuSVC, SVR\n",
    "from scipy import stats\n",
    "from constants import *\n",
    "from auxiliary_functions import *\n",
    "from matplotlib import pyplot as plt\n",
    "from sklearn.model_selection import cross_validate, cross_val_score, train_test_split, KFold, StratifiedKFold, GridSearchCV\n",
    "from sklearn.preprocessing import StandardScaler, MinMaxScaler\n",
    "from sklearn.ensemble import RandomForestClassifier, GradientBoostingClassifier, GradientBoostingRegressor, VotingClassifier, AdaBoostClassifier, BaggingRegressor\n",
    "from sklearn.linear_model import LogisticRegression, SGDClassifier\n",
    "from sklearn.neighbors import KNeighborsClassifier\n",
    "from sklearn.neural_network import MLPClassifier\n",
    "from sklearn.discriminant_analysis import LinearDiscriminantAnalysis, QuadraticDiscriminantAnalysis\n",
    "from collections import namedtuple\n",
    "from sklearn.decomposition import PCA\n",
    "from os import cpu_count\n",
    "from TwoGroupsWeightedModel import TwoGroupsWeightedModel\n",
    "from sklearn.neural_network import MLPClassifier\n",
    "from sklearn.tree import DecisionTreeClassifier\n",
    "from scipy.stats import iqr, kurtosis, skew\n",
    "from create_nqi_features_with_hand_direction_partition import create_nqi_features_from_raw_data_with_sides_partitions\n",
    "from method1_feature_extraction import *\n",
    "from plots import *\n",
    "import random"
   ]
  },
  {
   "cell_type": "markdown",
   "metadata": {},
   "source": [
    "### Configuration Constants"
   ]
  },
  {
   "cell_type": "code",
   "execution_count": 4,
   "metadata": {
    "execution": {
     "iopub.execute_input": "2023-09-24T15:29:05.438559Z",
     "iopub.status.busy": "2023-09-24T15:29:05.438198Z",
     "iopub.status.idle": "2023-09-24T15:29:05.443343Z",
     "shell.execute_reply": "2023-09-24T15:29:05.441780Z",
     "shell.execute_reply.started": "2023-09-24T15:29:05.438492Z"
    }
   },
   "outputs": [],
   "source": [
    "# if set to False, data will be loaded from previously processed saved files.\n",
    "# Else, it will be created from the raw data inside DATA_FOLDER/RawData.zip.\n",
    "PROCESS_DATA_FILES = True\n",
    "\n",
    "# if set to False, features will be loaded from previously saved files. Else they will be created from scratch.\n",
    "CALCULATE_FEATURES = True"
   ]
  },
  {
   "cell_type": "markdown",
   "metadata": {},
   "source": [
    "# Load Data"
   ]
  },
  {
   "cell_type": "code",
   "execution_count": 5,
   "metadata": {
    "execution": {
     "iopub.execute_input": "2023-09-24T15:29:05.444935Z",
     "iopub.status.busy": "2023-09-24T15:29:05.444661Z",
     "iopub.status.idle": "2023-09-24T15:29:05.458189Z",
     "shell.execute_reply": "2023-09-24T15:29:05.456843Z",
     "shell.execute_reply.started": "2023-09-24T15:29:05.444888Z"
    }
   },
   "outputs": [],
   "source": [
    "# if PROCESS_DATA_FILES:\n",
    "#     from zipfile import ZipFile  \n",
    "#     with ZipFile(os.path.join(DATA_FOLDER, RAW_DATA_ZIP_FILENAME)) as myzip:\n",
    "#         myzip.extractall(DATA_FOLDER)"
   ]
  },
  {
   "cell_type": "markdown",
   "metadata": {},
   "source": [
    "## Load full users and taps datasets from Kaggle"
   ]
  },
  {
   "cell_type": "code",
   "execution_count": 6,
   "metadata": {
    "execution": {
     "iopub.execute_input": "2023-09-24T15:29:05.461689Z",
     "iopub.status.busy": "2023-09-24T15:29:05.461322Z",
     "iopub.status.idle": "2023-09-24T15:29:05.476163Z",
     "shell.execute_reply": "2023-09-24T15:29:05.475201Z",
     "shell.execute_reply.started": "2023-09-24T15:29:05.461609Z"
    }
   },
   "outputs": [
    {
     "name": "stdout",
     "output_type": "stream",
     "text": [
      "../input/keyboard-taps-data-from-kaggle-and-mit\n"
     ]
    }
   ],
   "source": [
    "from constants import DATA_FOLDER\n",
    "print(DATA_FOLDER)"
   ]
  },
  {
   "cell_type": "code",
   "execution_count": 7,
   "metadata": {
    "execution": {
     "iopub.execute_input": "2023-09-24T15:29:05.481188Z",
     "iopub.status.busy": "2023-09-24T15:29:05.480458Z",
     "iopub.status.idle": "2023-09-24T15:31:36.852745Z",
     "shell.execute_reply": "2023-09-24T15:31:36.851627Z",
     "shell.execute_reply.started": "2023-09-24T15:29:05.480830Z"
    }
   },
   "outputs": [
    {
     "name": "stdout",
     "output_type": "stream",
     "text": [
      "Loading taps files: 100/622\n",
      "Loading taps files: 200/622\n",
      "Loading taps files: 300/622\n",
      "Loading taps files: 400/622\n",
      "Loading taps files: 500/622\n",
      "Loading taps files: 600/622\n",
      "Filtered out 386 rows with bad values in column 'HoldTime'\n",
      "Filtered out 167 rows with bad values in column 'LatencyTime'\n",
      "Filtered out 196 rows with bad values in column 'FlightTime'\n",
      "Filtered out 0 rows with bad values in column 'Direction'\n",
      "Filtered out 0 rows with bad values in column 'Hand'\n",
      "there are 50 unique user IDs in the Tappy data with no entry in the Users file\n",
      "Filtered out 301925 rows with bad values in column 'ID'\n"
     ]
    }
   ],
   "source": [
    "from kaggle_data_loader import *\n",
    "\n",
    "if PROCESS_DATA_FILES:\n",
    "    # Create dataframe from files, perform basic cleaning\n",
    "    kaggle_users = create_merged_users_details_file()\n",
    "    kaggle_taps = create_merged_taps_dataframe()\n",
    "    kaggle_taps = clean_bad_values(kaggle_taps)\n",
    "    kaggle_taps = clean_incompatible_user_ids(kaggle_taps, kaggle_users)"
   ]
  },
  {
   "cell_type": "markdown",
   "metadata": {},
   "source": [
    "Filter outliers:"
   ]
  },
  {
   "cell_type": "code",
   "execution_count": 8,
   "metadata": {
    "execution": {
     "iopub.execute_input": "2023-09-24T15:31:36.855065Z",
     "iopub.status.busy": "2023-09-24T15:31:36.854479Z",
     "iopub.status.idle": "2023-09-24T15:35:55.418805Z",
     "shell.execute_reply": "2023-09-24T15:35:55.417752Z",
     "shell.execute_reply.started": "2023-09-24T15:31:36.854999Z"
    }
   },
   "outputs": [
    {
     "data": {
      "image/png": "[encoded data removed]",
      "text/plain": [
       "<Figure size 432x288 with 1 Axes>"
      ]
     },
     "metadata": {
      "needs_background": "light"
     },
     "output_type": "display_data"
    },
    {
     "name": "stdout",
     "output_type": "stream",
     "text": [
      "After the percentile 99.993 we see significantly higher values, which are definitely outliers.\n",
      "Filtered out 631 rows with outliers in column 'HoldTime'\n"
     ]
    }
   ],
   "source": [
    "if PROCESS_DATA_FILES:\n",
    "    def filter_column_by_quantile(df, column, threshold):\n",
    "        len_before = len(df)\n",
    "        df = df[df[column] < np.percentile(df[column], threshold)]\n",
    "        len_after = len(df)\n",
    "        print(\"Filtered out {} rows with outliers in column '{}'\".format((len_before - len_after), column))\n",
    "        return df\n",
    "    \n",
    "    \n",
    "    def plot_percentiles_of_column(df, col, start, end, bins):\n",
    "        X = np.linspace(start, end, bins)\n",
    "        Y = [np.percentile(df[col], x) for x in X]\n",
    "        plt.plot(X, Y)\n",
    "        plt.title(col + \" Percentiles\")\n",
    "        plt.xlabel(\"Percent\")\n",
    "        plt.ylabel(\"Percentile Value\")\n",
    "        plt.show()\n",
    "    \n",
    "    \n",
    "    # Filter out outliers of HoldTime:\n",
    "    plot_percentiles_of_column(kaggle_taps, 'HoldTime', 99.96, 99.9999, 20)\n",
    "    print(\"After the percentile 99.993 we see significantly higher values, which are definitely outliers.\")\n",
    "    kaggle_taps = filter_column_by_quantile(kaggle_taps, 'HoldTime', 99.993)"
   ]
  },
  {
   "cell_type": "markdown",
   "metadata": {},
   "source": [
    "In the above plot, we can for the 'HoldTime' column the values after which the observations are clearly outliers, therefore we filter them out. In the other columns there are no such clear cut-off values."
   ]
  },
  {
   "cell_type": "markdown",
   "metadata": {},
   "source": [
    "Divide keystrokes to time-intervals of 90 seconds:"
   ]
  },
  {
   "cell_type": "code",
   "execution_count": 9,
   "metadata": {
    "execution": {
     "iopub.execute_input": "2023-09-24T15:35:55.420643Z",
     "iopub.status.busy": "2023-09-24T15:35:55.420316Z",
     "iopub.status.idle": "2023-09-24T15:47:15.523406Z",
     "shell.execute_reply": "2023-09-24T15:47:15.522389Z",
     "shell.execute_reply.started": "2023-09-24T15:35:55.420588Z"
    }
   },
   "outputs": [
    {
     "name": "stdout",
     "output_type": "stream",
     "text": [
      "Starting parsing of timestamps into cumulative time...\n",
      "Filtered out 0 rows with bad values in column 'PressTimeCumulative'\n",
      "Parsing ended, took 866.13 seconds\n",
      "Index(['HoldTime', 'Hand', 'LatencyTime', 'ID', 'Direction', 'FlightTime',\n",
      "       'binIndex'],\n",
      "      dtype='object')\n"
     ]
    }
   ],
   "source": [
    "if PROCESS_DATA_FILES:\n",
    "\n",
    "    # Add parsed date and time column + calculate cumulative time\n",
    "    kaggle_taps = add_cumulative_timestamps_column(kaggle_taps)\n",
    "    \n",
    "    # Group to bin indexes by the cumulative timestamps\n",
    "    def build_bins(df, bin_size_seconds):\n",
    "        df[\"PressTimeCumulative\"] = df[\"PressTimeCumulative\"] / 1000\n",
    "        max_press = (int(max((df[\"PressTimeCumulative\"])) / bin_size_seconds) + 1) * bin_size_seconds + 1\n",
    "        user_bins = [i for i in range(0, max_press, bin_size_seconds)]\n",
    "        df[\"binIndex\"] = pd.cut((df[\"PressTimeCumulative\"]), user_bins)\n",
    "        return df\n",
    "    \n",
    "    \n",
    "    kaggle_taps = build_bins(kaggle_taps, 90)\n",
    "    \n",
    "    # Keep only necessary columns and save to file\n",
    "    kaggle_taps = kaggle_taps[TAPS_FINAL_COLUMNS + ['binIndex']]    \n",
    "    kaggle_taps.to_csv(constants.KAGGLE_TAPS_INPUT, index=False)\n",
    "    print(kaggle_taps.columns)  # Print column names\n"
   ]
  },
  {
   "cell_type": "code",
   "execution_count": 10,
   "metadata": {
    "execution": {
     "iopub.execute_input": "2023-09-24T15:47:15.525433Z",
     "iopub.status.busy": "2023-09-24T15:47:15.524993Z",
     "iopub.status.idle": "2023-09-24T15:47:23.351508Z",
     "shell.execute_reply": "2023-09-24T15:47:23.350580Z",
     "shell.execute_reply.started": "2023-09-24T15:47:15.525251Z"
    }
   },
   "outputs": [
    {
     "name": "stdout",
     "output_type": "stream",
     "text": [
      "Kaggle taps final dataframe:\n",
      "\n",
      "   HoldTime Hand  LatencyTime          ID Direction  FlightTime binIndex\n",
      "0     207.0    L        359.4  S8Y5T8RWZ4        LL       218.8  (0, 90]\n",
      "1     109.4    L        425.8  S8Y5T8RWZ4        LL       269.5  (0, 90]\n",
      "2      93.8    L        203.1  S8Y5T8RWZ4        LL        93.8  (0, 90]\n",
      "3     109.4    L        312.5  S8Y5T8RWZ4        LL       218.8  (0, 90]\n",
      "4      46.9    L        234.4  S8Y5T8RWZ4        RL       343.8  (0, 90]\n",
      "\n",
      "Kaggle users dataframe:\n",
      "\n",
      "           ID  BirthYear  Gender  Parkinsons  Tremors DiagnosisYear  Sided  \\\n",
      "0  CPSM4LIXDS     1946.0    Male        True    False          2016  Right   \n",
      "1  S0YGDLIF9V        NaN    Male        True    False           NaN   None   \n",
      "2  H08AW2YBAJ     1952.0  Female       False    False        ------   None   \n",
      "3  V2SZVYXBOD     1941.0  Female        True    False          2015  Right   \n",
      "4  OMCPRWYBSQ     1952.0    Male       False    False        ------   None   \n",
      "\n",
      "        UPDRS  Impact  Levadopa     DA   MAOB  Other  \n",
      "0  Don't know  Severe     False  False  False   True  \n",
      "1           4  Severe      True   True   True   True  \n",
      "2  Don't know  ------     False  False  False  False  \n",
      "3  Don't know    Mild     False  False  False   True  \n",
      "4  Don't know  ------     False  False  False  False  \n"
     ]
    }
   ],
   "source": [
    "kaggle_taps = pd.read_csv(KAGGLE_TAPS_INPUT)\n",
    "kaggle_users = pd.read_csv(KAGGLE_USERS_INPUT)\n",
    "\n",
    "print(\"Kaggle taps final dataframe:\\n\")\n",
    "print(kaggle_taps.head())\n",
    "print(\"\\nKaggle users dataframe:\\n\")\n",
    "print(kaggle_users.head())"
   ]
  },
  {
   "cell_type": "code",
   "execution_count": 11,
   "metadata": {
    "execution": {
     "iopub.execute_input": "2023-09-24T15:47:23.353521Z",
     "iopub.status.busy": "2023-09-24T15:47:23.353204Z",
     "iopub.status.idle": "2023-09-24T15:47:23.362001Z",
     "shell.execute_reply": "2023-09-24T15:47:23.361155Z",
     "shell.execute_reply.started": "2023-09-24T15:47:23.353472Z"
    }
   },
   "outputs": [],
   "source": [
    "kaggle_users['BirthYear'] = pd.to_numeric(kaggle_users['BirthYear'], errors='coerce')\n",
    "kaggle_users['DiagnosisYear'] = pd.to_numeric(kaggle_users['DiagnosisYear'], errors='coerce')\n",
    "value_counts = kaggle_users[\"DiagnosisYear\"].value_counts()\n"
   ]
  },
  {
   "cell_type": "markdown",
   "metadata": {},
   "source": [
    "### Summary plots on Kaggle data"
   ]
  },
  {
   "cell_type": "code",
   "execution_count": 12,
   "metadata": {
    "execution": {
     "iopub.execute_input": "2023-09-24T15:47:23.363566Z",
     "iopub.status.busy": "2023-09-24T15:47:23.363240Z",
     "iopub.status.idle": "2023-09-24T15:47:24.044985Z",
     "shell.execute_reply": "2023-09-24T15:47:24.043744Z",
     "shell.execute_reply.started": "2023-09-24T15:47:23.363498Z"
    }
   },
   "outputs": [
    {
     "data": {
      "image/png": "[encoded data removed]",
      "text/plain": [
       "<Figure size 1080x720 with 4 Axes>"
      ]
     },
     "metadata": {
      "needs_background": "light"
     },
     "output_type": "display_data"
    }
   ],
   "source": [
    "warnings.simplefilter(action='ignore', category=FutureWarning) # Ignore pandas warning caused by an internal call to deprecated 'reshape'\n",
    "\n",
    "ages = add_age_column(kaggle_users)\n",
    "mild_users = keep_only_mild_users(kaggle_users)\n",
    "\n",
    "# general statistics of the users\n",
    "fig = plt.figure(figsize=(15, 10))\n",
    "ages_plot(fig, ages)\n",
    "genders_plot(fig, mild_users)\n",
    "diagnosis_plot(fig, mild_users)\n",
    "sickness_level_plot(fig, ages)\n",
    "\n",
    "warnings.resetwarnings()"
   ]
  },
  {
   "cell_type": "markdown",
   "metadata": {},
   "source": [
    "#### In-depth analysis of the values in 'HoldTime'"
   ]
  },
  {
   "cell_type": "markdown",
   "metadata": {},
   "source": [
    "An important finding that we had during the analysis of the Kaggle data, is that there is a significant number of specific 'HoldTime' values that occur hundreds of thousands of times in the data, sometimes even in a series of sequential keystrokes, in a pattern that is totally unlikely."
   ]
  },
  {
   "cell_type": "code",
   "execution_count": 13,
   "metadata": {
    "execution": {
     "iopub.execute_input": "2023-09-24T15:47:24.047077Z",
     "iopub.status.busy": "2023-09-24T15:47:24.046678Z",
     "iopub.status.idle": "2023-09-24T15:47:24.739243Z",
     "shell.execute_reply": "2023-09-24T15:47:24.737630Z",
     "shell.execute_reply.started": "2023-09-24T15:47:24.047019Z"
    }
   },
   "outputs": [
    {
     "name": "stdout",
     "output_type": "stream",
     "text": [
      "10 most common values in 'HoldTime' and their count:\n",
      "\n",
      "HoldTime\n",
      "82.0     235253\n",
      "117.2    260154\n",
      "70.3     264541\n",
      "125.0    304250\n",
      "101.6    323205\n",
      "85.9     339476\n",
      "62.5     352945\n",
      "109.4    387298\n",
      "93.8     490810\n",
      "78.1     645667\n",
      "Name: HoldTime, dtype: int64\n"
     ]
    },
    {
     "data": {
      "image/png": "[encoded data removed]",
      "text/plain": [
       "<Figure size 432x288 with 1 Axes>"
      ]
     },
     "metadata": {
      "needs_background": "light"
     },
     "output_type": "display_data"
    }
   ],
   "source": [
    "holdTimeCounters = kaggle_taps.groupby(['HoldTime']).HoldTime.count().sort_values()\n",
    "print(\"10 most common values in 'HoldTime' and their count:\\n\")\n",
    "print(holdTimeCounters.tail(10))\n",
    "hist = holdTimeCounters.hist(bins=100).set(xlabel=\"Count of occurrences of a 'HoldTime' value\", ylabel=\"Count of unique values\")"
   ]
  },
  {
   "cell_type": "markdown",
   "metadata": {},
   "source": [
    "We can see that most of the values appear less than 200 times, while there are some extreme values that appear hundreds of thousand of time."
   ]
  },
  {
   "cell_type": "markdown",
   "metadata": {},
   "source": [
    "As an example, let's focus on the extreme value '78.1'. If it were a valid normal value, we would expect to see that the density of it's appearance count should be similar to that of values around it. Let's plot the histogram around the value '78.1': "
   ]
  },
  {
   "cell_type": "code",
   "execution_count": 14,
   "metadata": {
    "execution": {
     "iopub.execute_input": "2023-09-24T15:47:24.742381Z",
     "iopub.status.busy": "2023-09-24T15:47:24.741679Z",
     "iopub.status.idle": "2023-09-24T15:47:25.403850Z",
     "shell.execute_reply": "2023-09-24T15:47:25.402664Z",
     "shell.execute_reply.started": "2023-09-24T15:47:24.742086Z"
    }
   },
   "outputs": [
    {
     "data": {
      "image/png": "[encoded data removed]",
      "text/plain": [
       "<Figure size 432x288 with 1 Axes>"
      ]
     },
     "metadata": {
      "needs_background": "light"
     },
     "output_type": "display_data"
    }
   ],
   "source": [
    "hist = kaggle_taps[(kaggle_taps.HoldTime < 80) & (kaggle_taps.HoldTime > 75)].HoldTime \\\n",
    "    .hist(bins=100).set(xlabel=\"'HoldTime' value\", ylabel=\"Count of occurrences\")"
   ]
  },
  {
   "cell_type": "markdown",
   "metadata": {},
   "source": [
    "We can see that the value is '78.1' is extremely common (>600,000 occurrences) while other close values are rare.\n",
    "We therefore conclude that the Kaggle data has built-in corrupted entries which are hard to distinguish from the correct ones. Trying to filter out such extremely common values leads to losing the vast majority of tha data. We therefore decided to continue working with the original data but keeping in mind the understanding that the signal could be corrupted."
   ]
  },
  {
   "cell_type": "markdown",
   "metadata": {},
   "source": [
    "## Load full users and taps datasets from MIT dataset"
   ]
  },
  {
   "cell_type": "code",
   "execution_count": 15,
   "metadata": {
    "execution": {
     "iopub.execute_input": "2023-09-24T15:47:25.406294Z",
     "iopub.status.busy": "2023-09-24T15:47:25.405660Z",
     "iopub.status.idle": "2023-09-24T15:47:32.570682Z",
     "shell.execute_reply": "2023-09-24T15:47:32.568984Z",
     "shell.execute_reply.started": "2023-09-24T15:47:25.406227Z"
    }
   },
   "outputs": [
    {
     "name": "stdout",
     "output_type": "stream",
     "text": [
      "Filtered out 1 rows with bad values in column 'HoldTime'\n",
      "Filtered out 3504 rows with bad values in column 'LatencyTime'\n",
      "Filtered out 12987 rows with bad values in column 'FlightTime'\n",
      "Filtered out 0 rows with bad values in column 'pressTime'\n",
      "Filtered out 10664 rows with bad values in column 'Hand'\n",
      "Filtered out 5817 rows with bad values in column 'Direction'\n",
      "\n",
      "MIT taps initial dataframe:\n",
      "\n",
      "      ID Hand Direction HoldTime LatencyTime FlightTime pressTime\n",
      "4   1009    L        LL   0.1705      0.3161      0.129    4.8304\n",
      "5   1009    S        LS   0.2858      0.6005       0.43    5.4309\n",
      "6   1009    L        SL   0.2923      1.6664     1.3806    7.0973\n",
      "10  1009    R        RR   0.1266      0.4051     0.2702    8.5475\n",
      "11  1009    R        RR   0.1587      0.2539     0.1273    8.8014\n"
     ]
    }
   ],
   "source": [
    "from mit_data_loader import *\n",
    "    \n",
    "if PROCESS_DATA_FILES:\n",
    "    mit_users = pd.read_csv(USERS, delimiter=',', header=0, error_bad_lines=False,\n",
    "                            low_memory=False, usecols=[\"pID\", \"gt\", \"updrs108\", \"file_1\", \"file_2\"])\n",
    "    \n",
    "    mit_taps = create_merged_taps_dataframe()\n",
    "    mit_taps = clean_errors_and_bad_values(mit_taps)\n",
    "\n",
    "    print(\"\\nMIT taps initial dataframe:\\n\")\n",
    "    print(mit_taps.head())"
   ]
  },
  {
   "cell_type": "markdown",
   "metadata": {},
   "source": [
    "Divide keystrokes to time-intervals of 90 seconds:"
   ]
  },
  {
   "cell_type": "code",
   "execution_count": 16,
   "metadata": {
    "execution": {
     "iopub.execute_input": "2023-09-24T15:47:32.573130Z",
     "iopub.status.busy": "2023-09-24T15:47:32.572578Z",
     "iopub.status.idle": "2023-09-24T15:47:32.688828Z",
     "shell.execute_reply": "2023-09-24T15:47:32.687575Z",
     "shell.execute_reply.started": "2023-09-24T15:47:32.572905Z"
    }
   },
   "outputs": [],
   "source": [
    "if PROCESS_DATA_FILES:\n",
    "\n",
    "    # Group to bin indexes by pressTime and add as a new column\n",
    "    bin_size_seconds = 90\n",
    "    max_press = (int(max(mit_taps[\"pressTime\"]) / bin_size_seconds) + 1) * bin_size_seconds + 1\n",
    "    user_bins = [i for i in range(0, max_press, bin_size_seconds)]\n",
    "    mit_taps[\"binIndex\"] = pd.cut(mit_taps[\"pressTime\"], user_bins)"
   ]
  },
  {
   "cell_type": "markdown",
   "metadata": {},
   "source": [
    "Filter outliers:"
   ]
  },
  {
   "cell_type": "code",
   "execution_count": 17,
   "metadata": {
    "execution": {
     "iopub.execute_input": "2023-09-24T15:47:32.690884Z",
     "iopub.status.busy": "2023-09-24T15:47:32.690493Z",
     "iopub.status.idle": "2023-09-24T15:47:46.651126Z",
     "shell.execute_reply": "2023-09-24T15:47:46.650258Z",
     "shell.execute_reply.started": "2023-09-24T15:47:32.690810Z"
    }
   },
   "outputs": [
    {
     "data": {
      "image/png": "[encoded data removed]",
      "text/plain": [
       "<Figure size 432x288 with 1 Axes>"
      ]
     },
     "metadata": {
      "needs_background": "light"
     },
     "output_type": "display_data"
    },
    {
     "data": {
      "image/png": "[encoded data removed]",
      "text/plain": [
       "<Figure size 432x288 with 1 Axes>"
      ]
     },
     "metadata": {
      "needs_background": "light"
     },
     "output_type": "display_data"
    },
    {
     "data": {
      "image/png": "[encoded data removed]",
      "text/plain": [
       "<Figure size 432x288 with 1 Axes>"
      ]
     },
     "metadata": {
      "needs_background": "light"
     },
     "output_type": "display_data"
    },
    {
     "name": "stdout",
     "output_type": "stream",
     "text": [
      "Filtered out 15 rows with outliers in column 'HoldTime'\n",
      "Filtered out 867 rows with outliers in column 'LatencyTime'\n",
      "Filtered out 72 rows with outliers in column 'FlightTime'\n"
     ]
    }
   ],
   "source": [
    "if PROCESS_DATA_FILES:\n",
    "    \n",
    "    def plot_percentile(df, column, start, end, bins):\n",
    "        X = np.linspace(start, end, bins)\n",
    "        Y = [np.percentile(df[column], x) for x in X]\n",
    "        plt.plot(X, Y)\n",
    "        plt.title(column + \" Percentiles\")\n",
    "        plt.xlabel(\"Percent\")\n",
    "        plt.ylabel(\"Percentile Value\")\n",
    "        plt.show()\n",
    "    \n",
    "    \n",
    "    def filter_column_by_quantile(df, column, threshold):\n",
    "        len_before = len(df)\n",
    "        df = df[df[column] < np.percentile(df[column], threshold)]\n",
    "        len_after = len(df)\n",
    "        print(\"Filtered out {} rows with outliers in column '{}'\".format((len_before - len_after), column))\n",
    "        return df\n",
    "    \n",
    "    for col in list(set(FLOAT_COLUMNS) - {\"pressTime\"}):\n",
    "        plot_percentile(mit_taps, col, 98, 99.9999, 40)\n",
    "    \n",
    "    # Filter according to the results in the plots\n",
    "    mit_taps = filter_column_by_quantile(mit_taps, \"HoldTime\", 99.99)\n",
    "    mit_taps = filter_column_by_quantile(mit_taps, \"LatencyTime\", 99.4)\n",
    "    mit_taps = filter_column_by_quantile(mit_taps, \"FlightTime\", 99.95)"
   ]
  },
  {
   "cell_type": "markdown",
   "metadata": {},
   "source": [
    "In the above plots, we can see for each column the values after which the observations are clearly outliers, therefore we filter them out."
   ]
  },
  {
   "cell_type": "markdown",
   "metadata": {},
   "source": [
    "Save final dataframe:"
   ]
  },
  {
   "cell_type": "code",
   "execution_count": 18,
   "metadata": {
    "execution": {
     "iopub.execute_input": "2023-09-24T15:47:46.653197Z",
     "iopub.status.busy": "2023-09-24T15:47:46.652651Z",
     "iopub.status.idle": "2023-09-24T15:47:48.443846Z",
     "shell.execute_reply": "2023-09-24T15:47:48.442986Z",
     "shell.execute_reply.started": "2023-09-24T15:47:46.653128Z"
    }
   },
   "outputs": [],
   "source": [
    "if PROCESS_DATA_FILES:\n",
    "\n",
    "    # Save to file - Taps file\n",
    "    mit_taps[[\"HoldTime\", \"LatencyTime\", \"FlightTime\"]] = \\\n",
    "        1000 * mit_taps[[\"HoldTime\", \"LatencyTime\", \"FlightTime\"]]  # to milliseconds\n",
    "    mit_taps.to_csv(MIT_TAPS_INPUT, index=False)\n",
    "    \n",
    "    # Save to file - Users file\n",
    "    mit_users.rename(columns={'pID': 'ID', 'gt': 'Parkinsons', 'updrs108': 'UPDRS'}, inplace=True)\n",
    "    mit_users = mit_users[['ID', 'Parkinsons', 'UPDRS']]\n",
    "    \n",
    "    mit_users.to_csv(MIT_USERS_INPUT, index=False)"
   ]
  },
  {
   "cell_type": "code",
   "execution_count": 19,
   "metadata": {
    "execution": {
     "iopub.execute_input": "2023-09-24T15:47:48.446397Z",
     "iopub.status.busy": "2023-09-24T15:47:48.445840Z",
     "iopub.status.idle": "2023-09-24T15:47:48.619655Z",
     "shell.execute_reply": "2023-09-24T15:47:48.618404Z",
     "shell.execute_reply.started": "2023-09-24T15:47:48.446184Z"
    }
   },
   "outputs": [
    {
     "name": "stdout",
     "output_type": "stream",
     "text": [
      "MIT users dataframe:\n",
      "\n",
      "   ID  Parkinsons  UPDRS\n",
      "0  11        True  14.25\n",
      "1  60       False   2.00\n",
      "2  67        True  25.25\n",
      "3  68       False   6.00\n",
      "4  70        True  26.25\n",
      "\n",
      "MIT taps final dataframe:\n",
      "\n",
      "     ID Hand Direction  HoldTime  LatencyTime  FlightTime  pressTime binIndex\n",
      "0  1009    L        LL     170.5        316.1       129.0     4.8304  (0, 90]\n",
      "1  1009    S        LS     285.8        600.5       430.0     5.4309  (0, 90]\n",
      "2  1009    L        SL     292.3       1666.4      1380.6     7.0973  (0, 90]\n",
      "3  1009    R        RR     126.6        405.1       270.2     8.5475  (0, 90]\n",
      "4  1009    R        RR     158.7        253.9       127.3     8.8014  (0, 90]\n"
     ]
    }
   ],
   "source": [
    "mit_taps = pd.read_csv(MIT_TAPS_INPUT)\n",
    "mit_users = pd.read_csv(MIT_USERS_INPUT)\n",
    "\n",
    "print(\"MIT users dataframe:\\n\")\n",
    "print(mit_users.head())\n",
    "print(\"\\nMIT taps final dataframe:\\n\")\n",
    "print(mit_taps.head())"
   ]
  },
  {
   "cell_type": "markdown",
   "metadata": {},
   "source": [
    "Summary plots on MIT data:"
   ]
  },
  {
   "cell_type": "code",
   "execution_count": 20,
   "metadata": {
    "execution": {
     "iopub.execute_input": "2023-09-24T15:47:48.621751Z",
     "iopub.status.busy": "2023-09-24T15:47:48.621343Z",
     "iopub.status.idle": "2023-09-24T15:47:48.979413Z",
     "shell.execute_reply": "2023-09-24T15:47:48.978114Z",
     "shell.execute_reply.started": "2023-09-24T15:47:48.621675Z"
    }
   },
   "outputs": [
    {
     "data": {
      "image/png": "[encoded data removed]",
      "text/plain": [
       "<Figure size 1080x360 with 2 Axes>"
      ]
     },
     "metadata": {
      "needs_background": "light"
     },
     "output_type": "display_data"
    }
   ],
   "source": [
    "warnings.simplefilter(action='ignore', category=FutureWarning) # Ignore pandas warning caused by an internal call to deprecated 'reshape'\n",
    "\n",
    "fig = plt.figure(figsize=(15, 5))\n",
    "mit_updrs_distribution(fig, mit_users)\n",
    "mit_diagnosis(fig, mit_users)\n",
    "\n",
    "warnings.resetwarnings()"
   ]
  },
  {
   "cell_type": "markdown",
   "metadata": {},
   "source": [
    "# Feature Creation"
   ]
  },
  {
   "cell_type": "markdown",
   "metadata": {},
   "source": [
    "## 1. Creating features from the Kaggle data set, according to the first approach:\n",
    "\n",
    "For every patient, calculate summary statistics for all of their data, partitioned into Left/Right, and LR/RL/LL/RR transitions: \n"
   ]
  },
  {
   "cell_type": "code",
   "execution_count": 21,
   "metadata": {
    "execution": {
     "iopub.execute_input": "2023-09-24T15:47:48.982407Z",
     "iopub.status.busy": "2023-09-24T15:47:48.981781Z",
     "iopub.status.idle": "2023-09-24T15:48:34.931476Z",
     "shell.execute_reply": "2023-09-24T15:48:34.930339Z",
     "shell.execute_reply.started": "2023-09-24T15:47:48.982194Z"
    }
   },
   "outputs": [
    {
     "name": "stdout",
     "output_type": "stream",
     "text": [
      "Summary statistics on the Kaggle data:\n",
      "\n",
      "            ID  L_FlightTime_mean  L_FlightTime_std  L_FlightTime_kurtosis  \\\n",
      "0  0EA27ICBLF         239.655394        107.822976              -1.263192   \n",
      "1  0QAZFRHQHW         319.277429        162.896291              -0.659685   \n",
      "2  1HOEBIGASW         386.722581        175.209404              -0.927794   \n",
      "3  1XNJCXS3EY         226.013786         85.352172              -0.493719   \n",
      "4  2JTCBKUP8T         265.411441        160.215877              -0.093353   \n",
      "\n",
      "   L_FlightTime_skew  L_FlightTime_percnt10  L_FlightTime_percnt20  \\\n",
      "0          -0.032858                   93.8                  125.0   \n",
      "1           0.361020                  117.2                  171.9   \n",
      "2          -0.326568                  132.8                  187.5   \n",
      "3          -0.125464                  113.3                  156.3   \n",
      "4           0.540118                   54.7                  117.2   \n",
      "\n",
      "   L_FlightTime_percnt40  L_FlightTime_percnt60  L_FlightTime_percnt70  ...  \\\n",
      "0                 203.10                 281.30                  320.3  ...   \n",
      "1                 253.52                 351.60                  406.3  ...   \n",
      "2                 365.20                 437.50                  500.0  ...   \n",
      "3                 203.10                 247.24                  271.5  ...   \n",
      "4                 214.80                 289.10                  328.1  ...   \n",
      "\n",
      "   Parkinsons  Tremors  DiagnosisYear  Sided       UPDRS  Impact  Levadopa  \\\n",
      "0        True     True         2000.0   Left  Don't know  Severe      True   \n",
      "1       False    False            NaN   None  Don't know  ------     False   \n",
      "2       False    False            NaN   None  Don't know  ------     False   \n",
      "3       False    False            NaN   None  Don't know  ------     False   \n",
      "4        True     True         2013.0  Right  Don't know  Medium      True   \n",
      "\n",
      "      DA   MAOB  Other  \n",
      "0   True  False  False  \n",
      "1  False  False  False  \n",
      "2  False  False  False  \n",
      "3  False  False  False  \n",
      "4  False  False  False  \n",
      "\n",
      "[5 rows x 215 columns]\n"
     ]
    }
   ],
   "source": [
    "if CALCULATE_FEATURES:\n",
    "    method1_features = create_summary_statistics(kaggle_taps,\n",
    "                                                 columns_to_aggregate=[\"FlightTime\", \"HoldTime\", \"LatencyTime\"],\n",
    "                                                 aggregation_functions=[np.mean, np.std, stats.kurtosis, stats.skew,\n",
    "                                                            percnt10, percnt20, percnt40, percnt60, percnt70,\n",
    "                                                            percnt80, percnt90])\n",
    "    # Add a feature of the mean-diff between Left and Right HoldTimes, and Between LR and RL LatencyTimes:\n",
    "    method1_features[\"mean_diff_L_R_HoldTime\"] = method1_features.R_HoldTime_mean - method1_features.L_HoldTime_mean\n",
    "    method1_features[\"mean_diff_LR_RL_LatencyTime\"] = method1_features.RL_LatencyTime_mean - method1_features.LR_LatencyTime_mean\n",
    "    method1_features[\"mean_diff_LL_RR_LatencyTime\"] = method1_features.LL_LatencyTime_mean - method1_features.RR_LatencyTime_mean\n",
    "    \n",
    "    # Join with the Users data:\n",
    "    method1_features = method1_features.merge(kaggle_users, on=\"ID\", how=\"left\")\n",
    "    # Dump to csv:\n",
    "    method1_features.to_csv(KAGGLE_DATA_ARTICLE_METHOD1_FEATURES)\n",
    "else:\n",
    "    method1_features = pd.read_csv(KAGGLE_DATA_ARTICLE_METHOD1_FEATURES)\n",
    "    \n",
    "print(\"Summary statistics on the Kaggle data:\\n\\n\",method1_features.head())"
   ]
  },
  {
   "cell_type": "markdown",
   "metadata": {},
   "source": [
    "Filter the data so that we only keep patients with plenty of tapping events, and only patients with mild Parkinsons:"
   ]
  },
  {
   "cell_type": "code",
   "execution_count": 22,
   "metadata": {
    "execution": {
     "iopub.status.busy": "2023-09-24T16:18:14.854237Z",
     "iopub.status.idle": "2023-09-24T16:18:14.854651Z"
    }
   },
   "outputs": [],
   "source": [
    "method1_features = method1_features[method1_features.total_count >= TAPS_THRESHOLD]  # take only users with more than THRESHOLD keystrokes\n",
    "method1_features = method1_features[method1_features.Levadopa.astype(str) == 'False']\n",
    "method1_features = method1_features[(method1_features.Parkinsons.astype(str) == 'False') | ( (method1_features.Parkinsons.astype(str) == 'True') & (method1_features.Impact == \"Mild\"))]"
   ]
  },
  {
   "cell_type": "code",
   "execution_count": 23,
   "metadata": {
    "execution": {
     "iopub.status.busy": "2023-09-24T16:18:14.855590Z",
     "iopub.status.idle": "2023-09-24T16:18:14.856093Z"
    }
   },
   "outputs": [
    {
     "name": "stdout",
     "output_type": "stream",
     "text": [
      "After all the above filtering, we are left with 52 patients\n"
     ]
    }
   ],
   "source": [
    "print(\"After all the above filtering, we are left with {} patients\".format(len(method1_features['ID'].unique())))"
   ]
  },
  {
   "cell_type": "markdown",
   "metadata": {},
   "source": [
    "### Summary plots of Kaggle data features"
   ]
  },
  {
   "cell_type": "code",
   "execution_count": 24,
   "metadata": {
    "execution": {
     "iopub.status.busy": "2023-09-24T16:18:14.857224Z",
     "iopub.status.idle": "2023-09-24T16:18:14.857599Z"
    }
   },
   "outputs": [
    {
     "data": {
      "image/png": "[encoded data removed]",
      "text/plain": [
       "<Figure size 1080x720 with 4 Axes>"
      ]
     },
     "metadata": {
      "needs_background": "light"
     },
     "output_type": "display_data"
    }
   ],
   "source": [
    "warnings.simplefilter(action='ignore', category=FutureWarning) # Ignore pandas warning caused by an internal call to deprecated 'reshape'\n",
    "\n",
    "sick = method1_features.loc[(method1_features['Parkinsons'] == True)]\n",
    "healthy = method1_features.loc[(method1_features['Parkinsons'] == False)]\n",
    "\n",
    "fig = plt.figure(figsize=(15, 10))\n",
    "lFlight_mean(fig, sick, healthy)\n",
    "lFlight_std(fig, sick, healthy)\n",
    "lFlight_kurtosis(fig, sick, healthy)\n",
    "lFlight_skew(fig, sick, healthy)"
   ]
  },
  {
   "cell_type": "markdown",
   "metadata": {},
   "source": [
    "Following are the plots describing the differences in means of different sides (Left, Right) HoldTime and side transitions (Left-to-Right, Right-to-Left, etc) LatencyTime:"
   ]
  },
  {
   "cell_type": "code",
   "execution_count": 25,
   "metadata": {
    "execution": {
     "iopub.execute_input": "2023-09-24T15:48:36.297270Z",
     "iopub.status.busy": "2023-09-24T15:48:36.296422Z",
     "iopub.status.idle": "2023-09-24T15:48:37.396485Z",
     "shell.execute_reply": "2023-09-24T15:48:37.395343Z",
     "shell.execute_reply.started": "2023-09-24T15:48:36.297192Z"
    }
   },
   "outputs": [
    {
     "data": {
      "image/png": "[encoded data removed]",
      "text/plain": [
       "<Figure size 1296x360 with 3 Axes>"
      ]
     },
     "metadata": {
      "needs_background": "light"
     },
     "output_type": "display_data"
    }
   ],
   "source": [
    "fig = plt.figure(figsize=(18, 5))\n",
    "\n",
    "LR_Hold_Time(fig, healthy, sick)\n",
    "LR_RL_Latency_Time(fig, healthy, sick)\n",
    "LL_RR_Latency_Time(fig, healthy, sick)\n",
    "\n",
    "warnings.resetwarnings()"
   ]
  },
  {
   "cell_type": "markdown",
   "metadata": {},
   "source": [
    "# Modeling Phase 1: Attempting to reproduce the results from the Kaggle challenge article"
   ]
  },
  {
   "cell_type": "code",
   "execution_count": 26,
   "metadata": {
    "execution": {
     "iopub.execute_input": "2023-09-24T15:48:37.399466Z",
     "iopub.status.busy": "2023-09-24T15:48:37.398627Z",
     "iopub.status.idle": "2023-09-24T15:48:37.408759Z",
     "shell.execute_reply": "2023-09-24T15:48:37.407402Z",
     "shell.execute_reply.started": "2023-09-24T15:48:37.399388Z"
    }
   },
   "outputs": [],
   "source": [
    "# The summary statistics used in the original article:\n",
    "ARTICLE_EXPLANATORY_VARIABLES =['L_HoldTime_mean', 'L_HoldTime_std', 'L_HoldTime_kurtosis', 'L_HoldTime_skew',\n",
    " 'R_HoldTime_mean', 'R_HoldTime_std', 'R_HoldTime_kurtosis', 'R_HoldTime_skew', 'LL_LatencyTime_mean', 'LL_LatencyTime_std',\n",
    " 'LL_LatencyTime_kurtosis', 'LL_LatencyTime_skew', 'LR_LatencyTime_mean', 'LR_LatencyTime_std', 'LR_LatencyTime_kurtosis',\n",
    " 'LR_LatencyTime_skew', 'RL_LatencyTime_mean', 'RL_LatencyTime_std', 'RL_LatencyTime_kurtosis', 'RL_LatencyTime_skew',\n",
    " 'RR_LatencyTime_mean', 'RR_LatencyTime_std', 'RR_LatencyTime_kurtosis', 'RR_LatencyTime_skew', 'mean_diff_LR_RL_LatencyTime',\n",
    " 'mean_diff_LL_RR_LatencyTime', 'mean_diff_L_R_HoldTime']"
   ]
  },
  {
   "cell_type": "markdown",
   "metadata": {},
   "source": [
    "### First attempt: applying several models to the raw data with the variables used in the article, without further processing:\n"
   ]
  },
  {
   "cell_type": "code",
   "execution_count": 27,
   "metadata": {
    "execution": {
     "iopub.execute_input": "2023-09-24T15:48:37.411470Z",
     "iopub.status.busy": "2023-09-24T15:48:37.411012Z",
     "iopub.status.idle": "2023-09-24T15:48:39.827734Z",
     "shell.execute_reply": "2023-09-24T15:48:39.826761Z",
     "shell.execute_reply.started": "2023-09-24T15:48:37.411401Z"
    }
   },
   "outputs": [
    {
     "name": "stderr",
     "output_type": "stream",
     "text": [
      "/opt/conda/lib/python3.6/site-packages/sklearn/linear_model/_logistic.py:940: ConvergenceWarning: lbfgs failed to converge (status=1):\n",
      "STOP: TOTAL NO. of ITERATIONS REACHED LIMIT.\n",
      "\n",
      "Increase the number of iterations (max_iter) or scale the data as shown in:\n",
      "    https://scikit-learn.org/stable/modules/preprocessing.html\n",
      "Please also refer to the documentation for alternative solver options:\n",
      "    https://scikit-learn.org/stable/modules/linear_model.html#logistic-regression\n",
      "  extra_warning_msg=_LOGISTIC_SOLVER_CONVERGENCE_MSG)\n",
      "/opt/conda/lib/python3.6/site-packages/sklearn/linear_model/_logistic.py:940: ConvergenceWarning: lbfgs failed to converge (status=1):\n",
      "STOP: TOTAL NO. of ITERATIONS REACHED LIMIT.\n",
      "\n",
      "Increase the number of iterations (max_iter) or scale the data as shown in:\n",
      "    https://scikit-learn.org/stable/modules/preprocessing.html\n",
      "Please also refer to the documentation for alternative solver options:\n",
      "    https://scikit-learn.org/stable/modules/linear_model.html#logistic-regression\n",
      "  extra_warning_msg=_LOGISTIC_SOLVER_CONVERGENCE_MSG)\n",
      "/opt/conda/lib/python3.6/site-packages/sklearn/linear_model/_logistic.py:940: ConvergenceWarning: lbfgs failed to converge (status=1):\n",
      "STOP: TOTAL NO. of ITERATIONS REACHED LIMIT.\n",
      "\n",
      "Increase the number of iterations (max_iter) or scale the data as shown in:\n",
      "    https://scikit-learn.org/stable/modules/preprocessing.html\n",
      "Please also refer to the documentation for alternative solver options:\n",
      "    https://scikit-learn.org/stable/modules/linear_model.html#logistic-regression\n",
      "  extra_warning_msg=_LOGISTIC_SOLVER_CONVERGENCE_MSG)\n",
      "/opt/conda/lib/python3.6/site-packages/sklearn/linear_model/_logistic.py:940: ConvergenceWarning: lbfgs failed to converge (status=1):\n",
      "STOP: TOTAL NO. of ITERATIONS REACHED LIMIT.\n",
      "\n",
      "Increase the number of iterations (max_iter) or scale the data as shown in:\n",
      "    https://scikit-learn.org/stable/modules/preprocessing.html\n",
      "Please also refer to the documentation for alternative solver options:\n",
      "    https://scikit-learn.org/stable/modules/linear_model.html#logistic-regression\n",
      "  extra_warning_msg=_LOGISTIC_SOLVER_CONVERGENCE_MSG)\n",
      "/opt/conda/lib/python3.6/site-packages/sklearn/linear_model/_logistic.py:940: ConvergenceWarning: lbfgs failed to converge (status=1):\n",
      "STOP: TOTAL NO. of ITERATIONS REACHED LIMIT.\n",
      "\n",
      "Increase the number of iterations (max_iter) or scale the data as shown in:\n",
      "    https://scikit-learn.org/stable/modules/preprocessing.html\n",
      "Please also refer to the documentation for alternative solver options:\n",
      "    https://scikit-learn.org/stable/modules/linear_model.html#logistic-regression\n",
      "  extra_warning_msg=_LOGISTIC_SOLVER_CONVERGENCE_MSG)\n",
      "/opt/conda/lib/python3.6/site-packages/sklearn/linear_model/_logistic.py:940: ConvergenceWarning: lbfgs failed to converge (status=1):\n",
      "STOP: TOTAL NO. of ITERATIONS REACHED LIMIT.\n",
      "\n",
      "Increase the number of iterations (max_iter) or scale the data as shown in:\n",
      "    https://scikit-learn.org/stable/modules/preprocessing.html\n",
      "Please also refer to the documentation for alternative solver options:\n",
      "    https://scikit-learn.org/stable/modules/linear_model.html#logistic-regression\n",
      "  extra_warning_msg=_LOGISTIC_SOLVER_CONVERGENCE_MSG)\n"
     ]
    },
    {
     "name": "stdout",
     "output_type": "stream",
     "text": [
      "LogisticRegression:\n",
      "\tTrain accuracy:0.75\n",
      "\tTest accuracy (5-fold cross validation):0.5018\n",
      "RandomForestClassifier:\n",
      "\tTrain accuracy:1.0\n",
      "\tTest accuracy (5-fold cross validation):0.5764\n",
      "AdaBoostClassifier:\n",
      "\tTrain accuracy:1.0\n",
      "\tTest accuracy (5-fold cross validation):0.5564\n",
      "KNeighborsClassifier:\n",
      "\tTrain accuracy:0.6538\n",
      "\tTest accuracy (5-fold cross validation):0.58\n",
      "GradientBoostingClassifier:\n",
      "\tTrain accuracy:1.0\n",
      "\tTest accuracy (5-fold cross validation):0.5364\n",
      "SVC:\n",
      "\tTrain accuracy:0.6346\n",
      "\tTest accuracy (5-fold cross validation):0.6364\n"
     ]
    }
   ],
   "source": [
    "X = method1_features[ARTICLE_EXPLANATORY_VARIABLES]\n",
    "y = method1_features[\"Parkinsons\"]\n",
    "classifiers = [LogisticRegression(),\n",
    "               RandomForestClassifier(),\n",
    "               AdaBoostClassifier(),\n",
    "               KNeighborsClassifier(),\n",
    "               GradientBoostingClassifier(),\n",
    "               SVC(kernel='rbf', probability=True),\n",
    "               ]\n",
    "for final_classifier in classifiers:\n",
    "    accuracy = evaluate_classifier_cv(final_classifier, X, y, cross_validation_folds=5)\n",
    "    print(str(final_classifier).split(\"(\")[0] + \":\")\n",
    "    print(\"\\t\"+accuracy.train)\n",
    "    print(\"\\t\" + accuracy.test)"
   ]
  },
  {
   "cell_type": "markdown",
   "metadata": {},
   "source": [
    "we can see that all models are highly overfitted, and do not perform well."
   ]
  },
  {
   "cell_type": "markdown",
   "metadata": {},
   "source": [
    "### Second attempt: normalize the data and apply PCA dimensionality reduction"
   ]
  },
  {
   "cell_type": "code",
   "execution_count": 28,
   "metadata": {
    "execution": {
     "iopub.execute_input": "2023-09-24T15:48:39.829530Z",
     "iopub.status.busy": "2023-09-24T15:48:39.829132Z",
     "iopub.status.idle": "2023-09-24T15:48:39.837407Z",
     "shell.execute_reply": "2023-09-24T15:48:39.836487Z",
     "shell.execute_reply.started": "2023-09-24T15:48:39.829470Z"
    }
   },
   "outputs": [],
   "source": [
    "scaler = StandardScaler()\n",
    "normalized_X = scaler.fit_transform(X)"
   ]
  },
  {
   "cell_type": "code",
   "execution_count": 29,
   "metadata": {
    "execution": {
     "iopub.execute_input": "2023-09-24T15:48:39.838843Z",
     "iopub.status.busy": "2023-09-24T15:48:39.838520Z",
     "iopub.status.idle": "2023-09-24T15:48:40.614625Z",
     "shell.execute_reply": "2023-09-24T15:48:40.613473Z",
     "shell.execute_reply.started": "2023-09-24T15:48:39.838756Z"
    }
   },
   "outputs": [
    {
     "data": {
      "image/png": "[encoded data removed]",
      "text/plain": [
       "<Figure size 1440x360 with 3 Axes>"
      ]
     },
     "metadata": {
      "needs_background": "light"
     },
     "output_type": "display_data"
    }
   ],
   "source": [
    "# Visualizing the data in 3d, 2d and 1d after PCA:\n",
    "\n",
    "pca = PCA(n_components=1)\n",
    "reduced_X = pca.fit_transform(normalized_X)\n",
    "_1d_res = get_labeled_data_1d(reduced_X, y)\n",
    "\n",
    "pca = PCA(n_components=2)\n",
    "reduced_X = pca.fit_transform(normalized_X)\n",
    "_2d_res = get_labeled_data_2d(reduced_X, y)\n",
    "\n",
    "pca = PCA(n_components=3)\n",
    "reduced_X = pca.fit_transform(normalized_X)\n",
    "_3d_res = get_labeled_data_3d(reduced_X, y)\n",
    "\n",
    "plot_dimensionality_reduction(_1d_res, _2d_res, _3d_res)"
   ]
  },
  {
   "cell_type": "markdown",
   "metadata": {},
   "source": [
    "From the above plots, it is evident that the data is not well seperated in low dimensions. We now try all possible dimensionality reductions, and for every number of dimensions we reduce to, we apply several classification models and keep the test score of the best one:"
   ]
  },
  {
   "cell_type": "code",
   "execution_count": 30,
   "metadata": {
    "execution": {
     "iopub.execute_input": "2023-09-24T15:48:40.620899Z",
     "iopub.status.busy": "2023-09-24T15:48:40.620598Z",
     "iopub.status.idle": "2023-09-24T15:50:23.061527Z",
     "shell.execute_reply": "2023-09-24T15:50:23.059825Z",
     "shell.execute_reply.started": "2023-09-24T15:48:40.620846Z"
    }
   },
   "outputs": [
    {
     "data": {
      "image/png": "[encoded data removed]",
      "text/plain": [
       "<Figure size 432x288 with 1 Axes>"
      ]
     },
     "metadata": {
      "needs_background": "light"
     },
     "output_type": "display_data"
    }
   ],
   "source": [
    "original_dim = len(normalized_X[0])\n",
    "tested_dimensions = []\n",
    "accuracies = []\n",
    "for dim in [i for i in range(1, original_dim+1)]:\n",
    "    if dim != original_dim:\n",
    "        pca = PCA(n_components=dim)\n",
    "        reduced_X = pca.fit_transform(normalized_X, y.values)\n",
    "    else:\n",
    "        reduced_X = normalized_X\n",
    "    best_accuracy = namedtuple(\"best_accuracy\", \"clf_name test_accuracy train_accuracy\")\n",
    "    best_accuracy.test_accuracy = -1  #init\n",
    "    for clf in classifiers:\n",
    "        accuracy = evaluate_classifier_cv(clf, reduced_X, y, cross_validation_folds=10)\n",
    "        if accuracy.test_score > best_accuracy.test_accuracy:\n",
    "            best_accuracy.test_accuracy = accuracy.test_score\n",
    "            best_accuracy.clf_name = str(clf).split(\"(\")[0]\n",
    "    tested_dimensions.append(dim)\n",
    "    accuracies.append(best_accuracy.test_accuracy)\n",
    "plt.title(\"Best test accuracy by dimension (reduction with PCA)\")\n",
    "plt.xlabel(\"Dimension\")\n",
    "plt.ylabel(\"Test accuracy rate\")\n",
    "p = plt.plot(tested_dimensions, accuracies)\n"
   ]
  },
  {
   "cell_type": "markdown",
   "metadata": {},
   "source": [
    "We can see that PCA dimensionality reduction does not improve performance."
   ]
  },
  {
   "cell_type": "markdown",
   "metadata": {},
   "source": [
    "We now apply LDA dimensionality reduction and scaling to the data, and randomly split to test and train sets. Results here have high variance due to the small size of the dataset, so we repeat the process 100 times and average the results:"
   ]
  },
  {
   "cell_type": "code",
   "execution_count": 31,
   "metadata": {
    "execution": {
     "iopub.execute_input": "2023-09-24T15:50:23.064906Z",
     "iopub.status.busy": "2023-09-24T15:50:23.064157Z",
     "iopub.status.idle": "2023-09-24T15:50:54.701853Z",
     "shell.execute_reply": "2023-09-24T15:50:54.700958Z",
     "shell.execute_reply.started": "2023-09-24T15:50:23.064554Z"
    }
   },
   "outputs": [
    {
     "name": "stdout",
     "output_type": "stream",
     "text": [
      "Best AUC and model:\n",
      "\n",
      " model\n",
      "SVC    0.541035\n",
      "Name: score, dtype: float64\n"
     ]
    }
   ],
   "source": [
    "# LDA produces a \"Variables are collinear\" warning here. This is true, \n",
    "# as the Pearson Correlation factor of some of the features is very close to one. As we now attempt to reproduce the results of the article,\n",
    "# we will ignore this error.\n",
    "res = pd.DataFrame()\n",
    "for i in range(100):\n",
    "    warnings.filterwarnings(\"ignore\", category=UserWarning)\n",
    "    train_X, train_y, test_X, test_y = split_to_train_test_and_apply_scaling_and_lda_dim_reduction(X, y, \n",
    "                                                                                                   train_percentage=0.7)\n",
    "    warnings.resetwarnings()\n",
    "    \n",
    "    # Fit several models, and find the best one by AUC measure:\n",
    "    best_auc, best_clf = get_best_roc(classifiers, train_X, train_y, test_X, test_y)\n",
    "    res = res.append([{'model': type(best_clf).__name__, 'score':best_auc}])\n",
    "mean_values = res.groupby(\"model\")[\"score\"].mean()\n",
    "print(\"Best AUC and model:\\n\\n\", mean_values[mean_values == mean_values.max()])"
   ]
  },
  {
   "cell_type": "markdown",
   "metadata": {},
   "source": [
    "It is evident that neither technique of dimensionaliy reduction improves performance. \n",
    "We now explore adding additional predictors, specifically calculating percentiles of the HoldTime and LatencyTime, trying to better describe the distribution of these measures for each patient. Results here have high variance due to the small size of the dataset, so we repeat the process 100 times and average the results:"
   ]
  },
  {
   "cell_type": "code",
   "execution_count": 32,
   "metadata": {
    "execution": {
     "iopub.execute_input": "2023-09-24T15:50:54.704371Z",
     "iopub.status.busy": "2023-09-24T15:50:54.703828Z",
     "iopub.status.idle": "2023-09-24T15:51:26.048710Z",
     "shell.execute_reply": "2023-09-24T15:51:26.047245Z",
     "shell.execute_reply.started": "2023-09-24T15:50:54.704157Z"
    }
   },
   "outputs": [
    {
     "name": "stdout",
     "output_type": "stream",
     "text": [
      "Best AUC and model:\n",
      "\n",
      " model\n",
      "SVC    0.633477\n",
      "Name: score, dtype: float64\n"
     ]
    }
   ],
   "source": [
    "PERCENTILES = [c for c in method1_features.columns.values if \"perc\" in c and \"FlightTime\" not in c]\n",
    "X = method1_features[ARTICLE_EXPLANATORY_VARIABLES + PERCENTILES]\n",
    "y = method1_features[\"Parkinsons\"]\n",
    "\n",
    "# LDA produces a \"Variables are collinear\" warning here. This is true, \n",
    "# as the Pearson Correlation factor of some of the features are very close to one. As we now attempt to reproduce the results of the article,\n",
    "# we will ignore this error.\n",
    "\n",
    "res = pd.DataFrame()\n",
    "for i in range(100):\n",
    "    warnings.filterwarnings(\"ignore\", category=UserWarning)\n",
    "    train_X, train_y, test_X, test_y = split_to_train_test_and_apply_scaling_and_lda_dim_reduction(X, y, \n",
    "                                                                                                   train_percentage=0.7)\n",
    "    warnings.resetwarnings()\n",
    "    \n",
    "    # Fit several models, and find the best one by AUC measure:\n",
    "    best_auc, best_clf = get_best_roc(classifiers, train_X, train_y, test_X, test_y)\n",
    "    res = res.append([{'model': type(best_clf).__name__, 'score':best_auc}])\n",
    "mean_values = res.groupby(\"model\")[\"score\"].mean()\n",
    "print(\"Best AUC and model:\\n\\n\", mean_values[mean_values == mean_values.max()])"
   ]
  },
  {
   "cell_type": "markdown",
   "metadata": {},
   "source": [
    "We now continue to follow the method descdribed in the article, by partitioning the data into two groups, Hold variables and Latency variables (depending on the orignal column they were created by). \n",
    "We then assign a Parkinson's probability using each group seperately, and output a final probability as a weighted average of these two probabilities."
   ]
  },
  {
   "cell_type": "code",
   "execution_count": 33,
   "metadata": {
    "execution": {
     "iopub.execute_input": "2023-09-24T15:51:26.051028Z",
     "iopub.status.busy": "2023-09-24T15:51:26.050594Z",
     "iopub.status.idle": "2023-09-24T15:51:33.082344Z",
     "shell.execute_reply": "2023-09-24T15:51:33.081270Z",
     "shell.execute_reply.started": "2023-09-24T15:51:26.050950Z"
    }
   },
   "outputs": [
    {
     "name": "stdout",
     "output_type": "stream",
     "text": [
      "Test AUC: 0.38607142857142857\n",
      "Test Accuracy: 0.4418181818181818\n"
     ]
    }
   ],
   "source": [
    "from TwoGroupsWeightedModel import TwoGroupsWeightedModel\n",
    "import warnings\n",
    "\n",
    "ALL_VARIABLES = ARTICLE_EXPLANATORY_VARIABLES\n",
    "HOLD_VARIABLES = [v for v in ALL_VARIABLES if \"HoldTime\" in v]\n",
    "LATENCY_VARIABLES = [v for v in ALL_VARIABLES if \"LatencyTime\" in v]\n",
    "\n",
    "voting_ensemble = VotingClassifier(estimators=[\n",
    "                                    ('1', RandomForestClassifier()),\n",
    "                                    ('2', SVC(probability=True)),\n",
    "                                    ('3', MLPClassifier()),\n",
    "                                    ('4', LogisticRegression()),\n",
    "                                    ('5', NuSVC(probability=True)),\n",
    "                                    ('6', KNeighborsClassifier()),\n",
    "                                    ('7', DecisionTreeClassifier()),\n",
    "                                    ('8', QuadraticDiscriminantAnalysis())\n",
    "                                  ],\n",
    "                        voting='soft')\n",
    "\n",
    "\n",
    "def weighting_function(hold_probs, latency_probs):\n",
    "    \"\"\"\n",
    "    These are the weights described in the article. We note that this weighting can yield probs > 1, and therefore is not optimal. \n",
    "    We've tried other weightings as well, with no significant improvement.\n",
    "    \"\"\"\n",
    "    return (hold_probs + 0.5*(1-1.2) + 1.2*latency_probs)/2.0\n",
    "\n",
    "\n",
    "groups_model = TwoGroupsWeightedModel(underlying_estimator_module_and_class=\"sklearn.pipeline Pipeline\",\n",
    "                            group1_var_names=HOLD_VARIABLES,\n",
    "                            group2_var_names=LATENCY_VARIABLES,\n",
    "                             weighting_function=weighting_function,              \n",
    "                            classification_threshold=0.5,\n",
    "                            steps=[(\"normalization\", StandardScaler()),\n",
    "                                   (\"lda\", LinearDiscriminantAnalysis()),\n",
    "                                   (\"clf\", voting_ensemble)])\n",
    "\n",
    "# calculate accuracy and AUC for the groups-model, using K-fold CV:\n",
    "X = method1_features[ARTICLE_EXPLANATORY_VARIABLES]\n",
    "y = method1_features[\"Parkinsons\"]\n",
    "\n",
    "\"\"\"\n",
    "Training the model on this data results in a \"Collinear Variables\" warnings. This is true, as some of the variables have very high Pearson-correlation.\n",
    "In order to reporoduce the article findings we ignore these erros for now, and  filter warnings for the next few lines. \n",
    "\"\"\"\n",
    "warnings.filterwarnings(\"ignore\")\n",
    "test_auc = evaluate_classifier_cv(clf=groups_model, X=X, y=y, cross_validation_folds=5, scoring='roc_auc').test_score\n",
    "test_accuracy = evaluate_classifier_cv(clf=groups_model, X=X, y=y, cross_validation_folds=5, scoring='accuracy').test_score\n",
    "warnings.resetwarnings()\n",
    "\n",
    "print(\"Test AUC: {}\\nTest Accuracy: {}\".format(test_auc, test_accuracy))"
   ]
  },
  {
   "cell_type": "markdown",
   "metadata": {},
   "source": [
    "<b>Conclusion:</b> in the above section we tried to reproduce and improve the classifying technique described in the article that inspired the Kaggle challenge.\n",
    "We believe that the the results in the articles are not valid and non-reproducible, and we ellaborate further on this in the project document."
   ]
  },
  {
   "cell_type": "markdown",
   "metadata": {},
   "source": [
    "# Modeling Phase 2: A completely different approach, inspired by results published in Nature magazine by a team of MIT researchers"
   ]
  },
  {
   "cell_type": "markdown",
   "metadata": {},
   "source": [
    "The main idea of this approach is to use a regression model to predict the UPDRS score of a patient, averaged over all of their keystrokes time windows, and subsequently apply a classification model to classify PD/non-PD based on that score."
   ]
  },
  {
   "cell_type": "markdown",
   "metadata": {},
   "source": [
    "We first construct the features for the UPDRS-regression:"
   ]
  },
  {
   "cell_type": "code",
   "execution_count": 34,
   "metadata": {
    "execution": {
     "iopub.execute_input": "2023-09-24T15:51:33.084587Z",
     "iopub.status.busy": "2023-09-24T15:51:33.083976Z",
     "iopub.status.idle": "2023-09-24T16:06:56.633852Z",
     "shell.execute_reply": "2023-09-24T16:06:56.632966Z",
     "shell.execute_reply.started": "2023-09-24T15:51:33.084517Z"
    }
   },
   "outputs": [
    {
     "name": "stdout",
     "output_type": "stream",
     "text": [
      "Creating features for dataset #1...\n",
      "\tRemoved 6 rows from time-windows containing too few taps in file.\n",
      "\tFiltered 0 rows where the IQR feature cannot be calculated.\n"
     ]
    },
    {
     "name": "stderr",
     "output_type": "stream",
     "text": [
      "/kaggle/working/nqi_feature_creation_functions.py:40: VisibleDeprecationWarning: Passing `normed=True` on non-uniform bins has always been broken, and computes neither the probability density function nor the probability mass function. The result is only correct if the bins are uniform, when density=True will produce the same result anyway. The argument will be removed in a future version of numpy.\n",
      "  hist = np.histogram(series, bins=4, range=(0,500), normed=True)\n"
     ]
    },
    {
     "name": "stdout",
     "output_type": "stream",
     "text": [
      "\tDone.\n",
      "Creating features for dataset #2...\n",
      "\tRemoved 15042 rows from time-windows containing too few taps in file.\n",
      "\tFiltered 33650 rows where the IQR feature cannot be calculated.\n"
     ]
    },
    {
     "name": "stderr",
     "output_type": "stream",
     "text": [
      "/kaggle/working/nqi_feature_creation_functions.py:42: VisibleDeprecationWarning: Passing `normed=True` on non-uniform bins has always been broken, and computes neither the probability density function nor the probability mass function. The result is only correct if the bins are uniform, when density=True will produce the same result anyway. The argument will be removed in a future version of numpy.\n",
      "  hist = np.histogram(series, bins=4, normed=True)\n"
     ]
    },
    {
     "name": "stdout",
     "output_type": "stream",
     "text": [
      "\tDone.\n"
     ]
    }
   ],
   "source": [
    "from nqi_feature_creation_functions import *\n",
    "MIN_PRESSES_PER_BUCKET_THRESHOLD = 1 # Filtering on a higher value did not prove usefull\n",
    "\n",
    "# Create the UPDRS regression features for both the MIT and the Kaggle Datasets:\n",
    "\n",
    "bin_identifier = [\"ID\", \"binIndex\"] # These two columns uniqely identify a user's time-window (90 secs of taps for specific user)\n",
    "i = 1\n",
    "if CALCULATE_FEATURES:\n",
    "    for taps_input_file_path, nqi_features_output_filepath in \\\n",
    "            zip([MIT_TAPS_INPUT, KAGGLE_TAPS_INPUT], [MIT_NQI_FEATURES, KAGGLE_NQI_FEATURES]):\n",
    "        print(\"Creating features for dataset #{}...\".format(i))\n",
    "        taps = pd.read_csv(taps_input_file_path)\n",
    "        len_before = len(taps)\n",
    "        taps = taps.groupby(bin_identifier).filter(lambda x: x['HoldTime'].count() > MIN_PRESSES_PER_BUCKET_THRESHOLD)\n",
    "        print(\"\\tRemoved {} rows from time-windows containing too few taps in file.\".format(len_before - len(taps)))\n",
    "        \n",
    "        # Filter out time-windows where the IQR feature cannot be calculated (this happens in the Kaggle data set,\n",
    "        # due to sparse time windows and HoltTime values that are very common. See project documentation for elaboration on this issue.)\n",
    "        len_before = len(taps)\n",
    "        taps = taps.groupby(bin_identifier).filter(lambda x: np.percentile(x.HoldTime, 25) != np.percentile(x.HoldTime, 75) )\n",
    "        print(\"\\tFiltered {} rows where the IQR feature cannot be calculated.\".format(len_before - len(taps)))\n",
    "        \n",
    "        # Create summary statistics for HoldTime columns, per time-window (='binIndex'):\n",
    "        grouped_taps = taps.groupby(bin_identifier)[\"HoldTime\"].\\\n",
    "            agg([agg_outliers, agg_iqr, agg_histogram_bin0, agg_histogram_bin1, \n",
    "                 agg_histogram_bin2, agg_histogram_bin3, np.count_nonzero])\n",
    "        # Rename columns for clarity:\n",
    "        grouped_taps.rename(columns={c:'hold_'+c for c in grouped_taps.columns if c not in bin_identifier}, inplace=True)\n",
    "        grouped_taps.rename(columns={'hold_count_nonzero':'count_nonzero'}, inplace=True)\n",
    "        \n",
    "        # Create summary statistics for FlightTime columns, per time-window (='binIndex'):\n",
    "        flight_grouped = taps.groupby(bin_identifier)[\"FlightTime\"].agg([np.mean, np.std]).reset_index()\n",
    "        # Rename columns for clarity:\n",
    "        flight_grouped.rename(columns={c: 'flight_' + c for c in flight_grouped.columns if c not in bin_identifier}, inplace=True)\n",
    "        \n",
    "        # Join all features together:\n",
    "        nqi_calculator_input = grouped_taps.reset_index()\n",
    "        nqi_calculator_input = nqi_calculator_input.merge(flight_grouped, on=bin_identifier)\n",
    "        \n",
    "        # Filter time-bins with insufficient taps:\n",
    "        nqi_calculator_input = nqi_calculator_input[nqi_calculator_input.count_nonzero > MIN_PRESSES_PER_BUCKET_THRESHOLD]\n",
    "        \n",
    "        # Write result ot file:\n",
    "        nqi_calculator_input.to_csv(nqi_features_output_filepath, index=False)\n",
    "        print(\"\\tDone.\")\n",
    "        i += 1"
   ]
  },
  {
   "cell_type": "code",
   "execution_count": 35,
   "metadata": {
    "execution": {
     "iopub.execute_input": "2023-09-24T16:06:56.635728Z",
     "iopub.status.busy": "2023-09-24T16:06:56.635233Z",
     "iopub.status.idle": "2023-09-24T16:06:56.676384Z",
     "shell.execute_reply": "2023-09-24T16:06:56.675572Z",
     "shell.execute_reply.started": "2023-09-24T16:06:56.635667Z"
    }
   },
   "outputs": [
    {
     "name": "stdout",
     "output_type": "stream",
     "text": [
      "All regression features on the MIT dataset:\n",
      "\n",
      " ['hold_agg_outliers', 'hold_agg_iqr', 'hold_agg_histogram_bin0', 'hold_agg_histogram_bin1', 'hold_agg_histogram_bin2', 'hold_agg_histogram_bin3', 'flight_mean', 'flight_std']\n",
      "\n",
      "\n",
      "MIT features sample:\n",
      "\n",
      "    ID    binIndex  hold_agg_outliers  hold_agg_iqr  hold_agg_histogram_bin0  \\\n",
      "0  11     (0, 90]           0.018868      0.275847                 0.005585   \n",
      "1  11  (180, 270]           0.018141      0.318952                 0.005170   \n",
      "2  11  (270, 360]           0.027888      0.330284                 0.005689   \n",
      "3  11  (360, 450]           0.028205      0.254762                 0.005682   \n",
      "4  11  (450, 540]           0.011472      0.273350                 0.005629   \n",
      "\n",
      "   hold_agg_histogram_bin1  hold_agg_histogram_bin2  hold_agg_histogram_bin3  \\\n",
      "0                 0.002340                 0.000075                 0.000000   \n",
      "1                 0.002739                 0.000054                 0.000036   \n",
      "2                 0.002279                 0.000032                 0.000000   \n",
      "3                 0.002297                 0.000021                 0.000000   \n",
      "4                 0.002325                 0.000046                 0.000000   \n",
      "\n",
      "   count_nonzero  flight_mean  flight_std  Parkinsons  UPDRS  \n",
      "0          530.0   178.038113  173.574397        True  14.25  \n",
      "1          441.0   182.795918  226.183604        True  14.25  \n",
      "2          502.0   171.605578  151.724316        True  14.25  \n",
      "3          390.0   184.779744  226.615372        True  14.25  \n",
      "4          523.0   176.496176  160.113229        True  14.25  \n"
     ]
    }
   ],
   "source": [
    "mit_nqi_features = pd.read_csv(MIT_NQI_FEATURES)\n",
    "mit_users = pd.read_csv(MIT_USERS_INPUT)\n",
    "\n",
    "mit_data = mit_nqi_features.merge(mit_users, on=\"ID\").dropna().reset_index().drop(\"index\", axis=1)\n",
    "PREDICTION_COLUMNS = list_diff(mit_data.columns, [\"UPDRS\", \"Parkinsons\", 'binIndex', 'ID', 'count_nonzero'])\n",
    "\n",
    "HOLD_FEATURES = [v for v in PREDICTION_COLUMNS if 'hold' in v]\n",
    "FLIGHT_FEATURES = [v for v in PREDICTION_COLUMNS if 'flight' in v]\n",
    "\n",
    "print(\"All regression features on the MIT dataset:\\n\\n\", PREDICTION_COLUMNS)\n",
    "print(\"\\n\\nMIT features sample:\\n\\n\", mit_data.head())\n",
    "\n",
    "# Split the unified MIT dataset to train and test according to ID's (IDs<=100 belong to train set, all others to test set):\n",
    "train_mit_data = mit_data[mit_data.ID <= 100].copy()\n",
    "test_mit_data = mit_data[mit_data.ID >= 1000].copy()"
   ]
  },
  {
   "cell_type": "markdown",
   "metadata": {},
   "source": [
    "### Summary plots of MIT data features"
   ]
  },
  {
   "cell_type": "code",
   "execution_count": 36,
   "metadata": {
    "execution": {
     "iopub.execute_input": "2023-09-24T16:06:56.678063Z",
     "iopub.status.busy": "2023-09-24T16:06:56.677617Z",
     "iopub.status.idle": "2023-09-24T16:06:57.262753Z",
     "shell.execute_reply": "2023-09-24T16:06:57.261720Z",
     "shell.execute_reply.started": "2023-09-24T16:06:56.678004Z"
    }
   },
   "outputs": [
    {
     "data": {
      "image/png": "[encoded data removed]",
      "text/plain": [
       "<Figure size 720x360 with 2 Axes>"
      ]
     },
     "metadata": {
      "needs_background": "light"
     },
     "output_type": "display_data"
    }
   ],
   "source": [
    "warnings.simplefilter(action='ignore', category=FutureWarning) # Ignore pandas warning caused by an internal call to deprecated 'reshape'\n",
    "\n",
    "fig = plt.figure(figsize=(10,5))\n",
    "iqr_histogram(fig, mit_data)\n",
    "outliers_histogram(fig, mit_data)\n",
    "\n",
    "warnings.resetwarnings()"
   ]
  },
  {
   "cell_type": "markdown",
   "metadata": {},
   "source": [
    "### Construct a regression model to predict UPDRS score and then classify patients accordingly:"
   ]
  },
  {
   "cell_type": "code",
   "execution_count": 37,
   "metadata": {
    "execution": {
     "iopub.execute_input": "2023-09-24T16:18:18.094542Z",
     "iopub.status.busy": "2023-09-24T16:18:18.094199Z",
     "iopub.status.idle": "2023-09-24T16:18:18.107775Z",
     "shell.execute_reply": "2023-09-24T16:18:18.106773Z",
     "shell.execute_reply.started": "2023-09-24T16:18:18.094489Z"
    }
   },
   "outputs": [],
   "source": [
    "# We first define a function that performs the UPDRS-regression\n",
    "# and subsequent classification using the regression's predictions:\n",
    "\n",
    "\n",
    "def updrs_regression_and_pd_classification(train_data, test_data, regression_model, final_classifier, prediction_columns):\n",
    "    \"\"\"\n",
    "    :param train_data, test_data: a DataFrame with NQI-features and regression target ('UPDRS').\n",
    "    :param regression_model: the regression model that will be used for predicting the nqi score.\n",
    "    :param final_classifier: the classification model that will be used for predicting Parkinson's/no-Parkinson's based on the predicted nqi score.\n",
    "    :return: the test AUC of the final model, that uses the predicted-nqi in order to predict Parkinson's.\n",
    "    \"\"\"\n",
    "    # Scale features and compress UPDRS to the [0,1] interval:\n",
    "    scaler = StandardScaler()\n",
    "    min_max_scaler = MinMaxScaler(feature_range=(0, 1))  # We use this to scale the UPDRS target to the [0,1] interval.\n",
    "    \n",
    "    train_X = train_data[prediction_columns]\n",
    "    train_y = train_data[\"UPDRS\"]\n",
    "    \n",
    "    train_X = pd.DataFrame(scaler.fit_transform(train_X))\n",
    "    train_y = min_max_scaler.fit_transform(train_y.values.reshape(-1,1))\n",
    "    \n",
    "    test_X = test_data[prediction_columns]\n",
    "    test_X = pd.DataFrame(scaler.transform(test_X))\n",
    "    \n",
    "    # Fit the regression model, and predict the test data:\n",
    "    regression_model.fit(X=train_X, y=np.ravel(train_y))\n",
    "    train_nqi_predictions = regression_model.predict(train_X)\n",
    "    train_data[\"predicted_nqi\"] = train_nqi_predictions\n",
    "    \n",
    "    # Calculate the average predicted-UPDRS (AKA 'NQI') per training patient:\n",
    "    train_final_df = train_data.groupby(\"ID\")[\"Parkinsons\", \"predicted_nqi\"].mean().reset_index()\n",
    "\n",
    "    # Predict nqi for every subject in the test-set (as mean of predicted UPDRS of all the subjects' time-windows):\n",
    "    test_nqi_predictions = regression_model.predict(test_X)\n",
    "    test_data[\"predicted_nqi\"] = test_nqi_predictions\n",
    "    test_final_df = test_data.groupby(\"ID\")[\"Parkinsons\", \"predicted_nqi\"].mean().reset_index()\n",
    "\n",
    "    # Use the result of the nqi-regression, to predict Parkinsons and calculate test score:    \n",
    "    final_classifier.fit(train_final_df[\"predicted_nqi\"].values.reshape(-1, 1), train_final_df[\"Parkinsons\"])\n",
    "    predicted_test_probs = final_classifier.predict_proba(test_final_df[\"predicted_nqi\"].values.reshape(-1, 1))[:, 1]\n",
    "    test_set_auc = roc_auc_score(y_true=test_final_df[\"Parkinsons\"], y_score=predicted_test_probs)\n",
    "    \n",
    "    # Store results in a results object:\n",
    "    result = namedtuple('result', 'test_auc y_true y_predicted test_df')\n",
    "    result.test_auc, result.y_true, result.y_predicted, result.test_df  = \\\n",
    "        test_set_auc, test_final_df[\"Parkinsons\"], predicted_test_probs, test_final_df.copy()\n",
    "    \n",
    "    return result "
   ]
  },
  {
   "cell_type": "markdown",
   "metadata": {},
   "source": [
    "We now apply the UPDRS-regression procedure defined above. We use a bagging-ensemble of 200 support-vector regressors, and apply it to the HoldTime features (in accordance with the original research). We then use logistic regression as the final classifier (Our tests show that most classification models yield very similar results, so this choice is not critical). "
   ]
  },
  {
   "cell_type": "code",
   "execution_count": 38,
   "metadata": {
    "execution": {
     "iopub.execute_input": "2023-09-24T16:24:44.281469Z",
     "iopub.status.busy": "2023-09-24T16:24:44.281058Z",
     "iopub.status.idle": "2023-09-24T16:24:46.113466Z",
     "shell.execute_reply": "2023-09-24T16:24:46.112401Z",
     "shell.execute_reply.started": "2023-09-24T16:24:44.281409Z"
    }
   },
   "outputs": [
    {
     "name": "stdout",
     "output_type": "stream",
     "text": [
      "Test AUC using support-vector regression and the HoldTime features (original article features): 0.7180555555555556\n"
     ]
    }
   ],
   "source": [
    "sv_regression_ensemble = BaggingRegressor(base_estimator=SVR(),\n",
    "                                n_estimators=200,\n",
    "                                bootstrap=True,\n",
    "                                n_jobs=1)\n",
    "\n",
    "updrs_regression_on_mit_data_with_sv_regression_hold_features_results = \\\n",
    "    updrs_regression_and_pd_classification(train_mit_data, test_mit_data,\n",
    "                                         regression_model=sv_regression_ensemble,\n",
    "                                         final_classifier=LogisticRegression(), \n",
    "                                         prediction_columns=HOLD_FEATURES)\n",
    "test_auc = updrs_regression_on_mit_data_with_sv_regression_hold_features_results.test_auc\n",
    "print(\"Test AUC using support-vector regression and the HoldTime features (original article features): {}\".format(test_auc))"
   ]
  },
  {
   "cell_type": "markdown",
   "metadata": {},
   "source": [
    "We can see that the above method provides reasonable results. Our test-AUC are very close to the CI provided in the article (0.72-0.87). We now add statistical features based on the LatencyTime columns that we calculated. This was not performed in the original article:"
   ]
  },
  {
   "cell_type": "code",
   "execution_count": 39,
   "metadata": {
    "execution": {
     "iopub.execute_input": "2023-09-24T16:35:02.746338Z",
     "iopub.status.busy": "2023-09-24T16:35:02.745879Z",
     "iopub.status.idle": "2023-09-24T16:35:04.592451Z",
     "shell.execute_reply": "2023-09-24T16:35:04.591443Z",
     "shell.execute_reply.started": "2023-09-24T16:35:02.746282Z"
    }
   },
   "outputs": [
    {
     "name": "stdout",
     "output_type": "stream",
     "text": [
      "Test AUC using support-vector regression and both HoldTime and FlightTime features (our added features): 0.7444444444444444\n"
     ]
    }
   ],
   "source": [
    "sv_regression_ensemble = BaggingRegressor(base_estimator=SVR(),\n",
    "                                n_estimators=200,\n",
    "                                bootstrap=True,\n",
    "                                n_jobs=1)\n",
    "\n",
    "updrs_regression_on_mit_data_with_sv_regression_all_features_results = \\\n",
    "    updrs_regression_and_pd_classification(train_mit_data, test_mit_data,\n",
    "                                           regression_model=sv_regression_ensemble,\n",
    "                                           final_classifier=LogisticRegression(),\n",
    "                                           prediction_columns=HOLD_FEATURES + FLIGHT_FEATURES)\n",
    "\n",
    "test_auc = updrs_regression_on_mit_data_with_sv_regression_all_features_results.test_auc\n",
    "print(\"Test AUC using support-vector regression and both HoldTime and FlightTime features (our added features): {}\".format(test_auc))"
   ]
  },
  {
   "cell_type": "markdown",
   "metadata": {},
   "source": [
    "We can see that the above method works well, providing similar results to those described in the article (our result are within the CI of the AUC achieved in the Nature article). The features selected above were designed to incorporate the FlightTime as well, which we assumed should be useful for detection of Parkinson. We've tried many other statistics for both HoldTime and LatencyTime, with limited success, and we omit these tests for brevity.\n",
    "\n",
    "\n",
    "Another point for improvement would be to use a more powerful regression model. We found the following to be more effective - we use a large forest of boosted regression trees instead of the support-vector regression ensemble:"
   ]
  },
  {
   "cell_type": "code",
   "execution_count": 40,
   "metadata": {
    "execution": {
     "iopub.execute_input": "2023-09-24T16:18:35.049070Z",
     "iopub.status.busy": "2023-09-24T16:18:35.048743Z",
     "iopub.status.idle": "2023-09-24T16:18:36.682968Z",
     "shell.execute_reply": "2023-09-24T16:18:36.681844Z",
     "shell.execute_reply.started": "2023-09-24T16:18:35.049026Z"
    }
   },
   "outputs": [
    {
     "name": "stdout",
     "output_type": "stream",
     "text": [
      "Test AUC using gb-tree regression with only the HoldTime features: 0.7819444444444444\n",
      "Test AUC using gb-tree regression using HoldTime+FlightTime features: 0.8375\n"
     ]
    }
   ],
   "source": [
    "gbt_regression_ensemble = GradientBoostingRegressor(n_estimators=1000)\n",
    "updrs_regression_on_mit_data_with_gbt_regression_hold_features_results = updrs_regression_and_pd_classification(\n",
    "                                                train_mit_data, test_mit_data,\n",
    "                                                regression_model=gbt_regression_ensemble,\n",
    "                                                final_classifier=LogisticRegression(), \n",
    "                                                prediction_columns=HOLD_FEATURES\n",
    "                                                )\n",
    "print(\"Test AUC using gb-tree regression with only the HoldTime features: {}\".\n",
    "      format(updrs_regression_on_mit_data_with_gbt_regression_hold_features_results.test_auc))\n",
    "\n",
    "updrs_regression_on_mit_data_with_gbt_regression_all_features_results = updrs_regression_and_pd_classification(\n",
    "                                                train_mit_data, test_mit_data,\n",
    "                                                regression_model=gbt_regression_ensemble,\n",
    "                                                final_classifier=LogisticRegression(), \n",
    "                                                prediction_columns=HOLD_FEATURES + FLIGHT_FEATURES\n",
    "                                                )\n",
    "print(\"Test AUC using gb-tree regression using HoldTime+FlightTime features: {}\".\n",
    "      format(updrs_regression_on_mit_data_with_gbt_regression_all_features_results.test_auc))"
   ]
  },
  {
   "cell_type": "markdown",
   "metadata": {},
   "source": [
    "<b>Conclusion:</b> Using gradient-boosting regression yields better results, and improves over the previous models. Together with our additional LatencyTime features we see significant improvement."
   ]
  },
  {
   "cell_type": "markdown",
   "metadata": {},
   "source": [
    "We try to provide a visual way to see the improvement in the model, in addition to the higher AUC score. \n",
    "The plots below show the predicted NQI scores (mean UPDRS over time-windows per subject) for each target-class (PD/non-PD), in the first model and in the last improved model. On the right we see slightly better seperation between PD/non-PD patients in their predicted NQI."
   ]
  },
  {
   "cell_type": "code",
   "execution_count": 41,
   "metadata": {
    "execution": {
     "iopub.execute_input": "2023-09-24T16:26:28.322381Z",
     "iopub.status.busy": "2023-09-24T16:26:28.321983Z",
     "iopub.status.idle": "2023-09-24T16:26:28.745835Z",
     "shell.execute_reply": "2023-09-24T16:26:28.744776Z",
     "shell.execute_reply.started": "2023-09-24T16:26:28.322314Z"
    }
   },
   "outputs": [
    {
     "data": {
      "image/png": "[encoded data removed]",
      "text/plain": [
       "<Figure size 720x360 with 2 Axes>"
      ]
     },
     "metadata": {
      "needs_background": "light"
     },
     "output_type": "display_data"
    }
   ],
   "source": [
    "warnings.simplefilter(action='ignore', category=FutureWarning) # Ignore pandas warning caused by an internal call to deprecated 'reshape'\n",
    "\n",
    "basic_model_test_result = updrs_regression_on_mit_data_with_sv_regression_hold_features_results.test_df\n",
    "our_model_test_result = updrs_regression_on_mit_data_with_gbt_regression_all_features_results.test_df\n",
    "\n",
    "fig = plt.figure(figsize=(10,5))\n",
    "boxplot_nqi_score(fig, 1, basic_model_test_result, \"Basic Model Predicted-NQI\")\n",
    "boxplot_nqi_score(fig, 2, our_model_test_result, \"Our Improved Model Predicted-NQI\")\n",
    "\n",
    "warnings.resetwarnings()"
   ]
  },
  {
   "cell_type": "markdown",
   "metadata": {},
   "source": [
    "The plots above suggest a visual way to see the improvement in the model, in addition to the higher AUC score. On the right we see better separation between PD/non-PD patients in their predicted NQI."
   ]
  },
  {
   "cell_type": "markdown",
   "metadata": {},
   "source": [
    "# Optimize regressor hyper-parameters:"
   ]
  },
  {
   "cell_type": "code",
   "execution_count": 42,
   "metadata": {
    "execution": {
     "iopub.execute_input": "2023-09-24T16:26:33.014512Z",
     "iopub.status.busy": "2023-09-24T16:26:33.013800Z",
     "iopub.status.idle": "2023-09-24T16:31:28.052384Z",
     "shell.execute_reply": "2023-09-24T16:31:28.049333Z",
     "shell.execute_reply.started": "2023-09-24T16:26:33.014216Z"
    }
   },
   "outputs": [
    {
     "name": "stdout",
     "output_type": "stream",
     "text": [
      "Fitting 3 folds for each of 1296 candidates, totalling 3888 fits\n"
     ]
    },
    {
     "name": "stderr",
     "output_type": "stream",
     "text": [
      "[Parallel(n_jobs=-1)]: Using backend LokyBackend with 4 concurrent workers.\n",
      "[Parallel(n_jobs=-1)]: Done  33 tasks      | elapsed:    5.5s\n",
      "[Parallel(n_jobs=-1)]: Done 154 tasks      | elapsed:   20.9s\n",
      "[Parallel(n_jobs=-1)]: Done 357 tasks      | elapsed:   58.2s\n",
      "[Parallel(n_jobs=-1)]: Done 640 tasks      | elapsed:  3.3min\n",
      "[Parallel(n_jobs=-1)]: Done 1005 tasks      | elapsed:  7.7min\n",
      "[Parallel(n_jobs=-1)]: Done 1450 tasks      | elapsed: 10.0min\n",
      "[Parallel(n_jobs=-1)]: Done 1977 tasks      | elapsed: 13.4min\n",
      "[Parallel(n_jobs=-1)]: Done 2584 tasks      | elapsed: 20.0min\n",
      "[Parallel(n_jobs=-1)]: Done 3273 tasks      | elapsed: 23.8min\n",
      "[Parallel(n_jobs=-1)]: Done 3888 out of 3888 | elapsed: 28.6min finished\n"
     ]
    },
    {
     "name": "stdout",
     "output_type": "stream",
     "text": [
      "Best params:\n",
      " {'learning_rate': 0.01, 'loss': 'lad', 'max_depth': 3, 'max_leaf_nodes': 100, 'n_estimators': 100}\n"
     ]
    }
   ],
   "source": [
    "train_X = train_mit_data[HOLD_FEATURES + FLIGHT_FEATURES]\n",
    "train_y = train_mit_data[\"UPDRS\"]\n",
    "\n",
    "param_space = {\n",
    "    'n_estimators': [100, 500, 1000],\n",
    "    'loss': ['ls', 'lad', 'huber', 'quantile'],\n",
    "    'learning_rate': [0.001, 0.01, 0.1],\n",
    "    'max_depth': [1, 2, 3, 5, 7, 8],\n",
    "    'max_leaf_nodes': [None, 3, 5, 10, 50, 100]\n",
    "}\n",
    "\n",
    "grid_searcher = GridSearchCV(gbt_regression_ensemble, param_grid=param_space, n_jobs=-1, cv=3, verbose=2, scoring=\"r2\")\n",
    "grid_searcher.fit(X=train_X, y=np.ravel(train_y))\n",
    "print(\"Best params:\\n\", grid_searcher.best_params_)\n"
   ]
  },
  {
   "cell_type": "markdown",
   "metadata": {},
   "source": [
    "Calculate AUC with optimized parameters:"
   ]
  },
  {
   "cell_type": "code",
   "execution_count": 43,
   "metadata": {
    "execution": {
     "iopub.execute_input": "2023-09-24T16:18:15.523716Z",
     "iopub.status.busy": "2023-09-24T16:18:15.523379Z",
     "iopub.status.idle": "2023-09-24T16:18:15.540663Z",
     "shell.execute_reply": "2023-09-24T16:18:15.539328Z",
     "shell.execute_reply.started": "2023-09-24T16:18:15.523664Z"
    }
   },
   "outputs": [
    {
     "name": "stdout",
     "output_type": "stream",
     "text": [
      "Test AUC using gb-tree regression after hyper-parameter optimization: 0.7083333333333334\n"
     ]
    }
   ],
   "source": [
    "gbt_regression_ensemble.set_params(**grid_searcher.best_params_)\n",
    "\n",
    "updrs_regression_on_mit_data_with_optimized_gbt_regression_results = \\\n",
    "                      updrs_regression_and_pd_classification(train_mit_data, test_mit_data,\n",
    "                                                             regression_model=gbt_regression_ensemble,\n",
    "                                                             final_classifier=LogisticRegression(),\n",
    "                                                             prediction_columns=HOLD_FEATURES + FLIGHT_FEATURES)\n",
    "print(\"Test AUC using gb-tree regression after hyper-parameter optimization: {}\".format(updrs_regression_on_mit_data_with_optimized_gbt_regression_results.test_auc))\n"
   ]
  },
  {
   "cell_type": "markdown",
   "metadata": {},
   "source": [
    "<b>Conclusion:</b> The optimization did not provide additional value, most likely due to the small size of the dataset.\n",
    "\n",
    "\n",
    "We will now try to evaluate the relevance of the above method to home-environment data, by training the model on all of the MIT data, and testing it on the Kaggle data (which is home-environment data):"
   ]
  },
  {
   "cell_type": "code",
   "execution_count": 44,
   "metadata": {
    "execution": {
     "iopub.execute_input": "2023-09-24T16:36:25.275555Z",
     "iopub.status.busy": "2023-09-24T16:36:25.275231Z",
     "iopub.status.idle": "2023-09-24T16:36:29.081925Z",
     "shell.execute_reply": "2023-09-24T16:36:29.080951Z",
     "shell.execute_reply.started": "2023-09-24T16:36:25.275513Z"
    }
   },
   "outputs": [
    {
     "name": "stdout",
     "output_type": "stream",
     "text": [
      "Test AUC on Kaggle data training on MIT data: 0.47011661807580174\n"
     ]
    }
   ],
   "source": [
    "kaggle_nqi_features = pd.read_csv(KAGGLE_NQI_FEATURES)\n",
    "kaggle_users_data = pd.read_csv(KAGGLE_USERS_INPUT)\n",
    "kaggle_data = kaggle_nqi_features.merge(kaggle_users_data, on=\"ID\").dropna().reset_index().drop([\"index\"], axis=1)\n",
    "\n",
    "# Remove patients taking Levadopa or patients with non-mild Parkinson's:\n",
    "kaggle_data = kaggle_data[kaggle_data.Levadopa==False]\n",
    "kaggle_data = kaggle_data[kaggle_data.Parkinsons==False | ((kaggle_data.Parkinsons==True) & (kaggle_data.Impact == \"Mild\"))]\n",
    "\n",
    "\n",
    "# Apply our model:\n",
    "gbt_regression_ensemble = GradientBoostingRegressor(n_estimators=1000)\n",
    "updrs_regression_on_kaggle_and_mit_data_with_gbt_regression_results = \\\n",
    "    updrs_regression_and_pd_classification(train_data=mit_data, test_data=kaggle_data,\n",
    "                                           regression_model=gbt_regression_ensemble,\n",
    "                                           final_classifier=LogisticRegression(),\n",
    "                                           prediction_columns=HOLD_FEATURES + FLIGHT_FEATURES)\n",
    "print(\"Test AUC on Kaggle data training on MIT data: {}\".\n",
    "      format(updrs_regression_on_kaggle_and_mit_data_with_gbt_regression_results.test_auc))"
   ]
  },
  {
   "cell_type": "markdown",
   "metadata": {},
   "source": [
    "We see above that the UPDRS-regression trained on the MIT data does not generalize well to the Kaggle data. We propose two possible explanations for this: it could be that the MIT data is fundamentally different, being collected in the lab and not at home. Another possible explanation is that the Kaggle data is corrupt (this could explain the inability to reproduce the first article)."
   ]
  },
  {
   "cell_type": "markdown",
   "metadata": {},
   "source": [
    "Our next step is to apply the main idea from the first article, i.e splitting the keystrokes according to the side of the keyboard in which they occur, to the MIT data using all the features constructed above for UPDRS regression. We hope that those features will introduce measures of functional asymmetry to the model which may prove useful:"
   ]
  },
  {
   "cell_type": "code",
   "execution_count": 45,
   "metadata": {
    "execution": {
     "iopub.execute_input": "2023-09-24T16:31:42.940534Z",
     "iopub.status.busy": "2023-09-24T16:31:42.940181Z",
     "iopub.status.idle": "2023-09-24T16:31:52.687511Z",
     "shell.execute_reply": "2023-09-24T16:31:52.686552Z",
     "shell.execute_reply.started": "2023-09-24T16:31:42.940479Z"
    }
   },
   "outputs": [
    {
     "name": "stderr",
     "output_type": "stream",
     "text": [
      "/kaggle/working/nqi_feature_creation_functions.py:40: VisibleDeprecationWarning: Passing `normed=True` on non-uniform bins has always been broken, and computes neither the probability density function nor the probability mass function. The result is only correct if the bins are uniform, when density=True will produce the same result anyway. The argument will be removed in a future version of numpy.\n",
      "  hist = np.histogram(series, bins=4, range=(0,500), normed=True)\n"
     ]
    },
    {
     "name": "stdout",
     "output_type": "stream",
     "text": [
      "NQI features with keyboard side partitions:\n",
      "\n",
      "['ID', 'LL_flight_mean', 'LL_flight_std', 'LR_flight_mean', 'LR_flight_std', 'L_hold_agg_histogram_bin0', 'L_hold_agg_histogram_bin1', 'L_hold_agg_histogram_bin2', 'L_hold_agg_histogram_bin3', 'L_hold_agg_iqr', 'L_hold_agg_outliers', 'RL_flight_mean', 'RL_flight_std', 'RR_flight_mean', 'RR_flight_std', 'R_hold_agg_histogram_bin0', 'R_hold_agg_histogram_bin1', 'R_hold_agg_histogram_bin2', 'R_hold_agg_histogram_bin3', 'R_hold_agg_iqr', 'R_hold_agg_outliers', 'binIndex']\n"
     ]
    }
   ],
   "source": [
    "# Preparing the MIT data with measures of asymmetry:\n",
    "nqi_features_with_side_partitions_data_path = create_nqi_features_from_raw_data_with_sides_partitions(MIT_TAPS_INPUT, MIT_NQI_FEATURES_SIDES_PARTITIONS)\n",
    "\n",
    "mit_nqi_features_with_sides_partition = pd.read_csv(nqi_features_with_side_partitions_data_path)\n",
    "mit_users = pd.read_csv(MIT_USERS_INPUT)\n",
    "\n",
    "print(\"NQI features with keyboard side partitions:\\n\")\n",
    "print(sorted(mit_nqi_features_with_sides_partition.columns))\n",
    "\n",
    "mit_data_with_sides_partition = mit_nqi_features_with_sides_partition.merge(mit_users, on=\"ID\").dropna().reset_index().drop(\"index\", axis=1)\n",
    "PREDICTION_COLUMNS_SIDE_PARTITION = list_diff(mit_data_with_sides_partition.columns, [\"UPDRS\", \"Parkinsons\", 'binIndex', 'ID', 'count_nonzero'])\n",
    "\n",
    "# Split the unified MIT dataset to train and test according to ID's:\n",
    "train_mit_data_with_sides_partitions = mit_data_with_sides_partition[mit_data_with_sides_partition.ID <= 100].copy()\n",
    "test_mit_data_with_sides_partitions = mit_data_with_sides_partition[mit_data_with_sides_partition.ID >= 1000].copy()"
   ]
  },
  {
   "cell_type": "code",
   "execution_count": 46,
   "metadata": {
    "execution": {
     "iopub.execute_input": "2023-09-24T16:37:08.125303Z",
     "iopub.status.busy": "2023-09-24T16:37:08.124657Z",
     "iopub.status.idle": "2023-09-24T16:37:09.714044Z",
     "shell.execute_reply": "2023-09-24T16:37:09.713042Z",
     "shell.execute_reply.started": "2023-09-24T16:37:08.125205Z"
    }
   },
   "outputs": [
    {
     "name": "stdout",
     "output_type": "stream",
     "text": [
      "Test AUC on MIT with assymetry measurement features (keyboard side partitions) : 0.7694444444444445\n"
     ]
    }
   ],
   "source": [
    "updrs_regression_on_mit_data_with_assymetry_features = \\\n",
    "    updrs_regression_and_pd_classification(train_data=train_mit_data_with_sides_partitions,\n",
    "                                           test_data=test_mit_data_with_sides_partitions,\n",
    "                                           regression_model=gbt_regression_ensemble,\n",
    "                                           final_classifier=LogisticRegression(), \n",
    "                                           prediction_columns=PREDICTION_COLUMNS_SIDE_PARTITION)\n",
    "print(\"Test AUC on MIT with assymetry measurement features (keyboard side partitions) : {}\".\n",
    "      format(updrs_regression_on_mit_data_with_assymetry_features.test_auc))"
   ]
  },
  {
   "cell_type": "markdown",
   "metadata": {},
   "source": [
    "<b>Conclusion:</b> our attempt to apply measuring asymmetry to the process of predicting a patient's UPDRS score did not improve the model over what we have previously achieved. This could be a result of the small size of our datatset, which suffers from high dimensionality when we introduce asymmetry features. Our attempts at dimensionality reduction on this dataset did not prove useful."
   ]
  },
  {
   "cell_type": "code",
   "execution_count": 47,
   "metadata": {
    "execution": {
     "iopub.execute_input": "2023-09-24T16:37:15.228318Z",
     "iopub.status.busy": "2023-09-24T16:37:15.227565Z",
     "iopub.status.idle": "2023-09-24T16:37:15.532843Z",
     "shell.execute_reply": "2023-09-24T16:37:15.531780Z",
     "shell.execute_reply.started": "2023-09-24T16:37:15.228239Z"
    }
   },
   "outputs": [
    {
     "data": {
      "image/png": "[encoded data removed]",
      "text/plain": [
       "<Figure size 432x288 with 1 Axes>"
      ]
     },
     "metadata": {
      "needs_background": "light"
     },
     "output_type": "display_data"
    }
   ],
   "source": [
    "# Plot ROC curves for all of the above variations on the model:\n",
    "plot_multiple_roc_curves([('model with asymmetry features', updrs_regression_on_mit_data_with_assymetry_features.y_true,\n",
    "                           updrs_regression_on_mit_data_with_assymetry_features.y_predicted),                          \n",
    "                          ('model with gbt regressor, all features', updrs_regression_on_mit_data_with_gbt_regression_all_features_results.y_true,\n",
    "                           updrs_regression_on_mit_data_with_gbt_regression_all_features_results.y_predicted),                          \n",
    "                          ('model with support-vector regressor, hold features', updrs_regression_on_mit_data_with_sv_regression_hold_features_results.y_true,\n",
    "                           updrs_regression_on_mit_data_with_sv_regression_hold_features_results.y_predicted),                          \n",
    "                          ('model trained on Kaggle data', updrs_regression_on_kaggle_and_mit_data_with_gbt_regression_results.y_true,\n",
    "                           updrs_regression_on_kaggle_and_mit_data_with_gbt_regression_results.y_predicted),                          \n",
    "                          ], \n",
    "                         title=\"ROC curves for parkinson's classification based on nqi-regression\")"
   ]
  },
  {
   "cell_type": "markdown",
   "metadata": {},
   "source": [
    "We now attempt to use the features that were constructed for the UPDRS-regression to directly classify a patient as PD/non-PD. This is desired because in the first dataset we do not have UPDRS scores so we cannot train the above model that performed well on the MIT dataset. "
   ]
  },
  {
   "cell_type": "code",
   "execution_count": 48,
   "metadata": {
    "execution": {
     "iopub.execute_input": "2023-09-24T16:37:33.710289Z",
     "iopub.status.busy": "2023-09-24T16:37:33.709678Z",
     "iopub.status.idle": "2023-09-24T16:40:00.666101Z",
     "shell.execute_reply": "2023-09-24T16:40:00.665209Z",
     "shell.execute_reply.started": "2023-09-24T16:37:33.710209Z"
    }
   },
   "outputs": [
    {
     "name": "stdout",
     "output_type": "stream",
     "text": [
      "Fitting & testing fold #1\n",
      "Fitting & testing fold #2\n",
      "Fitting & testing fold #3\n",
      "Fitting & testing fold #4\n",
      "Fitting & testing fold #5\n",
      "Fitting & testing fold #6\n",
      "Fitting & testing fold #7\n",
      "Fitting & testing fold #8\n",
      "Fitting & testing fold #9\n",
      "Fitting & testing fold #10\n",
      "\n",
      "sample of final predictions:\n",
      "             predicted_pd_prob  Parkinsons\n",
      "ID                                       \n",
      "5PQVTWULAC           0.335963        True\n",
      "E0XRQVF05S           0.180621       False\n",
      "GN3N4ZNCV9           0.340822       False\n",
      "H08AW2YBAJ           0.514780       False\n",
      "JIRZDKEJQN           0.247301        True\n"
     ]
    }
   ],
   "source": [
    "kaggle_ids = kaggle_data.ID.unique()\n",
    "\n",
    "\n",
    "NFOLDS = 10\n",
    "cv_gen = KFold(NFOLDS, shuffle=True)\n",
    "\n",
    "clf = GradientBoostingClassifier()\n",
    "final_probabilities_over_folds = pd.DataFrame()\n",
    "\n",
    "i = 1\n",
    "for train_indices, test_indices in cv_gen.split(kaggle_ids):\n",
    "    print(\"Fitting & testing fold #{}\".format(i))\n",
    "    train_ids = kaggle_ids[train_indices]\n",
    "    test_ids = kaggle_ids[test_indices]\n",
    "    train_data = kaggle_data[kaggle_data.ID.isin(train_ids)].copy()\n",
    "    test_data = kaggle_data[kaggle_data.ID.isin(test_ids)].copy()\n",
    "    clf.fit(train_data[PREDICTION_COLUMNS], train_data[\"Parkinsons\"])\n",
    "    test_data[\"predicted_pd_prob\"] = clf.predict_proba(X=test_data[HOLD_FEATURES+FLIGHT_FEATURES])[:,1]\n",
    "    \n",
    "    # average probabilities over time-windows per-subject:\n",
    "    final_probabilities_over_folds = pd.concat([final_probabilities_over_folds, test_data.groupby(\"ID\")[\"predicted_pd_prob\", \"Parkinsons\"].mean()])\n",
    "    i += 1\n",
    "print(\"\\nsample of final predictions:\\n\", final_probabilities_over_folds.head())"
   ]
  },
  {
   "cell_type": "code",
   "execution_count": 49,
   "metadata": {
    "execution": {
     "iopub.execute_input": "2023-09-24T16:41:07.434745Z",
     "iopub.status.busy": "2023-09-24T16:41:07.434234Z",
     "iopub.status.idle": "2023-09-24T16:41:07.444686Z",
     "shell.execute_reply": "2023-09-24T16:41:07.443702Z",
     "shell.execute_reply.started": "2023-09-24T16:41:07.434694Z"
    }
   },
   "outputs": [
    {
     "name": "stdout",
     "output_type": "stream",
     "text": [
      "0.6020408163265306\n"
     ]
    }
   ],
   "source": [
    "test_auc = roc_auc_score(y_true=final_probabilities_over_folds['Parkinsons'], \n",
    "                    y_score=final_probabilities_over_folds['predicted_pd_prob'])\n",
    "print(test_auc)"
   ]
  },
  {
   "cell_type": "code",
   "execution_count": 50,
   "metadata": {
    "execution": {
     "iopub.status.busy": "2023-09-24T16:18:14.829816Z",
     "iopub.status.idle": "2023-09-24T16:18:14.830366Z"
    }
   },
   "outputs": [
    {
     "name": "stdout",
     "output_type": "stream",
     "text": [
      "\u001b[33mWARNING: Retrying (Retry(total=4, connect=None, read=None, redirect=None, status=None)) after connection broken by 'NewConnectionError('<pip._vendor.urllib3.connection.VerifiedHTTPSConnection object at 0x7ee2d38a97b8>: Failed to establish a new connection: [Errno -3] Temporary failure in name resolution',)': /simple/xgboost/\u001b[0m\r\n",
      "\u001b[33mWARNING: Retrying (Retry(total=3, connect=None, read=None, redirect=None, status=None)) after connection broken by 'NewConnectionError('<pip._vendor.urllib3.connection.VerifiedHTTPSConnection object at 0x7ee2d38d27f0>: Failed to establish a new connection: [Errno -3] Temporary failure in name resolution',)': /simple/xgboost/\u001b[0m\r\n",
      "\u001b[33mWARNING: Retrying (Retry(total=2, connect=None, read=None, redirect=None, status=None)) after connection broken by 'NewConnectionError('<pip._vendor.urllib3.connection.VerifiedHTTPSConnection object at 0x7ee2d38d2048>: Failed to establish a new connection: [Errno -3] Temporary failure in name resolution',)': /simple/xgboost/\u001b[0m\r\n",
      "\u001b[33mWARNING: Retrying (Retry(total=1, connect=None, read=None, redirect=None, status=None)) after connection broken by 'NewConnectionError('<pip._vendor.urllib3.connection.VerifiedHTTPSConnection object at 0x7ee2d38d2710>: Failed to establish a new connection: [Errno -3] Temporary failure in name resolution',)': /simple/xgboost/\u001b[0m\r\n",
      "\u001b[33mWARNING: Retrying (Retry(total=0, connect=None, read=None, redirect=None, status=None)) after connection broken by 'NewConnectionError('<pip._vendor.urllib3.connection.VerifiedHTTPSConnection object at 0x7ee2d38d2c50>: Failed to establish a new connection: [Errno -3] Temporary failure in name resolution',)': /simple/xgboost/\u001b[0m\r\n",
      "Requirement already up-to-date: xgboost in /opt/conda/lib/python3.6/site-packages (0.90)\r\n",
      "Requirement already satisfied, skipping upgrade: numpy in /opt/conda/lib/python3.6/site-packages (from xgboost) (1.18.1)\r\n",
      "Requirement already satisfied, skipping upgrade: scipy in /opt/conda/lib/python3.6/site-packages (from xgboost) (1.4.1)\r\n",
      "Note: you may need to restart the kernel to use updated packages.\n"
     ]
    }
   ],
   "source": [
    "pip install --upgrade xgboost\n"
   ]
  },
  {
   "cell_type": "code",
   "execution_count": 51,
   "metadata": {
    "execution": {
     "iopub.execute_input": "2023-09-24T16:46:07.835515Z",
     "iopub.status.busy": "2023-09-24T16:46:07.833294Z",
     "iopub.status.idle": "2023-09-24T16:46:08.129390Z",
     "shell.execute_reply": "2023-09-24T16:46:08.128229Z",
     "shell.execute_reply.started": "2023-09-24T16:46:07.835398Z"
    }
   },
   "outputs": [
    {
     "name": "stderr",
     "output_type": "stream",
     "text": [
      "/opt/conda/lib/python3.6/importlib/_bootstrap.py:219: RuntimeWarning: numpy.ufunc size changed, may indicate binary incompatibility. Expected 192 from C header, got 216 from PyObject\n",
      "  return f(*args, **kwds)\n"
     ]
    },
    {
     "name": "stdout",
     "output_type": "stream",
     "text": [
      "Accuracy: 1.0\n"
     ]
    }
   ],
   "source": [
    "from sklearn.datasets import load_iris\n",
    "from sklearn.model_selection import train_test_split\n",
    "from sklearn.metrics import accuracy_score\n",
    "from xgboost import XGBClassifier\n",
    "import pickle\n",
    "\n",
    "# Load sample data (replace this with your actual data)\n",
    "data = load_iris()\n",
    "X, y = data.data, data.target\n",
    "\n",
    "# Split the data into training and testing sets\n",
    "train_X, test_X, train_y, test_y = train_test_split(X, y, test_size=0.2, random_state=42)\n",
    "\n",
    "# Initialize and fit the XGBoost classifier\n",
    "model = XGBClassifier()\n",
    "model.fit(train_X, train_y)\n",
    "\n",
    "# Make predictions on the test set\n",
    "predictions = model.predict(test_X)\n",
    "\n",
    "# Evaluate the model\n",
    "accuracy = accuracy_score(test_y, predictions)\n",
    "print(f\"Accuracy: {accuracy}\")\n"
   ]
  },
  {
   "cell_type": "code",
   "execution_count": 52,
   "metadata": {
    "execution": {
     "iopub.status.busy": "2023-09-24T16:18:14.832955Z",
     "iopub.status.idle": "2023-09-24T16:18:14.833568Z"
    }
   },
   "outputs": [
    {
     "name": "stdout",
     "output_type": "stream",
     "text": [
      "0.90\n"
     ]
    }
   ],
   "source": [
    "import xgboost as xgb\n",
    "print(xgb.__version__)\n"
   ]
  },
  {
   "cell_type": "code",
   "execution_count": 53,
   "metadata": {
    "execution": {
     "iopub.status.busy": "2023-09-24T16:18:14.834551Z",
     "iopub.status.idle": "2023-09-24T16:18:14.835131Z"
    }
   },
   "outputs": [],
   "source": [
    "# Save the model to a pickle file\n",
    "with open('model.pkl', 'wb') as file:\n",
    "    pickle.dump(model, file)"
   ]
  },
  {
   "cell_type": "code",
   "execution_count": 54,
   "metadata": {
    "execution": {
     "iopub.status.busy": "2023-09-24T16:18:14.836150Z",
     "iopub.status.idle": "2023-09-24T16:18:14.836630Z"
    }
   },
   "outputs": [],
   "source": [
    "# Later, you can load the model from the pickle file\n",
    "with open('model.pkl', 'rb') as file:\n",
    "    loaded_model = pickle.load(file)"
   ]
  },
  {
   "cell_type": "code",
   "execution_count": 55,
   "metadata": {
    "execution": {
     "iopub.status.busy": "2023-09-24T16:18:14.837728Z",
     "iopub.status.idle": "2023-09-24T16:18:14.838338Z"
    }
   },
   "outputs": [
    {
     "name": "stdout",
     "output_type": "stream",
     "text": [
      "\u001b[33mWARNING: Retrying (Retry(total=4, connect=None, read=None, redirect=None, status=None)) after connection broken by 'NewConnectionError('<pip._vendor.urllib3.connection.VerifiedHTTPSConnection object at 0x7a243addc940>: Failed to establish a new connection: [Errno -3] Temporary failure in name resolution',)': /simple/xgboost/\u001b[0m\r\n",
      "\u001b[33mWARNING: Retrying (Retry(total=3, connect=None, read=None, redirect=None, status=None)) after connection broken by 'NewConnectionError('<pip._vendor.urllib3.connection.VerifiedHTTPSConnection object at 0x7a243ae05668>: Failed to establish a new connection: [Errno -3] Temporary failure in name resolution',)': /simple/xgboost/\u001b[0m\r\n",
      "\u001b[33mWARNING: Retrying (Retry(total=2, connect=None, read=None, redirect=None, status=None)) after connection broken by 'NewConnectionError('<pip._vendor.urllib3.connection.VerifiedHTTPSConnection object at 0x7a243ae05748>: Failed to establish a new connection: [Errno -3] Temporary failure in name resolution',)': /simple/xgboost/\u001b[0m\r\n",
      "\u001b[33mWARNING: Retrying (Retry(total=1, connect=None, read=None, redirect=None, status=None)) after connection broken by 'NewConnectionError('<pip._vendor.urllib3.connection.VerifiedHTTPSConnection object at 0x7a243ae05f98>: Failed to establish a new connection: [Errno -3] Temporary failure in name resolution',)': /simple/xgboost/\u001b[0m\r\n",
      "\u001b[33mWARNING: Retrying (Retry(total=0, connect=None, read=None, redirect=None, status=None)) after connection broken by 'NewConnectionError('<pip._vendor.urllib3.connection.VerifiedHTTPSConnection object at 0x7a243ae05ba8>: Failed to establish a new connection: [Errno -3] Temporary failure in name resolution',)': /simple/xgboost/\u001b[0m\r\n",
      "Requirement already up-to-date: xgboost in /opt/conda/lib/python3.6/site-packages (0.90)\r\n",
      "Requirement already satisfied, skipping upgrade: scipy in /opt/conda/lib/python3.6/site-packages (from xgboost) (1.4.1)\r\n",
      "Requirement already satisfied, skipping upgrade: numpy in /opt/conda/lib/python3.6/site-packages (from xgboost) (1.18.1)\r\n",
      "Note: you may need to restart the kernel to use updated packages.\n"
     ]
    }
   ],
   "source": [
    "pip install -U xgboost\n"
   ]
  },
  {
   "cell_type": "code",
   "execution_count": 56,
   "metadata": {
    "execution": {
     "iopub.status.busy": "2023-09-24T16:18:14.839463Z",
     "iopub.status.idle": "2023-09-24T16:18:14.839937Z"
    }
   },
   "outputs": [],
   "source": [
    "import pickle\n",
    "\n",
    "# Load the XGBoost model\n",
    "with open('/kaggle/working/model.pkl', 'rb') as model_file:\n",
    "    model = pickle.load(model_file)\n"
   ]
  },
  {
   "cell_type": "code",
   "execution_count": 57,
   "metadata": {
    "execution": {
     "iopub.status.busy": "2023-09-24T16:18:14.841168Z",
     "iopub.status.idle": "2023-09-24T16:18:14.841746Z"
    }
   },
   "outputs": [],
   "source": [
    "import pickle\n",
    "\n",
    "# Load the XGBoost model\n",
    "with open('/kaggle/working/model.pkl', 'rb') as model_file:\n",
    "   model = pickle.load(model_file)\n",
    "\n",
    "# Check for version-related attributes\n",
    "if hasattr(model, 'get_dump'):\n",
    "   print(f\"XGBoost version: {model.get_dump()[0].split()[1]}\")\n"
   ]
  },
  {
   "cell_type": "code",
   "execution_count": 58,
   "metadata": {
    "execution": {
     "iopub.status.busy": "2023-09-24T16:18:14.842823Z",
     "iopub.status.idle": "2023-09-24T16:18:14.843432Z"
    }
   },
   "outputs": [],
   "source": [
    "import pickle\n",
    "\n",
    "# Open the file in a 'with' statement to ensure it's closed properly\n",
    "with open('model.pkl', 'rb') as file:\n",
    "    model = pickle.load(file)\n",
    "\n",
    "# Now the file is automatically closed when you exit the 'with' block\n"
   ]
  },
  {
   "cell_type": "code",
   "execution_count": 59,
   "metadata": {
    "execution": {
     "iopub.status.busy": "2023-09-24T16:18:14.844667Z",
     "iopub.status.idle": "2023-09-24T16:18:14.845125Z"
    }
   },
   "outputs": [
    {
     "name": "stdout",
     "output_type": "stream",
     "text": [
      "Current Directory: /kaggle/working\n"
     ]
    }
   ],
   "source": [
    "import os\n",
    "\n",
    "# Get the current working directory\n",
    "current_directory = os.getcwd()\n",
    "print(\"Current Directory:\", current_directory)\n"
   ]
  },
  {
   "cell_type": "markdown",
   "metadata": {},
   "source": [
    "<b>Conclusion:</b> We see that this approach is not much better than random, although it could have potential given a home-environment data set of better quality and larger size."
   ]
  },
  {
   "cell_type": "markdown",
   "metadata": {},
   "source": [
    "# Final Conclusions"
   ]
  },
  {
   "cell_type": "markdown",
   "metadata": {},
   "source": [
    "\n",
    "In this work, we investigated algorithmic prediction of early Parkinson’s Disease based on the patient’s keyboard tapping characteristics. We apply several different methods, following recent academic papers on the subject. \n",
    "\n",
    "In the first part, we tried to reproduce the results of the first article that initiated the Kaggle challenge. We reached a conclusion that the results given in this article are flawed, and elaborate more on this in the project document.\n",
    "We successfully reproduced the results published in Nature magazine and introduced some significant improvements over it. We also leave leads for future research, by combining the use of asymmetry features in the UPDRS regression process. \n"
   ]
  }
 ],
 "metadata": {
  "kernelspec": {
   "display_name": "Python 3",
   "language": "python",
   "name": "python3"
  },
  "language_info": {
   "codemirror_mode": {
    "name": "ipython",
    "version": 3
   },
   "file_extension": ".py",
   "mimetype": "text/x-python",
   "name": "python",
   "nbconvert_exporter": "python",
   "pygments_lexer": "ipython3",
   "version": "3.6.6"
  }
 },
 "nbformat": 4,
 "nbformat_minor": 4
}
